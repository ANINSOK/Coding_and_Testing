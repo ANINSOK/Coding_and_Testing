{
 "cells": [
  {
   "cell_type": "markdown",
   "id": "6e133826",
   "metadata": {},
   "source": [
    "## LV_1. 정수 내림차순으로 배치하기"
   ]
  },
  {
   "cell_type": "markdown",
   "id": "686132de",
   "metadata": {},
   "source": [
    "함수 solution은 정수 n을 매개변수로 입력받습니다. n의 각 자릿수를 큰것부터 작은 순으로 정렬한 새로운 정수를 리턴해주세요. 예를들어 n이 118372면 873211을 리턴하면 됩니다."
   ]
  },
  {
   "cell_type": "markdown",
   "id": "a2b617c2",
   "metadata": {},
   "source": [
    "### 제한사항"
   ]
  },
  {
   "cell_type": "markdown",
   "id": "1653d6b4",
   "metadata": {},
   "source": [
    "- n은 1이상 8000000000 이하인 자연수입니다."
   ]
  },
  {
   "cell_type": "markdown",
   "id": "7db1ab26",
   "metadata": {},
   "source": [
    "### 입출력 예"
   ]
  },
  {
   "attachments": {
    "image-6.png": {
     "image/png": "[encoded data removed]"
    }
   },
   "cell_type": "markdown",
   "id": "ad55b836",
   "metadata": {},
   "source": [
    "![image-6.png](attachment:image-6.png)"
   ]
  },
  {
   "cell_type": "markdown",
   "id": "5e3370a8",
   "metadata": {},
   "source": [
    "#### 입출력 예 #1\n",
    "\n",
    "- 위와 같습니다.\n",
    "\n",
    "\n",
    "\n",
    "#### 입출력 예 #2\n",
    "\n",
    "- 위와 같습니다."
   ]
  },
  {
   "cell_type": "markdown",
   "id": "18991500",
   "metadata": {},
   "source": [
    "### 내 풀이"
   ]
  },
  {
   "cell_type": "code",
   "execution_count": 64,
   "id": "379d12a6",
   "metadata": {},
   "outputs": [],
   "source": [
    "n = 118372"
   ]
  },
  {
   "cell_type": "code",
   "execution_count": 65,
   "id": "1b8c65c6",
   "metadata": {},
   "outputs": [],
   "source": [
    "n = str(n)\n",
    "ls = []\n",
    "tmp = []\n",
    "tmp2 = []\n",
    "ans = 0\n",
    "for i in n:\n",
    "    ls.append(i)\n",
    "    \n",
    "while len(ls) > 0:\n",
    "    tmp.append(max(ls))\n",
    "    ls.remove(max(ls))\n",
    "    \n",
    "for j in tmp:\n",
    "    j = int(j)\n",
    "    tmp2.append(j)\n",
    "    \n",
    "tmp2\n",
    "a = 1\n",
    "for k in tmp2:\n",
    "    k = k * 10**(len(tmp2)-a)\n",
    "    a += 1\n",
    "    ans = ans+ k\n",
    "    \n",
    "print(ans)\n"
   ]
  },
  {
   "cell_type": "markdown",
   "id": "39616c6c",
   "metadata": {},
   "source": [
    "### 다른 사람 풀이"
   ]
  },
  {
   "cell_type": "code",
   "execution_count": 4,
   "id": "922f58c7",
   "metadata": {},
   "outputs": [],
   "source": [
    "def solution(n):\n",
    "    ls = list(str(n))\n",
    "    ls.sort(reverse = True)\n",
    "    return int(\"\".join(ls))"
   ]
  },
  {
   "cell_type": "code",
   "execution_count": 25,
   "id": "0a051238",
   "metadata": {},
   "outputs": [
    {
     "data": {
      "text/plain": [
       "873211"
      ]
     },
     "execution_count": 25,
     "metadata": {},
     "output_type": "execute_result"
    }
   ],
   "source": [
    "ls = list(str(n))\n",
    "ls.sort(reverse = True)\n",
    "int(\"\".join(ls))"
   ]
  },
  {
   "cell_type": "markdown",
   "id": "71e3c57f",
   "metadata": {},
   "source": [
    "### 다른 사람 풀이 이해하기"
   ]
  },
  {
   "cell_type": "code",
   "execution_count": 74,
   "id": "9eb2726e",
   "metadata": {},
   "outputs": [
    {
     "name": "stdout",
     "output_type": "stream",
     "text": [
      "118372\n",
      "['1', '1', '8', '3', '7', '2']\n",
      "['8', '7', '3', '2', '1', '1']\n",
      "873211\n"
     ]
    }
   ],
   "source": [
    "print(str(n))\n",
    "print(list(str(n)))\n",
    "ls = list(str(n))\n",
    "ls.sort(reverse=True)\n",
    "print(ls)\n",
    "print(int(\"\".join(ls)))"
   ]
  },
  {
   "cell_type": "code",
   "execution_count": 75,
   "id": "25d93434",
   "metadata": {},
   "outputs": [
    {
     "data": {
      "text/plain": [
       "873211"
      ]
     },
     "execution_count": 75,
     "metadata": {},
     "output_type": "execute_result"
    }
   ],
   "source": [
    "ls = list(str(n))\n",
    "ls.sort(reverse=True)\n",
    "ls\n",
    "int(\"\".join(ls))"
   ]
  }
 ],
 "metadata": {
  "kernelspec": {
   "display_name": "Python 3 (ipykernel)",
   "language": "python",
   "name": "python3"
  },
  "language_info": {
   "codemirror_mode": {
    "name": "ipython",
    "version": 3
   },
   "file_extension": ".py",
   "mimetype": "text/x-python",
   "name": "python",
   "nbconvert_exporter": "python",
   "pygments_lexer": "ipython3",
   "version": "3.9.12"
  }
 },
 "nbformat": 4,
 "nbformat_minor": 5
}
