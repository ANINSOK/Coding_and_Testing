{
 "cells": [
  {
   "cell_type": "markdown",
   "id": "6e133826",
   "metadata": {},
   "source": [
    "## LV_1. 내적"
   ]
  },
  {
   "cell_type": "markdown",
   "id": "686132de",
   "metadata": {},
   "source": [
    "길이가 같은 두 1차원 정수 배열 a, b가 매개변수로 주어집니다. a와 b의 내적을 return 하도록 solution 함수를 완성해주세요.\n",
    "\n",
    "이때, a와 b의 내적은 a[0]*b[0] + a[1]*b[1] + ... + a[n-1]*b[n-1] 입니다. (n은 a, b의 길이)"
   ]
  },
  {
   "cell_type": "markdown",
   "id": "a2b617c2",
   "metadata": {},
   "source": [
    "### 제한사항"
   ]
  },
  {
   "cell_type": "markdown",
   "id": "1653d6b4",
   "metadata": {},
   "source": [
    "- a, b의 길이는 1 이상 1,000 이하입니다.\n",
    "- a, b의 모든 수는 -1,000 이상 1,000 이하입니다.\n"
   ]
  },
  {
   "cell_type": "markdown",
   "id": "7db1ab26",
   "metadata": {},
   "source": [
    "### 입출력 예"
   ]
  },
  {
   "attachments": {
    "image-8.png": {
     "image/png": "[encoded data removed]"
    }
   },
   "cell_type": "markdown",
   "id": "ad55b836",
   "metadata": {},
   "source": [
    "![image-8.png](attachment:image-8.png)"
   ]
  },
  {
   "cell_type": "markdown",
   "id": "5e3370a8",
   "metadata": {},
   "source": [
    "#### 입출력 예 #1\n",
    "\n",
    "- a와 b의 내적은 1*(-3) + 2*(-1) + 3*0 + 4*2 = 3 입니다.\n",
    "\n",
    "\n",
    "#### 입출력 예 #2\n",
    "\n",
    "arr의 모든 원소는 1으로 나누어 떨어집니다. 원소를 오름차순으로 정렬해 [1, 2, 3, 36]을 리턴합니다.\n",
    "\n",
    "#### 입출력 예 #3\n",
    "\n",
    "a와 b의 내적은 (-1)*1 + 0*0 + 1*(-1) = -2 입니다."
   ]
  },
  {
   "cell_type": "markdown",
   "id": "18991500",
   "metadata": {},
   "source": [
    "### 내 풀이"
   ]
  },
  {
   "cell_type": "code",
   "execution_count": 2,
   "id": "379d12a6",
   "metadata": {},
   "outputs": [],
   "source": [
    "a = [1,2,3,4]\n",
    "b = [-3,-1,0,2]"
   ]
  },
  {
   "cell_type": "code",
   "execution_count": 3,
   "id": "1b8c65c6",
   "metadata": {},
   "outputs": [],
   "source": [
    "def solution(a, b):\n",
    "    ans = 0\n",
    "\n",
    "    for i in range(0,len(a)):\n",
    "        ans += a[i]*b[i]\n",
    "    return ans"
   ]
  },
  {
   "cell_type": "code",
   "execution_count": 6,
   "id": "12300cb3",
   "metadata": {},
   "outputs": [
    {
     "data": {
      "text/plain": [
       "3"
      ]
     },
     "execution_count": 6,
     "metadata": {},
     "output_type": "execute_result"
    }
   ],
   "source": [
    "solution(a, b)"
   ]
  },
  {
   "cell_type": "markdown",
   "id": "39616c6c",
   "metadata": {},
   "source": [
    "### 다른 사람 풀이"
   ]
  },
  {
   "cell_type": "code",
   "execution_count": 7,
   "id": "0a051238",
   "metadata": {},
   "outputs": [],
   "source": [
    "def solution(a, b):\n",
    "\n",
    "    return sum([x*y for x, y in zip(a,b)])"
   ]
  },
  {
   "cell_type": "code",
   "execution_count": 9,
   "id": "3d3d6e48",
   "metadata": {},
   "outputs": [
    {
     "data": {
      "text/plain": [
       "3"
      ]
     },
     "execution_count": 9,
     "metadata": {},
     "output_type": "execute_result"
    }
   ],
   "source": [
    "solution(a, b)"
   ]
  },
  {
   "cell_type": "markdown",
   "id": "71e3c57f",
   "metadata": {},
   "source": [
    "### 다른 사람 풀이 이해하기"
   ]
  },
  {
   "cell_type": "code",
   "execution_count": 29,
   "id": "25d93434",
   "metadata": {},
   "outputs": [
    {
     "name": "stdout",
     "output_type": "stream",
     "text": [
      "1 -3\n",
      "2 -1\n",
      "3 0\n",
      "4 2\n",
      "==============================\n",
      "-3\n",
      "-2\n",
      "0\n",
      "8\n",
      "==============================\n",
      "[-3, -2, 0, 8]\n",
      "==============================\n"
     ]
    },
    {
     "data": {
      "text/plain": [
       "3"
      ]
     },
     "execution_count": 29,
     "metadata": {},
     "output_type": "execute_result"
    }
   ],
   "source": [
    "for x,y in zip(a,b):\n",
    "    print(x,y)\n",
    "    \n",
    "print(\"=\"*30)\n",
    "\n",
    "for x,y in zip(a,b):\n",
    "    print(x*y)\n",
    "    \n",
    "print(\"=\"*30)\n",
    "\n",
    "print([x*y for x,y in zip(a,b)])\n",
    "\n",
    "print(\"=\"*30)    \n",
    "\n",
    "sum([x*y for x,y in zip(a,b)])"
   ]
  },
  {
   "cell_type": "code",
   "execution_count": null,
   "id": "0fb7a804",
   "metadata": {},
   "outputs": [],
   "source": []
  }
 ],
 "metadata": {
  "kernelspec": {
   "display_name": "Python 3 (ipykernel)",
   "language": "python",
   "name": "python3"
  },
  "language_info": {
   "codemirror_mode": {
    "name": "ipython",
    "version": 3
   },
   "file_extension": ".py",
   "mimetype": "text/x-python",
   "name": "python",
   "nbconvert_exporter": "python",
   "pygments_lexer": "ipython3",
   "version": "3.9.12"
  }
 },
 "nbformat": 4,
 "nbformat_minor": 5
}
