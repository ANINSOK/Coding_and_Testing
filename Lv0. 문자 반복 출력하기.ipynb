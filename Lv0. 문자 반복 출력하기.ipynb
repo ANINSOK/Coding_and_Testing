{
 "cells": [
  {
   "cell_type": "markdown",
   "id": "6e133826",
   "metadata": {},
   "source": [
    "## LV_0. 문자 반복 출력하기"
   ]
  },
  {
   "cell_type": "markdown",
   "id": "686132de",
   "metadata": {},
   "source": [
    "### 문제 설명\n",
    "- 문자열 my_string과 정수 n이 매개변수로 주어질 때, my_string에 들어있는 각 문자를 n만큼 반복한 문자열을 return 하도록 solution 함수를 완성해보세요.\n",
    "\n",
    "- 2 ≤ my_string 길이 ≤ 5\n",
    "- 2 ≤ n ≤ 10\n",
    "- \"my_string\"은 영어 대소문자로 이루어져 있습니다."
   ]
  },
  {
   "cell_type": "markdown",
   "id": "4a585a52",
   "metadata": {},
   "source": [
    "### 입출력 예"
   ]
  },
  {
   "attachments": {
    "image-9.png": {
     "image/png": "[encoded data removed]"
    }
   },
   "cell_type": "markdown",
   "id": "98ff22a4",
   "metadata": {},
   "source": [
    "![image-9.png](attachment:image-9.png)"
   ]
  },
  {
   "cell_type": "markdown",
   "id": "7db1ab26",
   "metadata": {},
   "source": [
    "### 입출력 예 설명\n",
    "\n",
    "- 입출력 예 #1\n",
    "\n",
    "    - \"hello\"의 각 문자를 세 번씩 반복한 \"hhheeellllllooo\"를 return 합니다."
   ]
  },
  {
   "cell_type": "code",
   "execution_count": 5,
   "id": "5d10cd07",
   "metadata": {},
   "outputs": [
    {
     "name": "stdout",
     "output_type": "stream",
     "text": [
      "hhheeellllllooo\n"
     ]
    }
   ],
   "source": [
    "my_string = \"hello\"\n",
    "n = 3\n",
    "ans = \"\"\n",
    "\n",
    "for i in my_string:\n",
    "    ans += i*n\n",
    "print(ans)"
   ]
  },
  {
   "cell_type": "markdown",
   "id": "5a7cf2d2",
   "metadata": {},
   "source": [
    "### 다른 사람 풀이"
   ]
  },
  {
   "cell_type": "code",
   "execution_count": null,
   "id": "eb61c830",
   "metadata": {},
   "outputs": [],
   "source": [
    "def solution(my_string, n):\n",
    "    return ''.join(i*n for i in my_string)"
   ]
  },
  {
   "cell_type": "code",
   "execution_count": null,
   "id": "034ed562",
   "metadata": {},
   "outputs": [],
   "source": []
  }
 ],
 "metadata": {
  "kernelspec": {
   "display_name": "Python 3 (ipykernel)",
   "language": "python",
   "name": "python3"
  },
  "language_info": {
   "codemirror_mode": {
    "name": "ipython",
    "version": 3
   },
   "file_extension": ".py",
   "mimetype": "text/x-python",
   "name": "python",
   "nbconvert_exporter": "python",
   "pygments_lexer": "ipython3",
   "version": "3.9.12"
  }
 },
 "nbformat": 4,
 "nbformat_minor": 5
}
