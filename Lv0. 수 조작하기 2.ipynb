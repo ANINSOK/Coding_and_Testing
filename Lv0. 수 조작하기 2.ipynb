{
 "cells": [
  {
   "cell_type": "markdown",
   "id": "6e133826",
   "metadata": {},
   "source": [
    "## LV_0. 수 조작하기 2"
   ]
  },
  {
   "cell_type": "markdown",
   "id": "686132de",
   "metadata": {},
   "source": [
    "### 문제 설명\n",
    "- 정수 배열 numLog가 주어집니다. 처음에 numLog[0]에서 부터 시작해 \"w\", \"a\", \"s\", \"d\"로 이루어진 문자열을 입력으로 받아 순서대로 다음과 같은 조작을 했다고 합시다.\n",
    "\n",
    "    - \"w\" : 수에 1을 더한다.\n",
    "    - \"s\" : 수에 1을 뺀다.\n",
    "    - \"d\" : 수에 10을 더한다.\n",
    "    - \"a\" : 수에 10을 뺀다.\n",
    "- 그리고 매번 조작을 할 때마다 결괏값을 기록한 정수 배열이 numLog입니다. 즉, numLog[i]는 numLog[0]로부터 총 i번의 조작을 가한 결과가 저장되어 있습니다.\n",
    "\n",
    "- 주어진 정수 배열 numLog에 대해 조작을 위해 입력받은 문자열을 return 하는 solution 함수를 완성해 주세요.\n",
    "\n",
    "\n",
    "\n",
    "- 2 ≤ log의 길이 ≤ 100,000\n",
    "    - -100,000 ≤ log[0] ≤ 100,000\n",
    "    - 1 ≤ i ≤ log의 길이인 모든 i에 대해 |log[i] - log[i - 1]|의 값은 1 또는 10입니다.\n"
   ]
  },
  {
   "cell_type": "markdown",
   "id": "4a585a52",
   "metadata": {},
   "source": [
    "### 입출력 예"
   ]
  },
  {
   "attachments": {
    "image-8.png": {
     "image/png": "[encoded data removed]"
    }
   },
   "cell_type": "markdown",
   "id": "98ff22a4",
   "metadata": {},
   "source": [
    "![image-8.png](attachment:image-8.png)"
   ]
  },
  {
   "cell_type": "markdown",
   "id": "7db1ab26",
   "metadata": {},
   "source": [
    "### 입출력 예 설명\n",
    "\n",
    "- 입출력 예 #1\n",
    "\n",
    "     - result인 \"wsdawsdassw\"를 따라 log[0]에서부터 시작해 조작을 하면 log의 값과 순서대로 일치합니다. 따라서 \"wsdawsdassw\"를 return 합니다.\n"
   ]
  },
  {
   "cell_type": "markdown",
   "id": "5a7cf2d2",
   "metadata": {},
   "source": [
    "### 다른 사람 풀이"
   ]
  },
  {
   "cell_type": "code",
   "execution_count": 2,
   "id": "73c1ab43",
   "metadata": {},
   "outputs": [
    {
     "data": {
      "text/plain": [
       "'wsdawsdassw'"
      ]
     },
     "execution_count": 2,
     "metadata": {},
     "output_type": "execute_result"
    }
   ],
   "source": [
    "log = [0,1,0,10,0,1,0,10,0,-1,-2,-1]\n",
    "key = []\n",
    "ret = \"\"\n",
    "\n",
    "for i,n in enumerate(log):\n",
    "    key.append(n-log[i-1])\n",
    "\n",
    "key = key[1:]\n",
    "\n",
    "for i in key:\n",
    "    if i == 1:\n",
    "        ret += 'w'\n",
    "    elif i == -1:\n",
    "        ret += 's'\n",
    "    elif i == 10:\n",
    "        ret += 'd'\n",
    "    elif i == -10:\n",
    "        ret += 'a'\n",
    "\n",
    "ret"
   ]
  },
  {
   "cell_type": "code",
   "execution_count": 4,
   "id": "f14c3b95",
   "metadata": {},
   "outputs": [],
   "source": [
    "# 다른 사람 풀이\n",
    "def solution(log):\n",
    "    res=''\n",
    "    joystick=dict(zip([1,-1,10,-10],['w','s','d','a']))\n",
    "    for i in range(1,len(log)):\n",
    "        res+=joystick[log[i]-log[i-1]]\n",
    "    return res\n"
   ]
  }
 ],
 "metadata": {
  "kernelspec": {
   "display_name": "Python 3 (ipykernel)",
   "language": "python",
   "name": "python3"
  },
  "language_info": {
   "codemirror_mode": {
    "name": "ipython",
    "version": 3
   },
   "file_extension": ".py",
   "mimetype": "text/x-python",
   "name": "python",
   "nbconvert_exporter": "python",
   "pygments_lexer": "ipython3",
   "version": "3.9.12"
  }
 },
 "nbformat": 4,
 "nbformat_minor": 5
}
