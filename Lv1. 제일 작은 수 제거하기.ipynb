{
 "cells": [
  {
   "cell_type": "markdown",
   "id": "6e133826",
   "metadata": {},
   "source": [
    "## LV_1. 제일 작은 수 제거하기"
   ]
  },
  {
   "cell_type": "markdown",
   "id": "686132de",
   "metadata": {},
   "source": [
    "### 문제 설명\n",
    " - 정수를 저장한 배열, arr 에서 가장 작은 수를 제거한 배열을 리턴하는 함수, solution을 완성해주세요. 단, 리턴하려는 배열이 빈 배열인 경우엔 배열에 -1을 채워 리턴하세요. 예를들어 arr이 [4,3,2,1]인 경우는 [4,3,2]를 리턴 하고, [10]면 [-1]을 리턴 합니다.\n",
    " - arr은 길이 1 이상인 배열입니다.\n",
    " - 인덱스 i, j에 대해 i ≠ j이면 arr[i] ≠ arr[j] 입니다."
   ]
  },
  {
   "cell_type": "markdown",
   "id": "4a585a52",
   "metadata": {},
   "source": [
    "### 입출력 예"
   ]
  },
  {
   "attachments": {
    "image-3.png": {
     "image/png": "[encoded data removed]"
    }
   },
   "cell_type": "markdown",
   "id": "98ff22a4",
   "metadata": {},
   "source": [
    "![image-3.png](attachment:image-3.png)"
   ]
  },
  {
   "cell_type": "markdown",
   "id": "7db1ab26",
   "metadata": {},
   "source": [
    "### 입출력 예 #1\n",
    "\n",
    "- 문제의 예시와 같습니다."
   ]
  },
  {
   "cell_type": "code",
   "execution_count": 70,
   "id": "115cd22e",
   "metadata": {},
   "outputs": [
    {
     "name": "stdout",
     "output_type": "stream",
     "text": [
      "[4, 3, 2]\n"
     ]
    }
   ],
   "source": [
    "# 내 코드 (시간 초과로 떨어짐...)\n",
    "arr = [4,3,2,1]\n",
    "ans = []\n",
    "\n",
    "for i in arr:\n",
    "    if i > min(arr):\n",
    "        ans.append(i)\n",
    "        \n",
    "print(ans)"
   ]
  },
  {
   "cell_type": "code",
   "execution_count": 71,
   "id": "000497e2",
   "metadata": {},
   "outputs": [
    {
     "name": "stdout",
     "output_type": "stream",
     "text": [
      "[4, 3, 2]\n"
     ]
    }
   ],
   "source": [
    "# 정답\n",
    "arr = [4,3,2,1]\n",
    "def solution(arr):\n",
    "    if len(arr) > 1:\n",
    "        arr.remove(min(arr))\n",
    "        return arr\n",
    "    else:\n",
    "        return [-1]\n",
    "        \n",
    "print(solution(arr))"
   ]
  },
  {
   "cell_type": "code",
   "execution_count": 72,
   "id": "c68b5fa7",
   "metadata": {},
   "outputs": [
    {
     "name": "stdout",
     "output_type": "stream",
     "text": [
      "[4, 3, 2]\n"
     ]
    }
   ],
   "source": [
    "# 정답 보고 변형해봄...\n",
    "arr = [4,3,2,1]\n",
    "\n",
    "if len(arr) > 1:\n",
    "    arr.remove(min(arr))\n",
    "else:\n",
    "    arr = [-1]\n",
    "        \n",
    "print(arr)"
   ]
  }
 ],
 "metadata": {
  "kernelspec": {
   "display_name": "Python 3 (ipykernel)",
   "language": "python",
   "name": "python3"
  },
  "language_info": {
   "codemirror_mode": {
    "name": "ipython",
    "version": 3
   },
   "file_extension": ".py",
   "mimetype": "text/x-python",
   "name": "python",
   "nbconvert_exporter": "python",
   "pygments_lexer": "ipython3",
   "version": "3.9.12"
  }
 },
 "nbformat": 4,
 "nbformat_minor": 5
}
