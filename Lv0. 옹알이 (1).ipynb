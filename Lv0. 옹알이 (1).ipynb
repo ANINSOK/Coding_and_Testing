{
 "cells": [
  {
   "cell_type": "markdown",
   "id": "6e133826",
   "metadata": {},
   "source": [
    "## LV_0. 옹알이 (1)"
   ]
  },
  {
   "cell_type": "markdown",
   "id": "686132de",
   "metadata": {},
   "source": [
    "### 문제 설명\n",
    "- 머쓱이는 태어난 지 6개월 된 조카를 돌보고 있습니다. 조카는 아직 \"aya\", \"ye\", \"woo\", \"ma\" 네 가지 발음을 최대 한 번씩 사용해 조합한(이어 붙인) 발음밖에 하지 못합니다. 문자열 배열 babbling이 매개변수로 주어질 때, 머쓱이의 조카가 발음할 수 있는 단어의 개수를 return하도록 solution 함수를 완성해주세요.\n",
    "\n",
    "\n",
    "- 1 ≤ babbling의 길이 ≤ 100\n",
    "- 1 ≤ babbling[i]의 길이 ≤ 15\n",
    "- babbling의 각 문자열에서 \"aya\", \"ye\", \"woo\", \"ma\"는 각각 최대 한 번씩만 등장합니다.\n",
    "    - 즉, 각 문자열의 가능한 모든 부분 문자열 중에서 \"aya\", \"ye\", \"woo\", \"ma\"가 한 번씩만 등장합니다.\n",
    "- 문자열은 알파벳 소문자로만 이루어져 있습니다."
   ]
  },
  {
   "cell_type": "markdown",
   "id": "4a585a52",
   "metadata": {},
   "source": [
    "### 입출력 예"
   ]
  },
  {
   "attachments": {
    "image-8.png": {
     "image/png": "[encoded data removed]"
    }
   },
   "cell_type": "markdown",
   "id": "98ff22a4",
   "metadata": {},
   "source": [
    "![image-8.png](attachment:image-8.png)"
   ]
  },
  {
   "cell_type": "markdown",
   "id": "7db1ab26",
   "metadata": {},
   "source": [
    "### 입출력 예 설명\n",
    "\n",
    "- 입출력 예 #1\n",
    "    - [\"aya\", \"yee\", \"u\", \"maa\", \"wyeoo\"]에서 발음할 수 있는 것은 \"aya\"뿐입니다. 따라서 1을 return합니다.\n",
    "    \n",
    "    \n",
    "    \n",
    "- 입출력 예 #2\n",
    "    - [\"ayaye\", \"uuuma\", \"ye\", \"yemawoo\", \"ayaa\"]에서 발음할 수 있는 것은 \"aya\" + \"ye\" = \"ayaye\", \"ye\", \"ye\" + \"ma\" + \"woo\" = \"yemawoo\"로 3개입니다. 따라서 3을 return합니다.\n",
    "    \n",
    "    \n",
    "- 유의사항\n",
    "    - 네 가지를 붙여 만들 수 있는 발음 이외에는 어떤 발음도 할 수 없는 것으로 규정합니다. 예를 들어 \"woowo\"는 \"woo\"는 발음할 수 있지만 \"wo\"를 발음할 수 없기 때문에 할 수 없는 발음입니다."
   ]
  },
  {
   "cell_type": "code",
   "execution_count": 5,
   "id": "18561035",
   "metadata": {},
   "outputs": [
    {
     "data": {
      "text/plain": [
       "28"
      ]
     },
     "execution_count": 5,
     "metadata": {},
     "output_type": "execute_result"
    }
   ],
   "source": [
    "def solution(babbling):\n",
    "    can = [\"aya\", \"ye\", \"woo\", \"ma\"]\n",
    "    pos = []\n",
    "\n",
    "    for a in can:\n",
    "        pos.append(a)\n",
    "        for b in can:\n",
    "            pos.append(a+b)\n",
    "            for c in can:\n",
    "                pos.append(a+b+c)\n",
    "                for d in can:\n",
    "                    pos.append(a+b+c+d)\n",
    "\n",
    "    count = 0\n",
    "    for i in pos:\n",
    "        for j in babbling:\n",
    "            if i == j:\n",
    "                count +=1\n",
    "    return count"
   ]
  },
  {
   "cell_type": "code",
   "execution_count": 2,
   "id": "527e3152",
   "metadata": {},
   "outputs": [],
   "source": [
    "# 다른 사람 풀이\n",
    "def sumDivisor(num):\n",
    "    # num / 2 의 수들만 검사하면 성능 약 2배 `향상잼\n",
    "    return num + sum([i for i in range(1, (num // 2) + 1) if num % i == 0])"
   ]
  }
 ],
 "metadata": {
  "kernelspec": {
   "display_name": "Python 3 (ipykernel)",
   "language": "python",
   "name": "python3"
  },
  "language_info": {
   "codemirror_mode": {
    "name": "ipython",
    "version": 3
   },
   "file_extension": ".py",
   "mimetype": "text/x-python",
   "name": "python",
   "nbconvert_exporter": "python",
   "pygments_lexer": "ipython3",
   "version": "3.9.12"
  }
 },
 "nbformat": 4,
 "nbformat_minor": 5
}
