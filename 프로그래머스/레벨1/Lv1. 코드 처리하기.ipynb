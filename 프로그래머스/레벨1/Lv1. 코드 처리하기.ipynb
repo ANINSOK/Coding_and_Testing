{
 "cells": [
  {
   "cell_type": "markdown",
   "id": "6e133826",
   "metadata": {},
   "source": [
    "## LV_1. 코드 처리하기"
   ]
  },
  {
   "cell_type": "markdown",
   "id": "686132de",
   "metadata": {},
   "source": [
    "### 문제 설명\n",
    " -문자열 code가 주어집니다.\n",
    "- code를 앞에서부터 읽으면서 만약 문자가 \"1\"이면 mode를 바꿉니다. mode에 따라 code를 읽어가면서 문자열 ret을 만들어냅니다.\n",
    "\n",
    "- mode는 0과 1이 있으며, idx를 0 부터 code의 길이 - 1 까지 1씩 키워나가면서 code[idx]의 값에 따라 다음과 같이 행동합니다.\n",
    "\n",
    "- mode가 0일 때\n",
    "    - code[idx]가 \"1\"이 아니면 idx가 짝수일 때만 ret의 맨 뒤에 code[idx]를 추가합니다.\n",
    "    - code[idx]가 \"1\"이면 mode를 0에서 1로 바꿉니다.\n",
    "- mode가 1일 때\n",
    "    - code[idx]가 \"1\"이 아니면 idx가 홀수일 때만 ret의 맨 뒤에 code[idx]를 추가합니다.\n",
    "    - code[idx]가 \"1\"이면 mode를 1에서 0으로 바꿉니다.\n",
    "    \n",
    "    \n",
    "- 문자열 code를 통해 만들어진 문자열 ret를 return 하는 solution 함수를 완성해 주세요.\n",
    "\n",
    "- 단, 시작할 때 mode는 0이며, return 하려는 ret가 만약 빈 문자열이라면 대신 \"EMPTY\"를 return 합니다.\n",
    "\n",
    "\n",
    "- 1 ≤ code의 길이 ≤ 100,000\n",
    "    - code는 알파벳 소문자 또는 \"1\"로 이루어진 문자열입니다."
   ]
  },
  {
   "cell_type": "markdown",
   "id": "4a585a52",
   "metadata": {},
   "source": [
    "### 입출력 예"
   ]
  },
  {
   "attachments": {
    "image-4.png": {
     "image/png": "[encoded data removed]"
    }
   },
   "cell_type": "markdown",
   "id": "98ff22a4",
   "metadata": {},
   "source": [
    "![image-4.png](attachment:image-4.png)"
   ]
  },
  {
   "cell_type": "markdown",
   "id": "7db1ab26",
   "metadata": {},
   "source": [
    "### 입출력 예 #1\n",
    "\n",
    "- 문제의 예시와 같습니다."
   ]
  },
  {
   "cell_type": "code",
   "execution_count": 64,
   "id": "18561035",
   "metadata": {},
   "outputs": [
    {
     "data": {
      "text/plain": [
       "'acbac'"
      ]
     },
     "execution_count": 64,
     "metadata": {},
     "output_type": "execute_result"
    }
   ],
   "source": [
    "ret = \"\"\n",
    "mode = 0\n",
    "code = \"abc1abc1abc\"\n",
    "def solution(code):\n",
    "    ret = \"\"\n",
    "    mode = 0\n",
    "    for i,n in enumerate(code):\n",
    "        if mode == 0:\n",
    "            if (n != \"1\")&(i%2==0):\n",
    "                ret = ret + n\n",
    "            elif (n == \"1\"):\n",
    "                mode = 1\n",
    "\n",
    "        elif mode == 1:\n",
    "            if (n != \"1\") & (i%2!=0):\n",
    "                ret = ret + n\n",
    "            elif (n == '1'):\n",
    "                mode = 0\n",
    "        \n",
    "            if ret == \"\":\n",
    "                ret = \"EMPTY\"\n",
    "        \n",
    "    return ret\n",
    "\n",
    "solution(code)"
   ]
  }
 ],
 "metadata": {
  "kernelspec": {
   "display_name": "Python 3 (ipykernel)",
   "language": "python",
   "name": "python3"
  },
  "language_info": {
   "codemirror_mode": {
    "name": "ipython",
    "version": 3
   },
   "file_extension": ".py",
   "mimetype": "text/x-python",
   "name": "python",
   "nbconvert_exporter": "python",
   "pygments_lexer": "ipython3",
   "version": "3.9.12"
  }
 },
 "nbformat": 4,
 "nbformat_minor": 5
}
