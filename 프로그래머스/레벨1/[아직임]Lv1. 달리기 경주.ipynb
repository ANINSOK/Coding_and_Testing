{
 "cells": [
  {
   "cell_type": "markdown",
   "id": "6e133826",
   "metadata": {},
   "source": [
    "## LV_1. K번째수"
   ]
  },
  {
   "cell_type": "markdown",
   "id": "686132de",
   "metadata": {},
   "source": [
    "얀에서는 매년 달리기 경주가 열립니다. 해설진들은 선수들이 자기 바로 앞의 선수를 추월할 때 추월한 선수의 이름을 부릅니다. 예를 들어 1등부터 3등까지 \"mumu\", \"soe\", \"poe\" 선수들이 순서대로 달리고 있을 때, 해설진이 \"soe\"선수를 불렀다면 2등인 \"soe\" 선수가 1등인 \"mumu\" 선수를 추월했다는 것입니다. 즉 \"soe\" 선수가 1등, \"mumu\" 선수가 2등으로 바뀝니다.\n",
    "\n",
    "선수들의 이름이 1등부터 현재 등수 순서대로 담긴 문자열 배열 players와 해설진이 부른 이름을 담은 문자열 배열 callings가 매개변수로 주어질 때, 경주가 끝났을 때 선수들의 이름을 1등부터 등수 순서대로 배열에 담아 return 하는 solution 함수를 완성해주세요."
   ]
  },
  {
   "cell_type": "markdown",
   "id": "a2b617c2",
   "metadata": {},
   "source": [
    "### 제한사항"
   ]
  },
  {
   "cell_type": "markdown",
   "id": "1653d6b4",
   "metadata": {},
   "source": [
    "- 5 ≤ players의 길이 ≤ 50,000\n",
    "    - players[i]는 i번째 선수의 이름을 의미합니다.\n",
    "    - players의 원소들은 알파벳 소문자로만 이루어져 있습니다.\n",
    "    - players에는 중복된 값이 들어가 있지 않습니다.\n",
    "    - 3 ≤ players[i]의 길이 ≤ 10\n",
    "- 2 ≤ callings의 길이 ≤ 1,000,000\n",
    "    - callings는 players의 원소들로만 이루어져 있습니다.\n",
    "    - 경주 진행중 1등인 선수의 이름은 불리지 않습니다."
   ]
  },
  {
   "cell_type": "markdown",
   "id": "7db1ab26",
   "metadata": {},
   "source": [
    "### 입출력 예"
   ]
  },
  {
   "attachments": {
    "image.png": {
     "image/png": "[encoded data removed]"
    }
   },
   "cell_type": "markdown",
   "id": "ad55b836",
   "metadata": {},
   "source": [
    "![image.png](attachment:image.png)"
   ]
  },
  {
   "cell_type": "markdown",
   "id": "6ec32b50",
   "metadata": {},
   "source": [
    "### 입출력 예#1\n",
    "\n",
    "4등인 \"kai\" 선수가 2번 추월하여 2등이 되고 앞서 3등, 2등인 \"poe\", \"soe\" 선수는 4등, 3등이 됩니다. 5등인 \"mine\" 선수가 2번 추월하여 4등, 3등인 \"poe\", \"soe\" 선수가 5등, 4등이 되고 경주가 끝납니다. 1등부터 배열에 담으면 [\"mumu\", \"kai\", \"mine\", \"soe\", \"poe\"]이 됩니다."
   ]
  },
  {
   "cell_type": "markdown",
   "id": "18991500",
   "metadata": {},
   "source": [
    "### 내 풀이"
   ]
  },
  {
   "cell_type": "code",
   "execution_count": 53,
   "id": "339419c9",
   "metadata": {},
   "outputs": [
    {
     "data": {
      "text/plain": [
       "[5, 6, 3]"
      ]
     },
     "execution_count": 53,
     "metadata": {},
     "output_type": "execute_result"
    }
   ],
   "source": [
    "players = [\"mumu\", \"soe\", \"poe\", \"kai\", \"mine\"]\n",
    "callings = [\"kai\", \"kai\", \"mine\", \"mine\"]\n",
    "\n",
    "\n",
    "def solution(players, callings):\n",
    "    player_indices = {player: index for index, player in enumerate(players)}\n",
    "    \n",
    "    sorted_players = sorted(players, key=lambda player: player_indices[player])\n",
    "    \n",
    "    for player in callings:\n",
    "        rank = player_indices[player]\n",
    "        if rank > 0:\n",
    "            sorted_players[rank], sorted_players[rank-1] = sorted_players[rank-1], sorted_players[rank]\n",
    "            player_indices[sorted_players[rank]] = rank\n",
    "            player_indices[sorted_players[rank-1]] = rank - 1\n",
    "    \n",
    "    return sorted_players\n",
    "\n",
    "\n",
    "solution(players, callings)"
   ]
  },
  {
   "cell_type": "markdown",
   "id": "39616c6c",
   "metadata": {},
   "source": [
    "### 다른 사람 풀이"
   ]
  },
  {
   "cell_type": "markdown",
   "id": "71e3c57f",
   "metadata": {},
   "source": [
    "### 다른 사람 풀이 이해하기"
   ]
  },
  {
   "cell_type": "code",
   "execution_count": null,
   "id": "e0f094ac",
   "metadata": {},
   "outputs": [],
   "source": []
  }
 ],
 "metadata": {
  "kernelspec": {
   "display_name": "Python 3 (ipykernel)",
   "language": "python",
   "name": "python3"
  },
  "language_info": {
   "codemirror_mode": {
    "name": "ipython",
    "version": 3
   },
   "file_extension": ".py",
   "mimetype": "text/x-python",
   "name": "python",
   "nbconvert_exporter": "python",
   "pygments_lexer": "ipython3",
   "version": "3.9.12"
  }
 },
 "nbformat": 4,
 "nbformat_minor": 5
}
