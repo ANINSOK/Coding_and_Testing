{
 "cells": [
  {
   "cell_type": "markdown",
   "id": "6e133826",
   "metadata": {},
   "source": [
    "## LV_1. 소수 만들기"
   ]
  },
  {
   "cell_type": "markdown",
   "id": "686132de",
   "metadata": {},
   "source": [
    "주어진 숫자 중 3개의 수를 더했을 때 소수가 되는 경우의 개수를 구하려고 합니다. 숫자들이 들어있는 배열 nums가 매개변수로 주어질 때, nums에 있는 숫자들 중 서로 다른 3개를 골라 더했을 때 소수가 되는 경우의 개수를 return 하도록 solution 함수를 완성해주세요."
   ]
  },
  {
   "cell_type": "markdown",
   "id": "a2b617c2",
   "metadata": {},
   "source": [
    "### 제한사항"
   ]
  },
  {
   "cell_type": "markdown",
   "id": "1653d6b4",
   "metadata": {},
   "source": [
    "- nums에 들어있는 숫자의 개수는 3개 이상 50개 이하입니다.\n",
    "- nums의 각 원소는 1 이상 1,000 이하의 자연수이며, 중복된 숫자가 들어있지 않습니다."
   ]
  },
  {
   "cell_type": "markdown",
   "id": "7db1ab26",
   "metadata": {},
   "source": [
    "### 입출력 예"
   ]
  },
  {
   "attachments": {
    "image-2.png": {
     "image/png": "[encoded data removed]"
    }
   },
   "cell_type": "markdown",
   "id": "ad55b836",
   "metadata": {},
   "source": [
    "![image-2.png](attachment:image-2.png)"
   ]
  },
  {
   "cell_type": "markdown",
   "id": "6ec32b50",
   "metadata": {},
   "source": [
    "### 입출력 예 #1\n",
    "[1,2,4]를 이용해서 7을 만들 수 있습니다.\n",
    "\n",
    "### 입출력 예 #2\n",
    "[1,2,4]를 이용해서 7을 만들 수 있습니다.\n",
    "\n",
    "[1,4,6]을 이용해서 11을 만들 수 있습니다.\n",
    "\n",
    "[2,4,7]을 이용해서 13을 만들 수 있습니다.\n",
    "\n",
    "[4,6,7]을 이용해서 17을 만들 수 있습니다."
   ]
  },
  {
   "cell_type": "markdown",
   "id": "18991500",
   "metadata": {},
   "source": [
    "### 내 풀이"
   ]
  },
  {
   "cell_type": "code",
   "execution_count": 34,
   "id": "d7fcc101",
   "metadata": {},
   "outputs": [],
   "source": [
    "nums = [1,2,3,4]"
   ]
  },
  {
   "cell_type": "code",
   "execution_count": 48,
   "id": "c841d46e",
   "metadata": {},
   "outputs": [
    {
     "name": "stdout",
     "output_type": "stream",
     "text": [
      "(1, 2, 3)\n",
      "(1, 2, 4)\n",
      "(1, 3, 4)\n",
      "(2, 3, 4)\n"
     ]
    }
   ],
   "source": [
    "# 1. nums 안에서 3개를 뽑아 만들 수 있는 조합 구하기\n",
    "import itertools\n",
    "combinations = itertools.combinations(nums, 3)\n",
    "for combination in combinations:\n",
    "    print(combination)"
   ]
  },
  {
   "cell_type": "code",
   "execution_count": 49,
   "id": "56224b2a",
   "metadata": {},
   "outputs": [
    {
     "name": "stdout",
     "output_type": "stream",
     "text": [
      "[6, 7, 8, 9]\n"
     ]
    }
   ],
   "source": [
    "# 2. nums 안에서 3개를 뽑아 만들 수 있는 합계 구하기\n",
    "import itertools\n",
    "combinations = itertools.combinations(nums, 3)\n",
    "tmp = []\n",
    "for combination in combinations:\n",
    "    total_sum = sum(combination)\n",
    "    tmp.append(total_sum)\n",
    "print(tmp)"
   ]
  },
  {
   "cell_type": "code",
   "execution_count": 51,
   "id": "4ae2308a",
   "metadata": {},
   "outputs": [
    {
     "name": "stdout",
     "output_type": "stream",
     "text": [
      "{3, 5, 7}\n"
     ]
    }
   ],
   "source": [
    "# 3. 만들수 있는 숫자 조합중 가장 큰 수보다 작은 소수 모두 구하기\n",
    "num = set(range(3, max(tmp)+1, 2)) \n",
    "for i in range(3, int(math.sqrt(max(tmp)))+1): # 3에서부터 제곱근에 해당하는 수 \n",
    "    if i in num:\n",
    "        num-=set(range(2*i,max(tmp)+1,i))\n",
    "print(num)"
   ]
  },
  {
   "cell_type": "code",
   "execution_count": 53,
   "id": "dfe47602",
   "metadata": {},
   "outputs": [
    {
     "data": {
      "text/plain": [
       "1"
      ]
     },
     "execution_count": 53,
     "metadata": {},
     "output_type": "execute_result"
    }
   ],
   "source": [
    "# 4. 2번에서 구한 합산이 소수인지 아닌지 판단하기\n",
    "cnt = 0\n",
    "for i in tmp:\n",
    "    if i in num:\n",
    "        cnt += 1\n",
    "cnt"
   ]
  },
  {
   "cell_type": "code",
   "execution_count": 54,
   "id": "016a33f4",
   "metadata": {},
   "outputs": [
    {
     "data": {
      "text/plain": [
       "1"
      ]
     },
     "execution_count": 54,
     "metadata": {},
     "output_type": "execute_result"
    }
   ],
   "source": [
    "import itertools\n",
    "import math\n",
    "\n",
    "def solution(nums):\n",
    "    combinations = itertools.combinations(nums, 3)\n",
    "    tmp = []\n",
    "    for combination in combinations:\n",
    "        total_sum = sum(combination)\n",
    "        tmp.append(total_sum)\n",
    "\n",
    "\n",
    "    num = set(range(3, max(tmp)+1, 2)) \n",
    "    for i in range(3, int(math.sqrt(max(tmp)))+1): # 3에서부터 제곱근에 해당하는 수 \n",
    "        if i in num:\n",
    "            num-=set(range(2*i,max(tmp)+1,i))\n",
    "\n",
    "    cnt = 0\n",
    "    for i in tmp:\n",
    "        if i in num:\n",
    "            cnt += 1\n",
    "\n",
    "    return cnt\n",
    "\n",
    "solution(nums)"
   ]
  },
  {
   "cell_type": "markdown",
   "id": "39616c6c",
   "metadata": {},
   "source": [
    "### 다른 사람 풀이"
   ]
  },
  {
   "cell_type": "code",
   "execution_count": 57,
   "id": "901d49d2",
   "metadata": {},
   "outputs": [
    {
     "data": {
      "text/plain": [
       "4"
      ]
     },
     "execution_count": 57,
     "metadata": {},
     "output_type": "execute_result"
    }
   ],
   "source": [
    "from itertools import combinations as cb\n",
    "nums = [1,2,7,6,4]\n",
    "def solution(nums):\n",
    "    answer = 0\n",
    "    for a in cb(nums, 3):\n",
    "        cand = sum(a)\n",
    "        for j in range(2, cand):\n",
    "            if cand%j==0:\n",
    "                break\n",
    "        else:\n",
    "            answer += 1\n",
    "    return answer\n",
    "solution(nums)"
   ]
  }
 ],
 "metadata": {
  "kernelspec": {
   "display_name": "Python 3 (ipykernel)",
   "language": "python",
   "name": "python3"
  },
  "language_info": {
   "codemirror_mode": {
    "name": "ipython",
    "version": 3
   },
   "file_extension": ".py",
   "mimetype": "text/x-python",
   "name": "python",
   "nbconvert_exporter": "python",
   "pygments_lexer": "ipython3",
   "version": "3.8.10"
  }
 },
 "nbformat": 4,
 "nbformat_minor": 5
}
