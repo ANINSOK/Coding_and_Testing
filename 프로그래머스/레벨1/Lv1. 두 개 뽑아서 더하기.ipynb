{
 "cells": [
  {
   "cell_type": "markdown",
   "id": "6e133826",
   "metadata": {},
   "source": [
    "## LV_1. 두 개 뽑아서 더하기"
   ]
  },
  {
   "cell_type": "markdown",
   "id": "ee6167fd",
   "metadata": {},
   "source": [
    "\n",
    "정수 배열 numbers가 주어집니다. numbers에서 서로 다른 인덱스에 있는 두 개의 수를 뽑아 더해서 만들 수 있는 모든 수를 배열에 오름차순으로 담아 return 하도록 solution 함수를 완성해주세요."
   ]
  },
  {
   "cell_type": "markdown",
   "id": "a2b617c2",
   "metadata": {},
   "source": [
    "### 제한사항"
   ]
  },
  {
   "cell_type": "markdown",
   "id": "1653d6b4",
   "metadata": {},
   "source": [
    "- numbers의 길이는 2 이상 100 이하입니다.\n",
    "    - numbers의 모든 수는 0 이상 100 이하입니다."
   ]
  },
  {
   "cell_type": "markdown",
   "id": "7db1ab26",
   "metadata": {},
   "source": [
    "### 입출력 예"
   ]
  },
  {
   "attachments": {
    "image-2.png": {
     "image/png": "[encoded data removed]"
    }
   },
   "cell_type": "markdown",
   "id": "ad55b836",
   "metadata": {},
   "source": [
    "![image-2.png](attachment:image-2.png)"
   ]
  },
  {
   "cell_type": "markdown",
   "id": "6ec32b50",
   "metadata": {},
   "source": [
    "### 입출력 예 #1\n",
    "\n",
    "- 2 = 1 + 1 입니다. (1이 numbers에 두 개 있습니다.)\n",
    "- 3 = 2 + 1 입니다.\n",
    "- 4 = 1 + 3 입니다.\n",
    "- 5 = 1 + 4 = 2 + 3 입니다.\n",
    "- 6 = 2 + 4 입니다.\n",
    "- 7 = 3 + 4 입니다.\n",
    "\n",
    "따라서 [2,3,4,5,6,7] 을 return 해야 합니다.\n",
    "\n",
    "\n",
    "### 입출력 예 #2\n",
    "\n",
    "- 2 = 0 + 2 입니다.\n",
    "- 5 = 5 + 0 입니다.\n",
    "- 7 = 0 + 7 = 5 + 2 입니다.\n",
    "- 9 = 2 + 7 입니다.\n",
    "- 12 = 5 + 7 입니다.\n",
    "\n",
    "따라서 [2,5,7,9,12] 를 return 해야 합니다."
   ]
  },
  {
   "cell_type": "markdown",
   "id": "18991500",
   "metadata": {},
   "source": [
    "### 내 풀이"
   ]
  },
  {
   "cell_type": "code",
   "execution_count": 14,
   "id": "ab988cdb",
   "metadata": {},
   "outputs": [
    {
     "data": {
      "text/plain": [
       "[2, 5, 7, 9, 12]"
      ]
     },
     "execution_count": 14,
     "metadata": {},
     "output_type": "execute_result"
    }
   ],
   "source": [
    "# 어제 공부했던 라이브러리 그대로 적용해서 풀 줄 아니까 기분 좋당~\n",
    "numbers = [5,0,2,7]\n",
    "\n",
    "from itertools import combinations as cb\n",
    "\n",
    "def solution(numbers):\n",
    "    combination = cb(numbers, 2) \n",
    "    combination = [sum(i) for i in combination]\n",
    "    combination = list(set(combination))\n",
    "    combination.sort()\n",
    "    return combination\n",
    "\n",
    "solution(numbers)"
   ]
  },
  {
   "cell_type": "markdown",
   "id": "39616c6c",
   "metadata": {},
   "source": [
    "### 다른 사람 풀이"
   ]
  },
  {
   "cell_type": "code",
   "execution_count": 17,
   "id": "a122817f",
   "metadata": {},
   "outputs": [
    {
     "data": {
      "text/plain": [
       "[2, 5, 7, 9, 12]"
      ]
     },
     "execution_count": 17,
     "metadata": {},
     "output_type": "execute_result"
    }
   ],
   "source": [
    "numbers = [5,0,2,7]\n",
    "\n",
    "#순서대로 하나씩 더하고 합치면서 set으로 중복 확인 및 sorted로 정렬\n",
    "\n",
    "def solution(numbers):\n",
    "    answer = []\n",
    "    for i in range(len(numbers)):\n",
    "        for j in range(i+1, len(numbers)):\n",
    "            answer.append(numbers[i] + numbers[j])\n",
    "    return sorted(list(set(answer)))\n",
    "\n",
    "solution(numbers)"
   ]
  },
  {
   "cell_type": "code",
   "execution_count": null,
   "id": "c03fae1d",
   "metadata": {},
   "outputs": [],
   "source": []
  }
 ],
 "metadata": {
  "kernelspec": {
   "display_name": "Python 3 (ipykernel)",
   "language": "python",
   "name": "python3"
  },
  "language_info": {
   "codemirror_mode": {
    "name": "ipython",
    "version": 3
   },
   "file_extension": ".py",
   "mimetype": "text/x-python",
   "name": "python",
   "nbconvert_exporter": "python",
   "pygments_lexer": "ipython3",
   "version": "3.8.10"
  }
 },
 "nbformat": 4,
 "nbformat_minor": 5
}
