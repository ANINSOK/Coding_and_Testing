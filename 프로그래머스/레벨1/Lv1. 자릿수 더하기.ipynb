{
 "cells": [
  {
   "cell_type": "markdown",
   "id": "6e133826",
   "metadata": {},
   "source": [
    "## LV_1. 자릿수 더하기"
   ]
  },
  {
   "cell_type": "markdown",
   "id": "686132de",
   "metadata": {},
   "source": [
    "### 문제 설명\n",
    " - 자연수 N이 주어지면, N의 각 자릿수의 합을 구해서 return 하는 solution 함수를 만들어 주세요. 예를들어 N = 123이면 1 + 2 + 3 = 6을 return 하면 됩니다.\n",
    " - N의 범위 : 100,000,000 이하의 자연수"
   ]
  },
  {
   "cell_type": "markdown",
   "id": "4a585a52",
   "metadata": {},
   "source": [
    "### 입출력 예"
   ]
  },
  {
   "attachments": {
    "image-2.png": {
     "image/png": "[encoded data removed]"
    }
   },
   "cell_type": "markdown",
   "id": "98ff22a4",
   "metadata": {},
   "source": [
    "![image-2.png](attachment:image-2.png)"
   ]
  },
  {
   "cell_type": "markdown",
   "id": "7db1ab26",
   "metadata": {},
   "source": [
    "### 입출력 예 #1\n",
    "\n",
    "- 문제의 예시와 같습니다.\n",
    "\n",
    "### 입출력 예 #2\n",
    "\n",
    "- 9 + 8 + 7 = 24이므로 24를 return 하면 됩니다."
   ]
  },
  {
   "cell_type": "code",
   "execution_count": 112,
   "id": "115cd22e",
   "metadata": {},
   "outputs": [
    {
     "data": {
      "text/plain": [
       "6"
      ]
     },
     "execution_count": 112,
     "metadata": {},
     "output_type": "execute_result"
    }
   ],
   "source": [
    "n = 123\n",
    "ans = []\n",
    "n = str(n)\n",
    "for i in n:\n",
    "    i = int(i)\n",
    "    ans.append(i)\n",
    "    \n",
    "sum(ans)"
   ]
  },
  {
   "cell_type": "code",
   "execution_count": 113,
   "id": "349c85e3",
   "metadata": {},
   "outputs": [
    {
     "data": {
      "text/plain": [
       "24"
      ]
     },
     "execution_count": 113,
     "metadata": {},
     "output_type": "execute_result"
    }
   ],
   "source": [
    "n = 987\n",
    "ans = []\n",
    "n = str(n)\n",
    "for i in n:\n",
    "    i = int(i)\n",
    "    ans.append(i)\n",
    "    \n",
    "sum(ans)"
   ]
  }
 ],
 "metadata": {
  "kernelspec": {
   "display_name": "Python 3 (ipykernel)",
   "language": "python",
   "name": "python3"
  },
  "language_info": {
   "codemirror_mode": {
    "name": "ipython",
    "version": 3
   },
   "file_extension": ".py",
   "mimetype": "text/x-python",
   "name": "python",
   "nbconvert_exporter": "python",
   "pygments_lexer": "ipython3",
   "version": "3.9.12"
  }
 },
 "nbformat": 4,
 "nbformat_minor": 5
}
