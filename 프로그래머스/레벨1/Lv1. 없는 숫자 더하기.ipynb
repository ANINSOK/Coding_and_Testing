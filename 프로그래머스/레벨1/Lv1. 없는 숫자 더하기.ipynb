{
 "cells": [
  {
   "cell_type": "markdown",
   "id": "6e133826",
   "metadata": {},
   "source": [
    "## LV_1. 없는 숫자 더하기"
   ]
  },
  {
   "cell_type": "markdown",
   "id": "ee6167fd",
   "metadata": {},
   "source": [
    "0부터 9까지의 숫자 중 일부가 들어있는 정수 배열 numbers가 매개변수로 주어집니다. numbers에서 찾을 수 없는 0부터 9까지의 숫자를 모두 찾아 더한 수를 return 하도록 solution 함수를 완성해주세요."
   ]
  },
  {
   "cell_type": "markdown",
   "id": "a2b617c2",
   "metadata": {},
   "source": [
    "### 제한사항"
   ]
  },
  {
   "cell_type": "markdown",
   "id": "1653d6b4",
   "metadata": {},
   "source": [
    "- 1 ≤ numbers의 길이 ≤ 9\n",
    "    - 0 ≤ numbers의 모든 원소 ≤ 9\n",
    "    - numbers의 모든 원소는 서로 다릅니다.\n",
    "\n"
   ]
  },
  {
   "cell_type": "markdown",
   "id": "7db1ab26",
   "metadata": {},
   "source": [
    "### 입출력 예"
   ]
  },
  {
   "attachments": {
    "image.png": {
     "image/png": "[encoded data removed]"
    }
   },
   "cell_type": "markdown",
   "id": "ad55b836",
   "metadata": {},
   "source": [
    "![image.png](attachment:image.png)"
   ]
  },
  {
   "cell_type": "markdown",
   "id": "6ec32b50",
   "metadata": {},
   "source": [
    "### 입출력 예 #1\n",
    "\n",
    "5, 9가 numbers에 없으므로, 5 + 9 = 14를 return 해야 합니다.\n",
    "\n",
    "### 입출력 예 #2\n",
    "\n",
    "1, 2, 3이 numbers에 없으므로, 1 + 2 + 3 = 6을 return 해야 합니다."
   ]
  },
  {
   "cell_type": "markdown",
   "id": "18991500",
   "metadata": {},
   "source": [
    "### 내 풀이"
   ]
  },
  {
   "cell_type": "code",
   "execution_count": 5,
   "id": "2e4dbea5",
   "metadata": {},
   "outputs": [
    {
     "data": {
      "text/plain": [
       "14"
      ]
     },
     "execution_count": 5,
     "metadata": {},
     "output_type": "execute_result"
    }
   ],
   "source": [
    "numbers = [1,2,3,4,6,7,8,0]\n",
    "tmp = [0,1,2,3,4,5,6,7,8,9]\n",
    "\n",
    "def solution(numbers):\n",
    "    for i in numbers:\n",
    "        if i in tmp:\n",
    "            tmp.remove(i)\n",
    "    return sum(tmp)\n",
    "\n",
    "solution(numbers)"
   ]
  },
  {
   "cell_type": "markdown",
   "id": "39616c6c",
   "metadata": {},
   "source": [
    "### 다른 사람 풀이"
   ]
  },
  {
   "cell_type": "code",
   "execution_count": 6,
   "id": "ec2aaa25",
   "metadata": {},
   "outputs": [
    {
     "data": {
      "text/plain": [
       "14"
      ]
     },
     "execution_count": 6,
     "metadata": {},
     "output_type": "execute_result"
    }
   ],
   "source": [
    "# 오 이거 대박이네 ㅋㅋㅋㅋ\n",
    "numbers = [1,2,3,4,6,7,8,0]\n",
    "\n",
    "def solution(numbers):\n",
    "    return 45 - sum(numbers)\n",
    "\n",
    "solution(numbers)"
   ]
  }
 ],
 "metadata": {
  "kernelspec": {
   "display_name": "Python 3 (ipykernel)",
   "language": "python",
   "name": "python3"
  },
  "language_info": {
   "codemirror_mode": {
    "name": "ipython",
    "version": 3
   },
   "file_extension": ".py",
   "mimetype": "text/x-python",
   "name": "python",
   "nbconvert_exporter": "python",
   "pygments_lexer": "ipython3",
   "version": "3.8.10"
  }
 },
 "nbformat": 4,
 "nbformat_minor": 5
}
