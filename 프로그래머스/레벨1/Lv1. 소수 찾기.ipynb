{
 "cells": [
  {
   "cell_type": "markdown",
   "id": "6e133826",
   "metadata": {},
   "source": [
    "## LV_1. 소수 찾기"
   ]
  },
  {
   "attachments": {},
   "cell_type": "markdown",
   "id": "686132de",
   "metadata": {},
   "source": [
    "1부터 입력받은 숫자 n 사이에 있는 소수의 개수를 반환하는 함수, solution을 만들어 보세요.\n",
    "\n",
    "소수는 1과 자기 자신으로만 나누어지는 수를 의미합니다.\n",
    "(1은 소수가 아닙니다.)"
   ]
  },
  {
   "cell_type": "markdown",
   "id": "a2b617c2",
   "metadata": {},
   "source": [
    "### 제한사항"
   ]
  },
  {
   "cell_type": "markdown",
   "id": "1653d6b4",
   "metadata": {},
   "source": [
    "- n은 2이상 1000000이하의 자연수입니다."
   ]
  },
  {
   "cell_type": "markdown",
   "id": "7db1ab26",
   "metadata": {},
   "source": [
    "### 입출력 예"
   ]
  },
  {
   "attachments": {
    "image-18.png": {
     "image/png": "[encoded data removed]"
    }
   },
   "cell_type": "markdown",
   "id": "ad55b836",
   "metadata": {},
   "source": [
    "![image-18.png](attachment:image-18.png)"
   ]
  },
  {
   "attachments": {},
   "cell_type": "markdown",
   "id": "6ec32b50",
   "metadata": {},
   "source": [
    "### 입출력 예 #1\n",
    "\n",
    "1부터 10 사이의 소수는 [2,3,5,7] 4개가 존재하므로 4를 반환\n",
    "\n",
    "### 입출력 예 #2\n",
    "\n",
    "1부터 5 사이의 소수는 [2,3,5] 3개가 존재하므로 3를 반환"
   ]
  },
  {
   "cell_type": "markdown",
   "id": "18991500",
   "metadata": {},
   "source": [
    "### 내 풀이"
   ]
  },
  {
   "cell_type": "code",
   "execution_count": 69,
   "id": "77d7c135",
   "metadata": {},
   "outputs": [
    {
     "data": {
      "text/plain": [
       "25"
      ]
     },
     "execution_count": 69,
     "metadata": {},
     "output_type": "execute_result"
    }
   ],
   "source": [
    "import math\n",
    "n=100\n",
    "\n",
    "def count_prime_numbers(n):\n",
    "    count = 0\n",
    "    ls = []\n",
    "    for num in range(2, n+1):  # 2부터 n까지의 숫자를 반복\n",
    "        is_prime = True  # 현재 숫자를 소수로 초기화\n",
    "        for i in range(2, int(math.sqrt(num)) + 1):  # 2부터 현재 숫자의 제곱근까지의 숫자를 반복\n",
    "            if num % i == 0:  # 나누어 떨어지는 숫자가 있으면 소수가 아님\n",
    "                is_prime = False  # 현재 숫자를 소수가 아닌 것으로 표시\n",
    "                break\n",
    "        if is_prime:  # 현재 숫자가 소수인 경우\n",
    "            count += 1  # 소수 개수 증가\n",
    "    return count\n",
    "\n",
    "count_prime_numbers(n)"
   ]
  },
  {
   "cell_type": "markdown",
   "id": "39616c6c",
   "metadata": {},
   "source": [
    "### 다른 사람 풀이"
   ]
  },
  {
   "cell_type": "code",
   "execution_count": 70,
   "id": "5fa7b26b",
   "metadata": {},
   "outputs": [
    {
     "data": {
      "text/plain": [
       "25"
      ]
     },
     "execution_count": 70,
     "metadata": {},
     "output_type": "execute_result"
    }
   ],
   "source": [
    "import math\n",
    "n = 100\n",
    "\n",
    "def solution(n):\n",
    "    num = set(range(3, n+1, 2)) \n",
    "    for i in range(3, int(math.sqrt(n))+1): # 3에서부터 제곱근에 해당하는 수 \n",
    "        if i in num:\n",
    "            num-=set(range(2*i,n+1,i))\n",
    "    return len(num)+1\n",
    "\n",
    "solution(n)"
   ]
  },
  {
   "cell_type": "markdown",
   "id": "71e3c57f",
   "metadata": {},
   "source": [
    "### 다른 사람 풀이 이해하기"
   ]
  },
  {
   "cell_type": "code",
   "execution_count": 72,
   "id": "bb07e56c",
   "metadata": {},
   "outputs": [
    {
     "name": "stdout",
     "output_type": "stream",
     "text": [
      "25\n"
     ]
    }
   ],
   "source": [
    "import math\n",
    "n = 100\n",
    "\n",
    "\n",
    "num = set(range(3, n+1, 2)) # 3에서부터 2씩 증가시켜 num에 할당. 메모리 효율성 측면고려. 2를 제외하고 판별하는 것이니, 마지막에 갯수를 추가해수면 될것임. \n",
    "for i in range(3, int(math.sqrt(n))+1): # 3에서부터 제곱근에 해당하는 수 \n",
    "    if i in num:\n",
    "        num-=set(range(2*i,n+1,i)) #  현재 소수의 배수들을 찾고, 이를 num 집합에서 제거\n",
    "\n",
    "print(len(num)+1)"
   ]
  }
 ],
 "metadata": {
  "kernelspec": {
   "display_name": "Python 3 (ipykernel)",
   "language": "python",
   "name": "python3"
  },
  "language_info": {
   "codemirror_mode": {
    "name": "ipython",
    "version": 3
   },
   "file_extension": ".py",
   "mimetype": "text/x-python",
   "name": "python",
   "nbconvert_exporter": "python",
   "pygments_lexer": "ipython3",
   "version": "3.9.12"
  }
 },
 "nbformat": 4,
 "nbformat_minor": 5
}
