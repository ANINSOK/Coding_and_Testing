{
 "cells": [
  {
   "cell_type": "markdown",
   "id": "6e133826",
   "metadata": {},
   "source": [
    "## LV_1. 모의고사"
   ]
  },
  {
   "cell_type": "markdown",
   "id": "686132de",
   "metadata": {},
   "source": [
    "수포자는 수학을 포기한 사람의 준말입니다. 수포자 삼인방은 모의고사에 수학 문제를 전부 찍으려 합니다. 수포자는 1번 문제부터 마지막 문제까지 다음과 같이 찍습니다.\n",
    "\n",
    "1번 수포자가 찍는 방식: 1, 2, 3, 4, 5, 1, 2, 3, 4, 5, ...\n",
    "2번 수포자가 찍는 방식: 2, 1, 2, 3, 2, 4, 2, 5, 2, 1, 2, 3, 2, 4, 2, 5, ...\n",
    "3번 수포자가 찍는 방식: 3, 3, 1, 1, 2, 2, 4, 4, 5, 5, 3, 3, 1, 1, 2, 2, 4, 4, 5, 5, ...\n",
    "\n",
    "1번 문제부터 마지막 문제까지의 정답이 순서대로 들은 배열 answers가 주어졌을 때, 가장 많은 문제를 맞힌 사람이 누구인지 배열에 담아 return 하도록 solution 함수를 작성해주세요."
   ]
  },
  {
   "cell_type": "markdown",
   "id": "a2b617c2",
   "metadata": {},
   "source": [
    "### 제한사항"
   ]
  },
  {
   "cell_type": "markdown",
   "id": "1653d6b4",
   "metadata": {},
   "source": [
    "- 시험은 최대 10,000 문제로 구성되어있습니다.\n",
    "- 문제의 정답은 1, 2, 3, 4, 5중 하나입니다.\n",
    "- 가장 높은 점수를 받은 사람이 여럿일 경우, return하는 값을 오름차순 정렬해주세요."
   ]
  },
  {
   "cell_type": "markdown",
   "id": "7db1ab26",
   "metadata": {},
   "source": [
    "### 입출력 예"
   ]
  },
  {
   "attachments": {
    "image-12.png": {
     "image/png": "[encoded data removed]"
    }
   },
   "cell_type": "markdown",
   "id": "ad55b836",
   "metadata": {},
   "source": [
    "![image-12.png](attachment:image-12.png)"
   ]
  },
  {
   "cell_type": "markdown",
   "id": "6ec32b50",
   "metadata": {},
   "source": [
    "### 입출력 예 #1\n",
    "\n",
    "수포자 1은 모든 문제를 맞혔습니다.\n",
    "수포자 2는 모든 문제를 틀렸습니다.\n",
    "수포자 3은 모든 문제를 틀렸습니다.\n",
    "따라서 가장 문제를 많이 맞힌 사람은 수포자 1입니다.\n",
    "\n",
    "### 입출력 예 #2\n",
    "모든 사람이 2문제씩을 맞췄습니다."
   ]
  },
  {
   "cell_type": "markdown",
   "id": "18991500",
   "metadata": {},
   "source": [
    "### 내 풀이"
   ]
  },
  {
   "cell_type": "code",
   "execution_count": 309,
   "id": "149591be",
   "metadata": {},
   "outputs": [
    {
     "data": {
      "text/plain": [
       "[3]"
      ]
     },
     "execution_count": 309,
     "metadata": {},
     "output_type": "execute_result"
    }
   ],
   "source": [
    "from itertools import chain, repeat\n",
    "\n",
    "# answers = [1,2,3,4,5]\n",
    "# answers = [1,3,2,4,2]\n",
    "answers = [3, 3, 1, 1, 2, 2, 4, 4, 5, 5]\n",
    "\n",
    "def solution(answers):\n",
    "    # 답지 그릇\n",
    "    result = []\n",
    "    # 수포자 1,2,3이 각각 찍는 방법\n",
    "    person1 = [1, 2, 3, 4, 5]\n",
    "    person2 = [2, 1, 2, 3, 2, 4, 2, 5]\n",
    "    person3 = [3, 3, 1, 1, 2, 2, 4, 4, 5, 5]\n",
    "    \n",
    "    # 수포자 1,2,3의 성적을 계산하여 담기위한 그릇 제작\n",
    "    i,j,k = [0,0,0]\n",
    "    \n",
    "    person1_result = list(chain.from_iterable(repeat(person1, (len(answers)//len(person1)+1))))\n",
    "    person2_result = list(chain.from_iterable(repeat(person2, (len(answers)//len(person2)+1))))\n",
    "    person3_result = list(chain.from_iterable(repeat(person3, (len(answers)//len(person3)+1))))\n",
    "    \n",
    "    #수포자 1,2,3의 성적을 계산하여 i,j,k에 담기\n",
    "    for n,x in enumerate(answers):\n",
    "        if x == person1_result[n]:\n",
    "            i += 1\n",
    "    for n,x in enumerate(answers):\n",
    "        if x == person2_result[n]:\n",
    "            j += 1\n",
    "    for n,x in enumerate(answers):\n",
    "        if x == person3_result[n]:\n",
    "            k += 1\n",
    "    \n",
    "    # 딕셔너리 형태로 1,2,3과 i,j,k를 묶음\n",
    "    ans = {1:i,2:j,3:k}\n",
    "    \n",
    "    #  내림차순 정렬\n",
    "    ans_sorted = dict(sorted(ans.items(), key=lambda x: x[1], reverse=True))\n",
    "\n",
    "    filtered_ans = ans_sorted.copy()\n",
    "\n",
    "    # value 값이 0인 항목 제거\n",
    "    for key, value in ans_sorted.items():\n",
    "        if value == 0:\n",
    "            del filtered_ans[key]\n",
    "    \n",
    "    # value 값이 가장 큰 항목 선정\n",
    "    max_value = max(ans.values())\n",
    "    filtered_ans = {key: value for key, value in ans.items() if value == max_value}\n",
    "    \n",
    "    for p in filtered_ans:\n",
    "        result.append(p)\n",
    "    \n",
    "    # value 값 모두 같다면 1,2,3 출력\n",
    "    if i==j==k:\n",
    "        result = [1,2,3]\n",
    "    return result\n",
    "\n",
    "solution(answers)"
   ]
  },
  {
   "cell_type": "markdown",
   "id": "39616c6c",
   "metadata": {},
   "source": [
    "### 다른 사람 풀이"
   ]
  },
  {
   "cell_type": "code",
   "execution_count": 310,
   "id": "08063018",
   "metadata": {},
   "outputs": [
    {
     "data": {
      "text/plain": [
       "[3]"
      ]
     },
     "execution_count": 310,
     "metadata": {},
     "output_type": "execute_result"
    }
   ],
   "source": [
    "answers = [3, 3, 1, 1, 2, 2, 4, 4, 5, 5]\n",
    "\n",
    "def solution(answers):\n",
    "    pattern1 = [1,2,3,4,5]\n",
    "    pattern2 = [2,1,2,3,2,4,2,5]\n",
    "    pattern3 = [3,3,1,1,2,2,4,4,5,5]\n",
    "    score = [0, 0, 0]\n",
    "    result = []\n",
    "\n",
    "    for idx, answer in enumerate(answers):\n",
    "        if answer == pattern1[idx%len(pattern1)]:\n",
    "            score[0] += 1\n",
    "        if answer == pattern2[idx%len(pattern2)]:\n",
    "            score[1] += 1\n",
    "        if answer == pattern3[idx%len(pattern3)]:\n",
    "            score[2] += 1\n",
    "\n",
    "    for idx, s in enumerate(score):\n",
    "        if s == max(score):\n",
    "            result.append(idx+1)\n",
    "\n",
    "    return result\n",
    "solution(answers)"
   ]
  },
  {
   "cell_type": "markdown",
   "id": "71e3c57f",
   "metadata": {},
   "source": [
    "### 다른 사람 풀이 이해하기"
   ]
  },
  {
   "cell_type": "code",
   "execution_count": 311,
   "id": "e0f094ac",
   "metadata": {},
   "outputs": [
    {
     "data": {
      "text/plain": [
       "[1]"
      ]
     },
     "execution_count": 311,
     "metadata": {},
     "output_type": "execute_result"
    }
   ],
   "source": [
    "answers = [1,2,3,4,5]\n",
    "\n",
    "def solution(answers):\n",
    "    # 수포자123의 찍기 패턴 기록\n",
    "    pattern1 = [1,2,3,4,5]\n",
    "    pattern2 = [2,1,2,3,2,4,2,5]\n",
    "    pattern3 = [3,3,1,1,2,2,4,4,5,5]\n",
    "    score = [0, 0, 0] # 점수표\n",
    "    result = [] # 제출할 결과\n",
    "\n",
    "    # 점수 계산하여 기록\n",
    "    for idx, answer in enumerate(answers):\n",
    "        if answer == pattern1[idx%len(pattern1)]:\n",
    "            score[0] += 1\n",
    "        if answer == pattern2[idx%len(pattern2)]:\n",
    "            score[1] += 1\n",
    "        if answer == pattern3[idx%len(pattern3)]:\n",
    "            score[2] += 1\n",
    "    \n",
    "    # 점수표를 가지고 반복문을 실행\n",
    "    for idx, s in enumerate(score):\n",
    "        if s == max(score): # n번 수포자의 점수가 점수표 중 가장 높다면,\n",
    "            result.append(idx+1) # 결과 제출값에 n번 수포자의 번호를 추가\n",
    "\n",
    "    return result\n",
    "solution(answers)"
   ]
  }
 ],
 "metadata": {
  "kernelspec": {
   "display_name": "Python 3 (ipykernel)",
   "language": "python",
   "name": "python3"
  },
  "language_info": {
   "codemirror_mode": {
    "name": "ipython",
    "version": 3
   },
   "file_extension": ".py",
   "mimetype": "text/x-python",
   "name": "python",
   "nbconvert_exporter": "python",
   "pygments_lexer": "ipython3",
   "version": "3.9.12"
  }
 },
 "nbformat": 4,
 "nbformat_minor": 5
}
