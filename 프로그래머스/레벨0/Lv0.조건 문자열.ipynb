{
 "cells": [
  {
   "cell_type": "markdown",
   "id": "6e133826",
   "metadata": {},
   "source": [
    "## Lv0. 조건 문자열"
   ]
  },
  {
   "cell_type": "markdown",
   "id": "686132de",
   "metadata": {},
   "source": [
    "- 문자열에 따라 다음과 같이 두 수의 크기를 비교하려고 합니다.\n",
    "\n",
    "- 두 수가 n과 m이라면\n",
    "    - \">\", \"=\" : n >= m\n",
    "    - \"<\", \"=\" : n <= m\n",
    "    - \">\", \"!\" : n > m\n",
    "    - \"<\", \"!\" : n < m\n",
    "- 두 문자열 ineq와 eq가 주어집니다. ineq는 \"<\"와 \">\"중 하나고, eq는 \"=\"와 \"!\"중 하나입니다. 그리고 두 정수 n과 m이 주어질 때, n과 m이 ineq와 eq의 조건에 맞으면 1을 아니면 0을 return하도록 solution 함수를 완성해주세요."
   ]
  },
  {
   "cell_type": "markdown",
   "id": "4a585a52",
   "metadata": {},
   "source": [
    "### 입출력 예"
   ]
  },
  {
   "attachments": {
    "image-6.png": {
     "image/png": "[encoded data removed]"
    }
   },
   "cell_type": "markdown",
   "id": "98ff22a4",
   "metadata": {},
   "source": [
    "![image-6.png](attachment:image-6.png)"
   ]
  },
  {
   "cell_type": "markdown",
   "id": "6e2639f6",
   "metadata": {},
   "source": [
    "### 입출력 예 설명\n",
    "- 입출력 예 #1\n",
    "\n",
    "    - 20 <= 50은 참이기 때문에 1을 return합니다.\n",
    "- 입출력 예 #2\n",
    "\n",
    "    - 41 > 78은 거짓이기 때문에 0을 return합니다."
   ]
  },
  {
   "cell_type": "code",
   "execution_count": 6,
   "id": "115cd22e",
   "metadata": {},
   "outputs": [
    {
     "data": {
      "text/plain": [
       "1"
      ]
     },
     "execution_count": 6,
     "metadata": {},
     "output_type": "execute_result"
    }
   ],
   "source": [
    "ineq = '<'\n",
    "eq = '='\n",
    "n = 20\n",
    "m = 50\n",
    " \n",
    "def solution(ineq, eq, n, m):\n",
    "    if (ineq =='>') & (eq == '='):\n",
    "        return int(n >= m)\n",
    "    elif (ineq =='<') & (eq == '='):\n",
    "        return int(n <= m)\n",
    "    elif (ineq == '>') & (eq == '!'):\n",
    "        return int(n > m)\n",
    "    else:\n",
    "        return int(n < m)\n",
    "    \n",
    "solution(ineq, eq, n, m)"
   ]
  }
 ],
 "metadata": {
  "kernelspec": {
   "display_name": "Python 3 (ipykernel)",
   "language": "python",
   "name": "python3"
  },
  "language_info": {
   "codemirror_mode": {
    "name": "ipython",
    "version": 3
   },
   "file_extension": ".py",
   "mimetype": "text/x-python",
   "name": "python",
   "nbconvert_exporter": "python",
   "pygments_lexer": "ipython3",
   "version": "3.9.12"
  }
 },
 "nbformat": 4,
 "nbformat_minor": 5
}
