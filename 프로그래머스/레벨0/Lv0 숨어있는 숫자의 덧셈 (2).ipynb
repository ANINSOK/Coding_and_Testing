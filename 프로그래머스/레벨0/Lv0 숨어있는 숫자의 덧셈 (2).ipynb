{
 "cells": [
  {
   "cell_type": "markdown",
   "id": "6e133826",
   "metadata": {},
   "source": [
    "## LV_0. 숨어있는 숫자의 덧셈 (2)"
   ]
  },
  {
   "cell_type": "markdown",
   "id": "686132de",
   "metadata": {},
   "source": [
    "### 문제 설명\n",
    "문자열 my_string이 매개변수로 주어집니다. my_string은 소문자, 대문자, 자연수로만 구성되어있습니다. my_string안의 자연수들의 합을 return하도록 solution 함수를 완성해주세요."
   ]
  },
  {
   "cell_type": "markdown",
   "id": "36bbaf05",
   "metadata": {},
   "source": [
    "### 제한사항\n",
    "- 1 ≤ my_string의 길이 ≤ 1,000\n",
    "- 1 ≤ my_string 안의 자연수 ≤ 1000\n",
    "- 연속된 수는 하나의 숫자로 간주합니다.\n",
    "- 000123과 같이 0이 선행하는 경우는 없습니다.\n",
    "- 문자열에 자연수가 없는 경우 0을 return 해주세요."
   ]
  },
  {
   "cell_type": "markdown",
   "id": "4a585a52",
   "metadata": {},
   "source": [
    "### 입출력 예"
   ]
  },
  {
   "attachments": {
    "image.png": {
     "image/png": "[encoded data removed]"
    }
   },
   "cell_type": "markdown",
   "id": "98ff22a4",
   "metadata": {},
   "source": [
    "![image.png](attachment:image.png)"
   ]
  },
  {
   "cell_type": "markdown",
   "id": "7db1ab26",
   "metadata": {},
   "source": [
    "### 입출력 예 #1\n",
    "\n",
    "\"aAb1B2cC34oOp\"안의 자연수는 1, 2, 34 입니다. 따라서 1 + 2 + 34 = 37 을 return합니다.\n",
    "\n",
    "### 입출력 예 #2\n",
    "\n",
    "\"1a2b3c4d123Z\"안의 자연수는 1, 2, 3, 4, 123 입니다. 따라서 1 + 2 + 3 + 4 + 123 = 133 을 return합니다."
   ]
  },
  {
   "cell_type": "markdown",
   "id": "fa82584b",
   "metadata": {},
   "source": [
    "### 내 풀이"
   ]
  },
  {
   "cell_type": "code",
   "execution_count": 24,
   "id": "f7ad194c",
   "metadata": {},
   "outputs": [
    {
     "data": {
      "text/plain": [
       "133"
      ]
     },
     "execution_count": 24,
     "metadata": {},
     "output_type": "execute_result"
    }
   ],
   "source": [
    "my_string = \"1a2b3c4d123Z\"\n",
    "\n",
    "import re\n",
    "def solution(my_string):\n",
    "    new_string = re.sub(\"[^0-9]\", \" \", my_string)\n",
    "    return sum(list(map(int, new_string.split())))\n",
    "\n",
    "solution(my_string)"
   ]
  },
  {
   "cell_type": "markdown",
   "id": "5a7cf2d2",
   "metadata": {},
   "source": [
    "### 다른 사람 풀이"
   ]
  },
  {
   "cell_type": "code",
   "execution_count": 26,
   "id": "3b830fd0",
   "metadata": {},
   "outputs": [
    {
     "data": {
      "text/plain": [
       "133"
      ]
     },
     "execution_count": 26,
     "metadata": {},
     "output_type": "execute_result"
    }
   ],
   "source": [
    "my_string = \"1a2b3c4d123Z\"\n",
    "\n",
    "def solution(my_string):\n",
    "    s = ''.join(i if i.isdigit() else ' ' for i in my_string)\n",
    "    return sum(int(i) for i in s.split())\n",
    "\n",
    "solution(my_string)"
   ]
  },
  {
   "cell_type": "code",
   "execution_count": 29,
   "id": "538c20c2",
   "metadata": {},
   "outputs": [
    {
     "name": "stdout",
     "output_type": "stream",
     "text": [
      "1\n",
      "2\n",
      "3\n",
      "4\n",
      "1\n",
      "2\n",
      "3\n"
     ]
    }
   ],
   "source": [
    "my_string = \"1a2b3c4d123Z\"\n",
    "for i in my_string:\n",
    "    if i.isdigit():\n",
    "        print(i)\n"
   ]
  }
 ],
 "metadata": {
  "kernelspec": {
   "display_name": "Python 3 (ipykernel)",
   "language": "python",
   "name": "python3"
  },
  "language_info": {
   "codemirror_mode": {
    "name": "ipython",
    "version": 3
   },
   "file_extension": ".py",
   "mimetype": "text/x-python",
   "name": "python",
   "nbconvert_exporter": "python",
   "pygments_lexer": "ipython3",
   "version": "3.8.10"
  }
 },
 "nbformat": 4,
 "nbformat_minor": 5
}
