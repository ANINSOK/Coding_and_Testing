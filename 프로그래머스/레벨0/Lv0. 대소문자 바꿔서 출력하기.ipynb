{
 "cells": [
  {
   "cell_type": "markdown",
   "id": "6e133826",
   "metadata": {},
   "source": [
    "## Lv0. 대소문자 바꿔서 출력하기"
   ]
  },
  {
   "cell_type": "markdown",
   "id": "686132de",
   "metadata": {},
   "source": [
    "### 문제 설명\n",
    " - 영어 알파벳으로 이루어진 문자열 str이 주어집니다. 각 알파벳을 대문자는 소문자로 소문자는 대문자로 변환해서 출력하는 코드를 작성해 보세요.\n",
    " - 1 ≤ str의 길이 ≤ 20\n",
    "     - str은 알파벳으로 이루어진 문자열입니다."
   ]
  },
  {
   "cell_type": "markdown",
   "id": "4a585a52",
   "metadata": {},
   "source": [
    "### 입출력 예"
   ]
  },
  {
   "attachments": {
    "image-4.png": {
     "image/png": "[encoded data removed]"
    }
   },
   "cell_type": "markdown",
   "id": "98ff22a4",
   "metadata": {},
   "source": [
    "![image-4.png](attachment:image-4.png)"
   ]
  },
  {
   "cell_type": "code",
   "execution_count": 53,
   "id": "115cd22e",
   "metadata": {},
   "outputs": [],
   "source": [
    "str = \"aBcDeFg\""
   ]
  },
  {
   "cell_type": "code",
   "execution_count": 48,
   "id": "e19ebac1",
   "metadata": {},
   "outputs": [
    {
     "data": {
      "text/plain": [
       "['A', 'b', 'C', 'd', 'E', 'f', 'G']"
      ]
     },
     "execution_count": 48,
     "metadata": {},
     "output_type": "execute_result"
    }
   ],
   "source": [
    "# 처음 하려고 했던 흔적....\n",
    "ans = ''\n",
    "for i,n in enumerate(str):\n",
    "    if n.islower():\n",
    "        n = n.upper()\n",
    "#         ans[i] = n\n",
    "    else:\n",
    "        n = n.lower()\n",
    "#         ans[i] = n\n",
    "    ans.append(n)\n",
    "    \n",
    "ans\n"
   ]
  },
  {
   "cell_type": "code",
   "execution_count": 55,
   "id": "7140b915",
   "metadata": {},
   "outputs": [
    {
     "data": {
      "text/plain": [
       "'AbCdEfG'"
      ]
     },
     "execution_count": 55,
     "metadata": {},
     "output_type": "execute_result"
    }
   ],
   "source": [
    "# 정답\n",
    "ans = ''\n",
    "for i in str:\n",
    "    if i.islower():\n",
    "        ans += i.upper()\n",
    "    else:\n",
    "        ans += i.lower()\n",
    "ans"
   ]
  }
 ],
 "metadata": {
  "kernelspec": {
   "display_name": "Python 3 (ipykernel)",
   "language": "python",
   "name": "python3"
  },
  "language_info": {
   "codemirror_mode": {
    "name": "ipython",
    "version": 3
   },
   "file_extension": ".py",
   "mimetype": "text/x-python",
   "name": "python",
   "nbconvert_exporter": "python",
   "pygments_lexer": "ipython3",
   "version": "3.9.12"
  }
 },
 "nbformat": 4,
 "nbformat_minor": 5
}
