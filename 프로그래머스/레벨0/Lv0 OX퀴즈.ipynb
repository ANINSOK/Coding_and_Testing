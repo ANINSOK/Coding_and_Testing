{
 "cells": [
  {
   "cell_type": "markdown",
   "id": "6e133826",
   "metadata": {},
   "source": [
    "## LV_0. OX퀴즈"
   ]
  },
  {
   "cell_type": "markdown",
   "id": "686132de",
   "metadata": {},
   "source": [
    "### 문제 설명\n",
    "덧셈, 뺄셈 수식들이 'X [연산자] Y = Z' 형태로 들어있는 문자열 배열 quiz가 매개변수로 주어집니다. 수식이 옳다면 \"O\"를 틀리다면 \"X\"를 순서대로 담은 배열을 return하도록 solution 함수를 완성해주세요."
   ]
  },
  {
   "cell_type": "markdown",
   "id": "36bbaf05",
   "metadata": {},
   "source": [
    "### 제한사항\n",
    "- 연산 기호와 숫자 사이는 항상 하나의 공백이 존재합니다. 단 음수를 표시하는 마이너스 기호와 숫자 사이에는 공백이 존재하지 않습니다.\n",
    "- 1 ≤ quiz의 길이 ≤ 10\n",
    "- X, Y, Z는 각각 0부터 9까지 숫자로 이루어진 정수를 의미하며, 각 숫자의 맨 앞에 마이너스 기호가 하나 있을 수 있고 이는 음수를 의미합니다.\n",
    "- X, Y, Z는 0을 제외하고는 0으로 시작하지 않습니다.\n",
    "- -10,000 ≤ X, Y ≤ 10,000\n",
    "- -20,000 ≤ Z ≤ 20,000\n",
    "- [연산자]는 + 와 - 중 하나입니다."
   ]
  },
  {
   "cell_type": "markdown",
   "id": "4a585a52",
   "metadata": {},
   "source": [
    "### 입출력 예"
   ]
  },
  {
   "attachments": {
    "image-2.png": {
     "image/png": "[encoded data removed]"
    }
   },
   "cell_type": "markdown",
   "id": "98ff22a4",
   "metadata": {},
   "source": [
    "![image-2.png](attachment:image-2.png)"
   ]
  },
  {
   "cell_type": "markdown",
   "id": "7db1ab26",
   "metadata": {},
   "source": [
    "### 입출력 예 #1\n",
    "\n",
    "3 - 4 = -3 은 틀린 수식이므로 \"X\", 5 + 6 = 11 은 옳은 수식이므로 \"O\" 입니다. 따라서 [\"X\", \"O\"]를 return합니다.\n",
    "\n",
    "\n",
    "### 입출력 예 #2\n",
    "\n",
    "19 - 6 = 13 은 옳은 수식이므로 \"O\", 5 + 66 = 71 은 옳은 수식이므로 \"O\", 5 - 15 = 63 은 틀린 수식이므로 \"X\", 3 - 1 = 2는 옳은 수식이므로 \"O\" 따라서 [\"O\", \"O\", \"X\", \"O\"]를 return합니다."
   ]
  },
  {
   "cell_type": "markdown",
   "id": "fa82584b",
   "metadata": {},
   "source": [
    "### 내 풀이"
   ]
  },
  {
   "cell_type": "code",
   "execution_count": 34,
   "id": "5d10cd07",
   "metadata": {},
   "outputs": [
    {
     "data": {
      "text/plain": [
       "['O', 'O', 'X', 'O']"
      ]
     },
     "execution_count": 34,
     "metadata": {},
     "output_type": "execute_result"
    }
   ],
   "source": [
    "quiz = [\"19 - 6 = 13\", \"5 + 66 = 71\", \"5 - 15 = 63\", \"3 - 1 = 2\"]\n",
    "\n",
    "\n",
    "def solution(quiz):\n",
    "    result = []\n",
    "    for i in quiz:\n",
    "        tmp = i.split()\n",
    "        tmp_ans = int(tmp[0])\n",
    "\n",
    "        for j in range(len(tmp)):\n",
    "            if tmp[j] == '+':\n",
    "                tmp_ans += int(tmp[j+1])\n",
    "            elif tmp[j] == '-':\n",
    "                tmp_ans -= int(tmp[j+1])\n",
    "\n",
    "        if tmp_ans == int(tmp[-1]):\n",
    "            result.append('O')\n",
    "        elif tmp_ans != int(tmp[-1]):\n",
    "            result.append('X')\n",
    "\n",
    "    return result\n",
    "\n",
    "solution(quiz)"
   ]
  },
  {
   "cell_type": "markdown",
   "id": "5a7cf2d2",
   "metadata": {},
   "source": [
    "### 다른 사람 풀이"
   ]
  },
  {
   "cell_type": "code",
   "execution_count": 35,
   "id": "e67224a4",
   "metadata": {},
   "outputs": [
    {
     "data": {
      "text/plain": [
       "['O', 'O', 'X', 'O']"
      ]
     },
     "execution_count": 35,
     "metadata": {},
     "output_type": "execute_result"
    }
   ],
   "source": [
    "quiz = [\"19 - 6 = 13\", \"5 + 66 = 71\", \"5 - 15 = 63\", \"3 - 1 = 2\"]\n",
    "\n",
    "def solution(quiz):\n",
    "    answer = []\n",
    "    for q in quiz:\n",
    "        L,R = q.split(' = ')\n",
    "        a,op,b = L.split()\n",
    "        if op=='+':\n",
    "            result = 'O' if int(a)+int(b)==int(R) else 'X'\n",
    "            answer.append(result)\n",
    "        else:\n",
    "            result = 'O' if int(a)-int(b)==int(R) else 'X'\n",
    "            answer.append(result)\n",
    "    return answer\n",
    "\n",
    "solution(quiz)"
   ]
  }
 ],
 "metadata": {
  "kernelspec": {
   "display_name": "Python 3 (ipykernel)",
   "language": "python",
   "name": "python3"
  },
  "language_info": {
   "codemirror_mode": {
    "name": "ipython",
    "version": 3
   },
   "file_extension": ".py",
   "mimetype": "text/x-python",
   "name": "python",
   "nbconvert_exporter": "python",
   "pygments_lexer": "ipython3",
   "version": "3.8.10"
  }
 },
 "nbformat": 4,
 "nbformat_minor": 5
}
