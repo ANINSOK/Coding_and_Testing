{
 "cells": [
  {
   "cell_type": "markdown",
   "id": "6e133826",
   "metadata": {},
   "source": [
    "## LV_0. 주사위의 개수"
   ]
  },
  {
   "cell_type": "markdown",
   "id": "686132de",
   "metadata": {},
   "source": [
    "머쓱이는 직육면체 모양의 상자를 하나 가지고 있는데 이 상자에 정육면체 모양의 주사위를 최대한 많이 채우고 싶습니다. 상자의 가로, 세로, 높이가 저장되어있는 배열 box와 주사위 모서리의 길이 정수 n이 매개변수로 주어졌을 때, 상자에 들어갈 수 있는 주사위의 최대 개수를 return 하도록 solution 함수를 완성해주세요."
   ]
  },
  {
   "cell_type": "markdown",
   "id": "a2b617c2",
   "metadata": {},
   "source": [
    "### 제한사항"
   ]
  },
  {
   "cell_type": "markdown",
   "id": "1653d6b4",
   "metadata": {},
   "source": [
    "- box의 길이는 3입니다.\n",
    "- box[0] = 상자의 가로 길이\n",
    "- box[1] = 상자의 세로 길이\n",
    "- box[2] = 상자의 높이 길이\n",
    "- 1 ≤ box의 원소 ≤ 100\n",
    "- 1 ≤ n ≤ 50\n",
    "- n ≤ box의 원소\n",
    "- 주사위는 상자와 평행하게 넣습니다.\n"
   ]
  },
  {
   "cell_type": "markdown",
   "id": "7db1ab26",
   "metadata": {},
   "source": [
    "### 입출력 예"
   ]
  },
  {
   "attachments": {
    "image-7.png": {
     "image/png": "[encoded data removed]"
    }
   },
   "cell_type": "markdown",
   "id": "ad55b836",
   "metadata": {},
   "source": [
    "![image-7.png](attachment:image-7.png)"
   ]
  },
  {
   "cell_type": "markdown",
   "id": "5e3370a8",
   "metadata": {},
   "source": [
    "#### 입출력 예 #1\n",
    "\n",
    "- 상자의 크기가 가로 1, 세로 1, 높이 1이므로 모서리의 길이가 1인 주사위는 1개 들어갈 수 있습니다.\n",
    "\n",
    "#### 입출력 예 #2\n",
    "\n",
    "- 상자의 크기가 가로 10, 세로 8, 높이 6이므로 모서리의 길이가 3인 주사위는 12개 들어갈 수 있습니다."
   ]
  },
  {
   "cell_type": "markdown",
   "id": "18991500",
   "metadata": {},
   "source": [
    "### 내 풀이"
   ]
  },
  {
   "cell_type": "code",
   "execution_count": 1,
   "id": "379d12a6",
   "metadata": {},
   "outputs": [],
   "source": [
    "box = [10, 8, 6]\n",
    "n = 3"
   ]
  },
  {
   "cell_type": "code",
   "execution_count": 7,
   "id": "1b8c65c6",
   "metadata": {},
   "outputs": [
    {
     "data": {
      "text/plain": [
       "12"
      ]
     },
     "execution_count": 7,
     "metadata": {},
     "output_type": "execute_result"
    }
   ],
   "source": [
    "a,b,c = 0,0,0\n",
    "\n",
    "a = int(box[0] / n) \n",
    "b = int(box[1] / n) \n",
    "c = int(box[2] / n)\n",
    "\n",
    "a*b*c"
   ]
  },
  {
   "cell_type": "markdown",
   "id": "39616c6c",
   "metadata": {},
   "source": [
    "### 다른 사람 풀이"
   ]
  },
  {
   "cell_type": "code",
   "execution_count": null,
   "id": "922f58c7",
   "metadata": {},
   "outputs": [],
   "source": [
    "def solution(box, n):\n",
    "    x, y, z = box\n",
    "    return (x // n) * (y // n) * (z // n )"
   ]
  },
  {
   "cell_type": "code",
   "execution_count": 8,
   "id": "0a051238",
   "metadata": {},
   "outputs": [
    {
     "data": {
      "text/plain": [
       "12"
      ]
     },
     "execution_count": 8,
     "metadata": {},
     "output_type": "execute_result"
    }
   ],
   "source": [
    "x, y, z = box\n",
    "(x // n) * (y // n) * (z // n )"
   ]
  },
  {
   "cell_type": "markdown",
   "id": "71e3c57f",
   "metadata": {},
   "source": [
    "### 다른 사람 풀이 이해하기"
   ]
  },
  {
   "cell_type": "code",
   "execution_count": 14,
   "id": "9eb2726e",
   "metadata": {},
   "outputs": [
    {
     "name": "stdout",
     "output_type": "stream",
     "text": [
      "10 8 6\n",
      "3\n",
      "2\n",
      "2\n",
      "12\n"
     ]
    }
   ],
   "source": [
    "x, y, z = box\n",
    "print(x,y,z)\n",
    "print((x // n))\n",
    "print((y // n))\n",
    "print((z // n))\n",
    "print((x // n) * (y // n) * (z // n ))"
   ]
  }
 ],
 "metadata": {
  "kernelspec": {
   "display_name": "Python 3 (ipykernel)",
   "language": "python",
   "name": "python3"
  },
  "language_info": {
   "codemirror_mode": {
    "name": "ipython",
    "version": 3
   },
   "file_extension": ".py",
   "mimetype": "text/x-python",
   "name": "python",
   "nbconvert_exporter": "python",
   "pygments_lexer": "ipython3",
   "version": "3.9.12"
  }
 },
 "nbformat": 4,
 "nbformat_minor": 5
}
