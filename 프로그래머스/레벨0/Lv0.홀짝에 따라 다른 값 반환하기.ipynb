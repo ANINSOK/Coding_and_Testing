{
 "cells": [
  {
   "cell_type": "markdown",
   "id": "6e133826",
   "metadata": {},
   "source": [
    "## Lv0. 홀짝에 따라 다른 값 반환하기"
   ]
  },
  {
   "cell_type": "markdown",
   "id": "686132de",
   "metadata": {},
   "source": [
    "- 양의 정수 n이 매개변수로 주어질 때, n이 홀수라면 n 이하의 홀수인 모든 양의 정수의 합을 return 하고 n이 짝수라면 n 이하의 짝수인 모든 양의 정수의 제곱의 합을 return 하는 solution 함수를 작성해 주세요.\n",
    "\n",
    "- 1 ≤ n ≤ 100"
   ]
  },
  {
   "cell_type": "markdown",
   "id": "4a585a52",
   "metadata": {},
   "source": [
    "### 입출력 예"
   ]
  },
  {
   "attachments": {
    "image-8.png": {
     "image/png": "[encoded data removed]"
    }
   },
   "cell_type": "markdown",
   "id": "98ff22a4",
   "metadata": {},
   "source": [
    "![image-8.png](attachment:image-8.png)"
   ]
  },
  {
   "cell_type": "markdown",
   "id": "6e2639f6",
   "metadata": {},
   "source": [
    "### 입출력 예 설명\n",
    "- 입출력 예 #1\n",
    "\n",
    "    - 예제 1번의 n은 7로 홀수입니다. 7 이하의 모든 양의 홀수는 1, 3, 5, 7이고 이들의 합인 1 + 3 + 5 + 7 = 16을 return 합니다.\n",
    "- 입출력 예 #2\n",
    "\n",
    "    - 예제 2번의 n은 10으로 짝수입니다. 10 이하의 모든 양의 짝수는 2, 4, 6, 8, 10이고 이들의 제곱의 합인 22 + 42 + 62 + 82 + 102 = 4 + 16 + 36 + 64 + 100 = 220을 return 합니다."
   ]
  },
  {
   "cell_type": "code",
   "execution_count": 33,
   "id": "115cd22e",
   "metadata": {},
   "outputs": [
    {
     "data": {
      "text/plain": [
       "16"
      ]
     },
     "execution_count": 33,
     "metadata": {},
     "output_type": "execute_result"
    }
   ],
   "source": [
    "n = 7\n",
    "sum = 0\n",
    "\n",
    "if n % 2 != 0:\n",
    "    for i in range(1,n+1):\n",
    "        if i % 2 != 0:\n",
    "            sum = sum + i\n",
    "else:\n",
    "    for i in range(1, n+1):\n",
    "        if i % 2 == 0:\n",
    "            sum += i**2\n",
    "        \n",
    "            \n",
    "sum"
   ]
  },
  {
   "cell_type": "code",
   "execution_count": 34,
   "id": "338bd07f",
   "metadata": {},
   "outputs": [
    {
     "data": {
      "text/plain": [
       "220"
      ]
     },
     "execution_count": 34,
     "metadata": {},
     "output_type": "execute_result"
    }
   ],
   "source": [
    "n = 10\n",
    "sum = 0\n",
    "\n",
    "if n % 2 != 0:\n",
    "    for i in range(1,n+1):\n",
    "        if i % 2 != 0:\n",
    "            sum = sum + i\n",
    "else:\n",
    "    for i in range(1, n+1):\n",
    "        if i % 2 == 0:\n",
    "            sum += i**2\n",
    "        \n",
    "            \n",
    "sum"
   ]
  },
  {
   "cell_type": "code",
   "execution_count": 35,
   "id": "ffea4542",
   "metadata": {},
   "outputs": [
    {
     "data": {
      "text/plain": [
       "346665964060"
      ]
     },
     "execution_count": 35,
     "metadata": {},
     "output_type": "execute_result"
    }
   ],
   "source": [
    "n = 12764\n",
    "sum = 0\n",
    "\n",
    "if n % 2 != 0:\n",
    "    for i in range(1,n+1):\n",
    "        if i % 2 != 0:\n",
    "            sum = sum + i\n",
    "else:\n",
    "    for i in range(1, n+1):\n",
    "        if i % 2 == 0:\n",
    "            sum += i**2\n",
    "        \n",
    "            \n",
    "sum"
   ]
  }
 ],
 "metadata": {
  "kernelspec": {
   "display_name": "Python 3 (ipykernel)",
   "language": "python",
   "name": "python3"
  },
  "language_info": {
   "codemirror_mode": {
    "name": "ipython",
    "version": 3
   },
   "file_extension": ".py",
   "mimetype": "text/x-python",
   "name": "python",
   "nbconvert_exporter": "python",
   "pygments_lexer": "ipython3",
   "version": "3.9.12"
  }
 },
 "nbformat": 4,
 "nbformat_minor": 5
}
