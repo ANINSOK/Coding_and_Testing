{
 "cells": [
  {
   "cell_type": "markdown",
   "id": "6e133826",
   "metadata": {},
   "source": [
    "## LV_0. 문자열 계산하기\n"
   ]
  },
  {
   "cell_type": "markdown",
   "id": "686132de",
   "metadata": {},
   "source": [
    "### 문제 설명\n",
    "my_string은 \"3 + 5\"처럼 문자열로 된 수식입니다. 문자열 my_string이 매개변수로 주어질 때, 수식을 계산한 값을 return 하는 solution 함수를 완성해주세요."
   ]
  },
  {
   "cell_type": "markdown",
   "id": "36bbaf05",
   "metadata": {},
   "source": [
    "### 제한사항\n",
    "- 연산자는 +, -만 존재합니다.\n",
    "- 문자열의 시작과 끝에는 공백이 없습니다.\n",
    "- 0으로 시작하는 숫자는 주어지지 않습니다.\n",
    "- 잘못된 수식은 주어지지 않습니다.\n",
    "- 5 ≤ my_string의 길이 ≤ 100\n",
    "\n",
    "- my_string을 계산한 결과값은 1 이상 100,000 이하입니다.\n",
    "    - my_string의 중간 계산 값은 -100,000 이상 100,000 이하입니다.\n",
    "    - 계산에 사용하는 숫자는 1 이상 20,000 이하인 자연수입니다.\n",
    "    - my_string에는 연산자가 적어도 하나 포함되어 있습니다.\n",
    "\n",
    "- return type 은 정수형입니다.\n",
    "\n",
    "- my_string의 숫자와 연산자는 공백 하나로 구분되어 있습니다."
   ]
  },
  {
   "cell_type": "markdown",
   "id": "4a585a52",
   "metadata": {},
   "source": [
    "### 입출력 예"
   ]
  },
  {
   "attachments": {
    "image.png": {
     "image/png": "[encoded data removed]"
    }
   },
   "cell_type": "markdown",
   "id": "98ff22a4",
   "metadata": {},
   "source": [
    "![image.png](attachment:image.png)"
   ]
  },
  {
   "cell_type": "markdown",
   "id": "7db1ab26",
   "metadata": {},
   "source": [
    "### 입출력 예 #1\n",
    "\n",
    "3 + 4 = 7을 return 합니다."
   ]
  },
  {
   "cell_type": "code",
   "execution_count": 9,
   "id": "5d10cd07",
   "metadata": {},
   "outputs": [
    {
     "data": {
      "text/plain": [
       "7"
      ]
     },
     "execution_count": 9,
     "metadata": {},
     "output_type": "execute_result"
    }
   ],
   "source": [
    "my_string = \"3 + 4\"\n",
    "\n",
    "def solution(my_string):\n",
    "    my_string = my_string.split()\n",
    "    ans = int(my_string[0])\n",
    "\n",
    "    for i in range(len(my_string)):\n",
    "        if my_string[i] == '+':\n",
    "            ans += int(my_string[i+1])\n",
    "        elif my_string[i] == '-':\n",
    "            ans -= int(my_string[i+1])\n",
    "        \n",
    "    return ans\n",
    "\n",
    "solution(my_string)"
   ]
  },
  {
   "cell_type": "markdown",
   "id": "5a7cf2d2",
   "metadata": {},
   "source": [
    "### 다른 사람 풀이"
   ]
  },
  {
   "cell_type": "code",
   "execution_count": 8,
   "id": "f14c3b95",
   "metadata": {},
   "outputs": [
    {
     "data": {
      "text/plain": [
       "7"
      ]
     },
     "execution_count": 8,
     "metadata": {},
     "output_type": "execute_result"
    }
   ],
   "source": [
    "my_string = \"3 + 4\"\n",
    "my_string = my_string.split()\n",
    "ans = int(my_string[0])\n",
    "\n",
    "for i in range(len(my_string)):\n",
    "    if my_string[i] == '+':\n",
    "        ans += int(my_string[i+1])\n",
    "    elif my_string[i] == '-':\n",
    "        ans -= int(my_string[i+1])\n",
    "    \n",
    "ans"
   ]
  },
  {
   "cell_type": "code",
   "execution_count": 4,
   "id": "54db691c",
   "metadata": {},
   "outputs": [],
   "source": []
  },
  {
   "cell_type": "code",
   "execution_count": null,
   "id": "5304be9f",
   "metadata": {},
   "outputs": [],
   "source": []
  }
 ],
 "metadata": {
  "kernelspec": {
   "display_name": "Python 3 (ipykernel)",
   "language": "python",
   "name": "python3"
  },
  "language_info": {
   "codemirror_mode": {
    "name": "ipython",
    "version": 3
   },
   "file_extension": ".py",
   "mimetype": "text/x-python",
   "name": "python",
   "nbconvert_exporter": "python",
   "pygments_lexer": "ipython3",
   "version": "3.8.10"
  }
 },
 "nbformat": 4,
 "nbformat_minor": 5
}
