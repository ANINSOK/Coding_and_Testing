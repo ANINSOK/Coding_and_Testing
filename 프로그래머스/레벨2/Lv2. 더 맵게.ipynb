{
 "cells": [
  {
   "attachments": {},
   "cell_type": "markdown",
   "id": "6e133826",
   "metadata": {},
   "source": [
    "## Lv2. 더 맵게"
   ]
  },
  {
   "attachments": {},
   "cell_type": "markdown",
   "id": "686132de",
   "metadata": {},
   "source": [
    "매운 것을 좋아하는 Leo는 모든 음식의 스코빌 지수를 K 이상으로 만들고 싶습니다. 모든 음식의 스코빌 지수를 K 이상으로 만들기 위해 Leo는 스코빌 지수가 가장 낮은 두 개의 음식을 아래와 같이 특별한 방법으로 섞어 새로운 음식을 만듭니다.\n",
    "\n",
    "```섞은 음식의 스코빌 지수 = 가장 맵지 않은 음식의 스코빌 지수 + (두 번째로 맵지 않은 음식의 스코빌 지수 * 2)```\n",
    "\n",
    "Leo는 모든 음식의 스코빌 지수가 K 이상이 될 때까지 반복하여 섞습니다.\n",
    "Leo가 가진 음식의 스코빌 지수를 담은 배열 scoville과 원하는 스코빌 지수 K가 주어질 때, 모든 음식의 스코빌 지수를 K 이상으로 만들기 위해 섞어야 하는 최소 횟수를 return 하도록 solution 함수를 작성해주세요.\n"
   ]
  },
  {
   "attachments": {},
   "cell_type": "markdown",
   "id": "a2b617c2",
   "metadata": {},
   "source": [
    "### 제한사항"
   ]
  },
  {
   "attachments": {},
   "cell_type": "markdown",
   "id": "1653d6b4",
   "metadata": {},
   "source": [
    "- scoville의 길이는 2 이상 1,000,000 이하입니다.\n",
    "- K는 0 이상 1,000,000,000 이하입니다.\n",
    "- scoville의 원소는 각각 0 이상 1,000,000 이하입니다.\n",
    "- 모든 음식의 스코빌 지수를 K 이상으로 만들 수 없는 경우에는 -1을 return 합니다."
   ]
  },
  {
   "attachments": {},
   "cell_type": "markdown",
   "id": "7db1ab26",
   "metadata": {},
   "source": [
    "### 입출력 예"
   ]
  },
  {
   "attachments": {
    "image-24.png": {
     "image/png": "[encoded data removed]"
    }
   },
   "cell_type": "markdown",
   "id": "ad55b836",
   "metadata": {},
   "source": [
    "![image-24.png](attachment:image-24.png)"
   ]
  },
  {
   "attachments": {},
   "cell_type": "markdown",
   "id": "6ec32b50",
   "metadata": {},
   "source": [
    "### 입출력 예 #1\n",
    "\n",
    "1. 스코빌 지수가 1인 음식과 2인 음식을 섞으면 음식의 스코빌 지수가 아래와 같이 됩니다.\n",
    "   - 새로운 음식의 스코빌 지수 = 1 + (2 * 2) = 5\n",
    "   - 가진 음식의 스코빌 지수 = [5, 3, 9, 10, 12]\n",
    "\n",
    "2. 스코빌 지수가 3인 음식과 5인 음식을 섞으면 음식의 스코빌 지수가 아래와 같이 됩니다.\n",
    "    - 새로운 음식의 스코빌 지수 = 3 + (5 * 2) = 13\n",
    "    - 가진 음식의 스코빌 지수 = [13, 9, 10, 12]\n",
    "\n",
    "모든 음식의 스코빌 지수가 7 이상이 되었고 이때 섞은 횟수는 2회입니다.\n",
    "\n"
   ]
  },
  {
   "attachments": {},
   "cell_type": "markdown",
   "id": "18991500",
   "metadata": {},
   "source": [
    "### 내 풀이"
   ]
  },
  {
   "cell_type": "code",
   "execution_count": 8,
   "id": "77d7c135",
   "metadata": {},
   "outputs": [
    {
     "data": {
      "text/plain": [
       "5"
      ]
     },
     "execution_count": 8,
     "metadata": {},
     "output_type": "execute_result"
    }
   ],
   "source": [
    "scoville = [1, 2, 3, 9, 10, 12]\n",
    "K = 100\n",
    "\n",
    "import heapq\n",
    "\n",
    "def solution(scoville, K):\n",
    "    answer = 0  # 섞는 횟수를 저장하는 변수\n",
    "\n",
    "    # 음식 리스트를 최소 힙으로 변환\n",
    "    heapq.heapify(scoville)\n",
    "\n",
    "    while len(scoville) > 1:\n",
    "        # 가장 맵지 않은 음식의 스코빌 지수가 K 이상이면 반복 종료\n",
    "        if scoville[0] >= K:\n",
    "            break\n",
    "\n",
    "        # 가장 맵지 않은 음식과 두 번째로 맵지 않은 음식을 가져옴\n",
    "        first = heapq.heappop(scoville)\n",
    "        second = heapq.heappop(scoville)\n",
    "\n",
    "        # 섞은 음식의 스코빌 지수 계산\n",
    "        mixed = first + (second * 2)\n",
    "\n",
    "        # 섞은 음식을 다시 힙에 추가\n",
    "        heapq.heappush(scoville, mixed)\n",
    "        answer += 1\n",
    "\n",
    "    # 모든 음식의 스코빌 지수를 K 이상으로 만들지 못한 경우\n",
    "    if scoville[0] < K:\n",
    "        return -1\n",
    "\n",
    "    return answer\n",
    "\n",
    "        \n",
    "solution(scoville, K)\n",
    "\n"
   ]
  },
  {
   "attachments": {},
   "cell_type": "markdown",
   "id": "39616c6c",
   "metadata": {},
   "source": [
    "### 다른 사람 풀이"
   ]
  },
  {
   "cell_type": "code",
   "execution_count": 7,
   "id": "5fa7b26b",
   "metadata": {},
   "outputs": [
    {
     "data": {
      "text/plain": [
       "-1"
      ]
     },
     "execution_count": 7,
     "metadata": {},
     "output_type": "execute_result"
    }
   ],
   "source": [
    "scoville = [1, 2, 3, 9, 10, 12]\n",
    "K = 500\n",
    "\n",
    "import heapq as hq\n",
    "\n",
    "def solution(scoville, K):\n",
    "    answer = 0 # 섞는 횟수를 저장하는 변수\n",
    "\n",
    "    hq.heapify(scoville) # 음식 리스트를 최소 힙 형태로 변경\n",
    "    \n",
    "    while True:\n",
    "        first = hq.heappop(scoville)\n",
    "        if first >= K: # 가장 맵지 않음 음식의 스코빌지수거 K보다 클경우 정지\n",
    "            break\n",
    "        if len(scoville) == 0:\n",
    "            return -1\n",
    "        second = hq.heappop(scoville)\n",
    "        hq.heappush(scoville, first + second*2)\n",
    "        answer += 1  \n",
    "\n",
    "    return answer\n",
    "\n",
    "solution(scoville, K)"
   ]
  },
  {
   "cell_type": "code",
   "execution_count": 8,
   "id": "b64c629e",
   "metadata": {},
   "outputs": [
    {
     "data": {
      "text/plain": [
       "-1"
      ]
     },
     "execution_count": 8,
     "metadata": {},
     "output_type": "execute_result"
    }
   ],
   "source": [
    "scoville = [1, 2, 3, 9, 10, 12]\n",
    "K = 500\n",
    "\n",
    "import heapq as hq\n",
    "\n",
    "def solution(scoville, K):\n",
    "    answer = 0 # 섞는 횟수를 저장하는 변수\n",
    "\n",
    "    hq.heapify(scoville) # 음식 리스트를 최소 힙 형태로 변경\n",
    "    \n",
    "    while len(scoville) >= 2: # 리스트의 길이가 2 이상일 경우 반복\n",
    "        first = hq.heappop(scoville)\n",
    "        if first >= K: # 가장 맵지 않음 음식의 스코빌지수거 K보다 클경우 정지\n",
    "            break        \n",
    "        second = hq.heappop(scoville)\n",
    "        hq.heappush(scoville, first + second*2) # 섞은 두 음식을 리스트 맨 앞에 추가\n",
    "        answer += 1 # 섞은 횟수 1 증가\n",
    "\n",
    "    if scoville[0] < K: # 모두 다 섞은 뒤 남은 마지막 음식의 스코빌지수가 K를 넘지 못하면 -1 반환\n",
    "        return -1\n",
    "\n",
    "    return answer\n",
    "\n",
    "solution(scoville, K)"
   ]
  }
 ],
 "metadata": {
  "kernelspec": {
   "display_name": "Python 3 (ipykernel)",
   "language": "python",
   "name": "python3"
  },
  "language_info": {
   "codemirror_mode": {
    "name": "ipython",
    "version": 3
   },
   "file_extension": ".py",
   "mimetype": "text/x-python",
   "name": "python",
   "nbconvert_exporter": "python",
   "pygments_lexer": "ipython3",
   "version": "3.8.10"
  }
 },
 "nbformat": 4,
 "nbformat_minor": 5
}
