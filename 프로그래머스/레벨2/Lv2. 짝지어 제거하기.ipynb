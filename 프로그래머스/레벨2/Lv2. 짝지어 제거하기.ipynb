{
 "cells": [
  {
   "cell_type": "markdown",
   "id": "6e133826",
   "metadata": {},
   "source": [
    "## Lv2. 짝지어 제거하기"
   ]
  },
  {
   "cell_type": "markdown",
   "id": "686132de",
   "metadata": {},
   "source": [
    "짝지어 제거하기는, 알파벳 소문자로 이루어진 문자열을 가지고 시작합니다. 먼저 문자열에서 같은 알파벳이 2개 붙어 있는 짝을 찾습니다. 그다음, 그 둘을 제거한 뒤, 앞뒤로 문자열을 이어 붙입니다. 이 과정을 반복해서 문자열을 모두 제거한다면 짝지어 제거하기가 종료됩니다. 문자열 S가 주어졌을 때, 짝지어 제거하기를 성공적으로 수행할 수 있는지 반환하는 함수를 완성해 주세요. 성공적으로 수행할 수 있으면 1을, 아닐 경우 0을 리턴해주면 됩니다.\n",
    "\n",
    "예를 들어, 문자열 S = baabaa 라면\n",
    "\n",
    "b aa baa → bb aa → aa →\n",
    "\n",
    "의 순서로 문자열을 모두 제거할 수 있으므로 1을 반환합니다."
   ]
  },
  {
   "cell_type": "markdown",
   "id": "a2b617c2",
   "metadata": {},
   "source": [
    "### 제한사항"
   ]
  },
  {
   "cell_type": "markdown",
   "id": "1653d6b4",
   "metadata": {},
   "source": [
    "- 문자열의 길이 : 1,000,000이하의 자연수\n",
    "- 문자열은 모두 소문자로 이루어져 있습니다."
   ]
  },
  {
   "cell_type": "markdown",
   "id": "7db1ab26",
   "metadata": {},
   "source": [
    "### 입출력 예"
   ]
  },
  {
   "attachments": {
    "image-2.png": {
     "image/png": "[encoded data removed]"
    }
   },
   "cell_type": "markdown",
   "id": "ad55b836",
   "metadata": {},
   "source": [
    "![image-2.png](attachment:image-2.png)"
   ]
  },
  {
   "cell_type": "markdown",
   "id": "6ec32b50",
   "metadata": {},
   "source": [
    "### 입출력 예 #1\n",
    "위의 예시와 같습니다.\n",
    "\n",
    "### 입출력 예 #2\n",
    "문자열이 남아있지만 짝지어 제거할 수 있는 문자열이 더 이상 존재하지 않기 때문에 0을 반환합니다."
   ]
  },
  {
   "cell_type": "markdown",
   "id": "18991500",
   "metadata": {},
   "source": [
    "### 내 풀이"
   ]
  },
  {
   "cell_type": "code",
   "execution_count": 70,
   "id": "77d7c135",
   "metadata": {},
   "outputs": [
    {
     "data": {
      "text/plain": [
       "1"
      ]
     },
     "execution_count": 70,
     "metadata": {},
     "output_type": "execute_result"
    }
   ],
   "source": [
    "s = 'baabaa'\n",
    "\n",
    "def solution(s):\n",
    "    stack = []\n",
    "    ## 같은 문자열이 있다면 제거\n",
    "    for i in s:\n",
    "        if len(stack) != 0 and i == stack[-1]:\n",
    "            stack.pop()\n",
    "        else:\n",
    "            stack.append(i)\n",
    "    if len(stack) != 0:\n",
    "        return 0\n",
    "    else:\n",
    "        return 1\n",
    "\n",
    "solution(s)"
   ]
  },
  {
   "cell_type": "markdown",
   "id": "39616c6c",
   "metadata": {},
   "source": [
    "### 다른 사람 풀이"
   ]
  },
  {
   "cell_type": "code",
   "execution_count": null,
   "id": "346398f5",
   "metadata": {},
   "outputs": [],
   "source": [
    "def solution(s):\n",
    "    answer = []\n",
    "    for i in s:\n",
    "        if not(answer): # list가 비어있다면 값 추가\n",
    "            answer.append(i)\n",
    "        else:\n",
    "            if(answer[-1] == i):\n",
    "                answer.pop()\n",
    "            else:\n",
    "                answer.append(i)    \n",
    "    return not(answer)"
   ]
  },
  {
   "cell_type": "markdown",
   "id": "cb53bf26",
   "metadata": {},
   "source": [
    "### 코드비교"
   ]
  },
  {
   "cell_type": "code",
   "execution_count": 96,
   "id": "319670fb",
   "metadata": {},
   "outputs": [
    {
     "name": "stdout",
     "output_type": "stream",
     "text": [
      "첫 번째 코드 실행 시간: 0.10669830000006186\n",
      "두 번째 코드 실행 시간: 0.07864020000033634\n"
     ]
    }
   ],
   "source": [
    "import timeit\n",
    "\n",
    "# 내 풀이\n",
    "def solution1(s):\n",
    "    stack = []\n",
    "    ## 같은 문자열이 있다면 제거\n",
    "    for i in s:\n",
    "        if len(stack) != 0 and i == stack[-1]:\n",
    "            stack.pop()\n",
    "        else:\n",
    "            stack.append(i)\n",
    "    if len(stack) != 0:\n",
    "        return 0\n",
    "    else:\n",
    "        return 1\n",
    "\n",
    "# 프로그래머스 다른 사람 풀이\n",
    "def solution2(s):\n",
    "    answer = []\n",
    "    for i in s:\n",
    "        if not(answer):\n",
    "            answer.append(i)\n",
    "        else:\n",
    "            if(answer[-1] == i):\n",
    "                answer.pop()\n",
    "            else:\n",
    "                answer.append(i)    \n",
    "    return not(answer)\n",
    "\n",
    "# 각 코드의 실행 시간을 측정하는 함수\n",
    "def measure_time(code_func, arg):\n",
    "    execution_time = timeit.timeit(lambda: code_func(arg), number=10000)\n",
    "    return execution_time\n",
    "\n",
    "# 실행 시간 측정\n",
    "s = 'qwertyqwertyqwertyqwertyqwertyqwertyqwertyqwerty'\n",
    "time_solution1 = measure_time(solution1, s)\n",
    "time_solution2 = measure_time(solution2, s)\n",
    "\n",
    "print(\"첫 번째 코드 실행 시간:\", time_solution1)\n",
    "print(\"두 번째 코드 실행 시간:\", time_solution2)\n"
   ]
  }
 ],
 "metadata": {
  "kernelspec": {
   "display_name": "Python 3 (ipykernel)",
   "language": "python",
   "name": "python3"
  },
  "language_info": {
   "codemirror_mode": {
    "name": "ipython",
    "version": 3
   },
   "file_extension": ".py",
   "mimetype": "text/x-python",
   "name": "python",
   "nbconvert_exporter": "python",
   "pygments_lexer": "ipython3",
   "version": "3.8.10"
  }
 },
 "nbformat": 4,
 "nbformat_minor": 5
}
