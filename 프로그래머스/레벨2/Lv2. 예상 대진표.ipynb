{
 "cells": [
  {
   "cell_type": "markdown",
   "id": "6e133826",
   "metadata": {},
   "source": [
    "## Lv2. 예상 대진표"
   ]
  },
  {
   "cell_type": "markdown",
   "id": "686132de",
   "metadata": {},
   "source": [
    "△△ 게임대회가 개최되었습니다. 이 대회는 N명이 참가하고, 토너먼트 형식으로 진행됩니다. N명의 참가자는 각각 1부터 N번을 차례대로 배정받습니다. 그리고, 1번↔2번, 3번↔4번, ... , N-1번↔N번의 참가자끼리 게임을 진행합니다. 각 게임에서 이긴 사람은 다음 라운드에 진출할 수 있습니다. 이때, 다음 라운드에 진출할 참가자의 번호는 다시 1번부터 N/2번을 차례대로 배정받습니다. 만약 1번↔2번 끼리 겨루는 게임에서 2번이 승리했다면 다음 라운드에서 1번을 부여받고, 3번↔4번에서 겨루는 게임에서 3번이 승리했다면 다음 라운드에서 2번을 부여받게 됩니다. 게임은 최종 한 명이 남을 때까지 진행됩니다.\n",
    "\n",
    "이때, 처음 라운드에서 A번을 가진 참가자는 경쟁자로 생각하는 B번 참가자와 몇 번째 라운드에서 만나는지 궁금해졌습니다. 게임 참가자 수 N, 참가자 번호 A, 경쟁자 번호 B가 함수 solution의 매개변수로 주어질 때, 처음 라운드에서 A번을 가진 참가자는 경쟁자로 생각하는 B번 참가자와 몇 번째 라운드에서 만나는지 return 하는 solution 함수를 완성해 주세요. 단, A번 참가자와 B번 참가자는 서로 붙게 되기 전까지 항상 이긴다고 가정합니다."
   ]
  },
  {
   "cell_type": "markdown",
   "id": "a2b617c2",
   "metadata": {},
   "source": [
    "### 제한사항"
   ]
  },
  {
   "cell_type": "markdown",
   "id": "1653d6b4",
   "metadata": {},
   "source": [
    "- N : 21 이상 220 이하인 자연수 (2의 지수 승으로 주어지므로 부전승은 발생하지 않습니다.)\n",
    "- A, B : N 이하인 자연수 (단, A ≠ B 입니다.)"
   ]
  },
  {
   "cell_type": "markdown",
   "id": "7db1ab26",
   "metadata": {},
   "source": [
    "### 입출력 예"
   ]
  },
  {
   "attachments": {
    "image-2.png": {
     "image/png": "[encoded data removed]"
    }
   },
   "cell_type": "markdown",
   "id": "ad55b836",
   "metadata": {},
   "source": [
    "![image-2.png](attachment:image-2.png)"
   ]
  },
  {
   "cell_type": "markdown",
   "id": "7d4fe040",
   "metadata": {},
   "source": [
    "## 입출력 예 #1\n",
    "첫 번째 라운드에서 4번 참가자는 3번 참가자와 붙게 되고, 7번 참가자는 8번 참가자와 붙게 됩니다. 항상 이긴다고 가정했으므로 4번 참가자는 다음 라운드에서 2번이 되고, 7번 참가자는 4번이 됩니다. 두 번째 라운드에서 2번은 1번과 붙게 되고, 4번은 3번과 붙게 됩니다. 항상 이긴다고 가정했으므로 2번은 다음 라운드에서 1번이 되고, 4번은 2번이 됩니다. 세 번째 라운드에서 1번과 2번으로 두 참가자가 붙게 되므로 3을 return 하면 됩니다."
   ]
  },
  {
   "cell_type": "markdown",
   "id": "18991500",
   "metadata": {},
   "source": [
    "### 내 풀이"
   ]
  },
  {
   "cell_type": "code",
   "execution_count": 131,
   "id": "1af6d351",
   "metadata": {},
   "outputs": [
    {
     "name": "stdout",
     "output_type": "stream",
     "text": [
      "2 4\n",
      "1 2\n",
      "1 1\n",
      "3\n"
     ]
    }
   ],
   "source": [
    "A, B = 4,7\n",
    "cnt = 0\n",
    "\n",
    "while A != B:\n",
    "    cnt+=1\n",
    "    if (A % 2 != 0) and (A!=1) :\n",
    "        A += 1\n",
    "        A = A//2\n",
    "    elif A % 2 == 0:\n",
    "        A = A//2\n",
    "    if (B % 2 != 0) and (B!=1):\n",
    "        B += 1\n",
    "        B = B//2\n",
    "    elif B % 2 == 0:\n",
    "        B = B//2\n",
    "    print(A, B)\n",
    "print(cnt)"
   ]
  },
  {
   "cell_type": "markdown",
   "id": "906d5fd6",
   "metadata": {},
   "source": [
    "### 다른 사람 풀이"
   ]
  },
  {
   "cell_type": "code",
   "execution_count": 125,
   "id": "f5892340",
   "metadata": {},
   "outputs": [
    {
     "name": "stdout",
     "output_type": "stream",
     "text": [
      "2 3\n",
      "1 2\n",
      "1 1\n"
     ]
    },
    {
     "data": {
      "text/plain": [
       "3"
      ]
     },
     "execution_count": 125,
     "metadata": {},
     "output_type": "execute_result"
    }
   ],
   "source": [
    "a,b = 4,5\n",
    "def solution(a, b):\n",
    "    answer = 0\n",
    "    while a != b:\n",
    "        answer += 1\n",
    "        a, b = (a + 1) // 2, (b + 1) // 2\n",
    "        print(a,b)\n",
    "        # +1을 한 뒤 2로 나눈 몫을 저장하는 이유는\n",
    "        # a, b가 홀수이건 짝수이건 1을 더해서 몫으로 나누면\n",
    "        # 다음 라운드의 번호를 구할 수 있음\n",
    "    return answer\n",
    "solution(a, b)"
   ]
  }
 ],
 "metadata": {
  "kernelspec": {
   "display_name": "Python 3 (ipykernel)",
   "language": "python",
   "name": "python3"
  },
  "language_info": {
   "codemirror_mode": {
    "name": "ipython",
    "version": 3
   },
   "file_extension": ".py",
   "mimetype": "text/x-python",
   "name": "python",
   "nbconvert_exporter": "python",
   "pygments_lexer": "ipython3",
   "version": "3.11.3"
  }
 },
 "nbformat": 4,
 "nbformat_minor": 5
}
