{
 "cells": [
  {
   "cell_type": "markdown",
   "id": "6e133826",
   "metadata": {},
   "source": [
    "## Lv2. 다음 큰 숫자"
   ]
  },
  {
   "cell_type": "markdown",
   "id": "686132de",
   "metadata": {},
   "source": [
    "자연수 n이 주어졌을 때, n의 다음 큰 숫자는 다음과 같이 정의 합니다.\n",
    "\n",
    "- 조건 1. n의 다음 큰 숫자는 n보다 큰 자연수 입니다.\n",
    "- 조건 2. n의 다음 큰 숫자와 n은 2진수로 변환했을 때 1의 갯수가 같습니다.\n",
    "- 조건 3. n의 다음 큰 숫자는 조건 1, 2를 만족하는 수 중 가장 작은 수 입니다.\n",
    "\n",
    "예를 들어서 78(1001110)의 다음 큰 숫자는 83(1010011)입니다.\n",
    "\n",
    "자연수 n이 매개변수로 주어질 때, n의 다음 큰 숫자를 return 하는 solution 함수를 완성해주세요."
   ]
  },
  {
   "cell_type": "markdown",
   "id": "a2b617c2",
   "metadata": {},
   "source": [
    "### 제한사항"
   ]
  },
  {
   "cell_type": "markdown",
   "id": "1653d6b4",
   "metadata": {},
   "source": [
    "- n은 1,000,000 이하의 자연수 입니다."
   ]
  },
  {
   "cell_type": "markdown",
   "id": "7db1ab26",
   "metadata": {},
   "source": [
    "### 입출력 예"
   ]
  },
  {
   "attachments": {
    "image.png": {
     "image/png": "[encoded data removed]"
    }
   },
   "cell_type": "markdown",
   "id": "ad55b836",
   "metadata": {},
   "source": [
    "![image.png](attachment:image.png)"
   ]
  },
  {
   "cell_type": "markdown",
   "id": "6ec32b50",
   "metadata": {},
   "source": [
    "### 입출력 예#1\n",
    "문제 예시와 같습니다.\n",
    "\n",
    "### 입출력 예#2\n",
    "15(1111)의 다음 큰 숫자는 23(10111)입니다."
   ]
  },
  {
   "cell_type": "markdown",
   "id": "18991500",
   "metadata": {},
   "source": [
    "### 내 풀이"
   ]
  },
  {
   "cell_type": "code",
   "execution_count": 33,
   "id": "77d7c135",
   "metadata": {},
   "outputs": [
    {
     "data": {
      "text/plain": [
       "83"
      ]
     },
     "execution_count": 33,
     "metadata": {},
     "output_type": "execute_result"
    }
   ],
   "source": [
    "n = 78\n",
    "\n",
    "def solution(n):\n",
    "    next_num = n+1\n",
    "\n",
    "    while bin(n).count('1') != bin(next_num).count('1'):\n",
    "        next_num += 1\n",
    "\n",
    "    return next_num\n",
    "\n",
    "solution(n)"
   ]
  },
  {
   "cell_type": "markdown",
   "id": "39616c6c",
   "metadata": {},
   "source": [
    "### 다른 사람 풀이"
   ]
  },
  {
   "cell_type": "code",
   "execution_count": 4,
   "id": "5fa7b26b",
   "metadata": {},
   "outputs": [
    {
     "data": {
      "text/plain": [
       "4"
      ]
     },
     "execution_count": 4,
     "metadata": {},
     "output_type": "execute_result"
    }
   ],
   "source": [
    "def nextBigNumber(n):\n",
    "    num1 = bin(n).count('1')\n",
    "    while True:\n",
    "        n = n + 1\n",
    "        if num1 == bin(n).count('1'):\n",
    "            break\n",
    "    return n"
   ]
  },
  {
   "cell_type": "markdown",
   "id": "2adb946e",
   "metadata": {},
   "source": [
    "### 코드 비교"
   ]
  },
  {
   "cell_type": "code",
   "execution_count": 32,
   "id": "2cd5db81",
   "metadata": {},
   "outputs": [
    {
     "name": "stdout",
     "output_type": "stream",
     "text": [
      "첫 번째 코드 실행 시간: 0.04948449999983495\n",
      "두 번째 코드 실행 시간: 0.030120200000055775\n"
     ]
    }
   ],
   "source": [
    "import timeit\n",
    "\n",
    "# 첫 번째 코드\n",
    "def solution(n):\n",
    "    next_num = n+1\n",
    "\n",
    "    while bin(n).count('1') != bin(next_num).count('1'):\n",
    "        next_num += 1\n",
    "\n",
    "    return next_num\n",
    "\n",
    "# 두 번째 코드\n",
    "def nextBigNumber(n):\n",
    "    num1 = bin(n).count('1')\n",
    "    while True:\n",
    "        n = n + 1\n",
    "        if num1 == bin(n).count('1'):\n",
    "            break\n",
    "    return n\n",
    "\n",
    "# 각 코드의 실행 시간을 측정하는 함수\n",
    "def measure_time(code_func, arg):\n",
    "    execution_time = timeit.timeit(lambda: code_func(arg), number=10000)\n",
    "    return execution_time\n",
    "\n",
    "# 실행 시간 측정\n",
    "n = 78\n",
    "time_solution = measure_time(solution, n)\n",
    "time_nextBigNumber = measure_time(nextBigNumber, n)\n",
    "\n",
    "print(\"첫 번째 코드 실행 시간:\", time_solution)\n",
    "print(\"두 번째 코드 실행 시간:\", time_nextBigNumber)\n"
   ]
  }
 ],
 "metadata": {
  "kernelspec": {
   "display_name": "Python 3 (ipykernel)",
   "language": "python",
   "name": "python3"
  },
  "language_info": {
   "codemirror_mode": {
    "name": "ipython",
    "version": 3
   },
   "file_extension": ".py",
   "mimetype": "text/x-python",
   "name": "python",
   "nbconvert_exporter": "python",
   "pygments_lexer": "ipython3",
   "version": "3.8.10"
  }
 },
 "nbformat": 4,
 "nbformat_minor": 5
}
