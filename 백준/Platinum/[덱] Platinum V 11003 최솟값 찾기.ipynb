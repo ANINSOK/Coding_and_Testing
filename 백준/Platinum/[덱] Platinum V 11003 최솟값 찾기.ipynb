{
 "cells": [
  {
   "cell_type": "markdown",
   "id": "6e133826",
   "metadata": {},
   "source": [
    "### [덱] Platinum V 11003 최솟값 찾기"
   ]
  },
  {
   "cell_type": "markdown",
   "id": "686132de",
   "metadata": {},
   "source": [
    "### 문제 설명\n",
    "N개의 수 A1, A2, ..., AN과 L이 주어진다.\n",
    "\n",
    "Di = Ai-L+1 ~ Ai 중의 최솟값이라고 할 때, D에 저장된 수를 출력하는 프로그램을 작성하시오. 이때, i ≤ 0 인 Ai는 무시하고 D를 구해야 한다."
   ]
  },
  {
   "cell_type": "markdown",
   "id": "36bbaf05",
   "metadata": {},
   "source": [
    "### 입력\n",
    "\n",
    "첫째 줄에 N과 L이 주어진다. (1 ≤ L ≤ N ≤ 5,000,000)\n",
    "\n",
    "둘째 줄에는 N개의 수 Ai가 주어진다. (-109 ≤ Ai ≤ 109)\n",
    "\n",
    "### 출력\n",
    "\n",
    "첫째 줄에 Di를 공백으로 구분하여 순서대로 출력한다."
   ]
  },
  {
   "attachments": {
    "image.png": {
     "image/png": "[encoded data removed]"
    }
   },
   "cell_type": "markdown",
   "id": "7db1ab26",
   "metadata": {},
   "source": [
    "### 입출력 예\n",
    "\n",
    "![image.png](attachment:image.png)"
   ]
  },
  {
   "cell_type": "markdown",
   "id": "ac1ee298",
   "metadata": {},
   "source": [
    "\n",
    "### 슈도코드\n",
    "- N: 입력받기(수의 갯수)\n",
    "\n",
    "- L: 입력받기()\n",
    "\n",
    "- D: 선언하기(슬라이딩 윈도우)"
   ]
  },
  {
   "cell_type": "markdown",
   "id": "fa82584b",
   "metadata": {},
   "source": [
    "### 내 풀이"
   ]
  },
  {
   "cell_type": "code",
   "execution_count": 1,
   "id": "76281131",
   "metadata": {},
   "outputs": [
    {
     "name": "stdout",
     "output_type": "stream",
     "text": [
      "1 1 1 2 2 2 2 2 3 3 2 2 "
     ]
    }
   ],
   "source": [
    "from collections import deque\n",
    "\n",
    "N, L = 12, 3\n",
    "ls = [1,5,2,3,6,2,3,7,3,5,2,6]  \n",
    "\n",
    "window = deque()  # 슬라이딩 윈도우를 위한 덱\n",
    "D = []\n",
    "for i in ls:\n",
    "    window.append(i)\n",
    "    if len(window) > L:\n",
    "        window.popleft()\n",
    "    print(min(window), end=' ')"
   ]
  },
  {
   "cell_type": "markdown",
   "id": "368903fd",
   "metadata": {},
   "source": [
    "### 내 풀이 실행시간 측정"
   ]
  },
  {
   "cell_type": "code",
   "execution_count": 5,
   "id": "03a87953",
   "metadata": {},
   "outputs": [
    {
     "name": "stdout",
     "output_type": "stream",
     "text": [
      "실행 시간: 1.0787057876586914 초\n"
     ]
    }
   ],
   "source": [
    "import time\n",
    "from collections import deque\n",
    "\n",
    "# 실행 시간 측정 시작\n",
    "start_time = time.time()\n",
    "\n",
    "from collections import deque\n",
    "\n",
    "N, L = 5000000, 1000\n",
    "ls = [1,5,2,3,6,2,3,7,3,5,2,6,6,2,3,6,2,3,4,6,1,2,3,4,5,6,7,5,4,8,6,1,2,4,5,8,9,7,5,6,4,1,2,5,8,7,4,1,5,4]*100000\n",
    "\n",
    "window = deque()  # 슬라이딩 윈도우를 위한 덱\n",
    "D = []\n",
    "for i in ls:\n",
    "    window.append(i)\n",
    "    if len(window) > L:\n",
    "        window.popleft()\n",
    "\n",
    "# 실행 시간 측정 종료\n",
    "end_time = time.time()\n",
    "\n",
    "# 실행 시간 출력\n",
    "execution_time = end_time - start_time\n",
    "print(\"실행 시간:\", execution_time, \"초\")\n"
   ]
  },
  {
   "cell_type": "markdown",
   "id": "149edafa",
   "metadata": {},
   "source": [
    "### 강의 내 풀이\n"
   ]
  },
  {
   "cell_type": "code",
   "execution_count": 6,
   "id": "12246ea8",
   "metadata": {},
   "outputs": [
    {
     "name": "stdout",
     "output_type": "stream",
     "text": [
      "1 1 1 2 2 2 2 2 3 3 2 2 "
     ]
    }
   ],
   "source": [
    "from collections import deque\n",
    "\n",
    "N, L = 12, 3\n",
    "now = [1,5,2,3,6,2,3,7,3,5,2,6]  \n",
    "\n",
    "window = deque()\n",
    "\n",
    "for i in range(N):\n",
    "    \n",
    "    while window and window[-1][0] > now[i]:\n",
    "        window.pop()\n",
    "        \n",
    "    window.append((now[i], i))\n",
    "    \n",
    "    if window[0][1] <= i-L:\n",
    "        window.popleft()\n",
    "        \n",
    "    print(window[0][0], end=' ')\n"
   ]
  },
  {
   "cell_type": "markdown",
   "id": "ea5b3be2",
   "metadata": {},
   "source": [
    "### 강의 내 풀이 실행시간 측정"
   ]
  },
  {
   "cell_type": "code",
   "execution_count": 8,
   "id": "d1cccbac",
   "metadata": {},
   "outputs": [
    {
     "name": "stdout",
     "output_type": "stream",
     "text": [
      "실행 시간: 2.105677366256714 초\n"
     ]
    }
   ],
   "source": [
    "import time\n",
    "from collections import deque\n",
    "\n",
    "# 실행 시간 측정 시작\n",
    "start_time = time.time()\n",
    "\n",
    "from collections import deque\n",
    "\n",
    "N, L = 5000000, 1000\n",
    "ls = [1,5,2,3,6,2,3,7,3,5,2,6,6,2,3,6,2,3,4,6,1,2,3,4,5,6,7,5,4,8,6,1,2,4,5,8,9,7,5,6,4,1,2,5,8,7,4,1,5,4]*100000\n",
    "\n",
    "window = deque()\n",
    "\n",
    "for i in range(N):\n",
    "    \n",
    "    while window and window[-1][0] > ls[i]:\n",
    "        window.pop()\n",
    "        \n",
    "    window.append((ls[i], i))\n",
    "    \n",
    "    if window[0][1] <= i-L:\n",
    "        window.popleft()\n",
    "        \n",
    "# 실행 시간 측정 종료\n",
    "end_time = time.time()\n",
    "\n",
    "# 실행 시간 출력\n",
    "execution_time = end_time - start_time\n",
    "print(\"실행 시간:\", execution_time, \"초\")\n"
   ]
  },
  {
   "cell_type": "code",
   "execution_count": null,
   "id": "97af2fe2",
   "metadata": {},
   "outputs": [],
   "source": []
  }
 ],
 "metadata": {
  "kernelspec": {
   "display_name": "Python 3 (ipykernel)",
   "language": "python",
   "name": "python3"
  },
  "language_info": {
   "codemirror_mode": {
    "name": "ipython",
    "version": 3
   },
   "file_extension": ".py",
   "mimetype": "text/x-python",
   "name": "python",
   "nbconvert_exporter": "python",
   "pygments_lexer": "ipython3",
   "version": "3.11.3"
  }
 },
 "nbformat": 4,
 "nbformat_minor": 5
}
