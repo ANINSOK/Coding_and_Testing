{
 "cells": [
  {
   "cell_type": "markdown",
   "id": "6e133826",
   "metadata": {},
   "source": [
    "### [DP] Silver Ⅰ 1932 정수 삼각형\n",
    "\n",
    "### 문제\n",
    "            7\n",
    "          3   8\n",
    "        8   1   0\n",
    "      2   7   4   4\n",
    "    4   5   2   6   5\n",
    "\n",
    "\n",
    "위 그림은 크기가 5인 정수 삼각형의 한 모습이다.\n",
    "\n",
    "맨 위층 7부터 시작해서 아래에 있는 수 중 하나를 선택하여 아래층으로 내려올 때, 이제까지 선택된 수의 합이 최대가 되는 경로를 구하는 프로그램을 작성하라. 아래층에 있는 수는 현재 층에서 선택된 수의 대각선 왼쪽 또는 대각선 오른쪽에 있는 것 중에서만 선택할 수 있다.\n",
    "\n",
    "삼각형의 크기는 1 이상 500 이하이다. 삼각형을 이루고 있는 각 수는 모두 정수이며, 범위는 0 이상 9999 이하이다.\n",
    "\n",
    "입력\n",
    "첫째 줄에 삼각형의 크기 n(1 ≤ n ≤ 500)이 주어지고, 둘째 줄부터 n+1번째 줄까지 정수 삼각형이 주어진다.\n",
    "\n",
    "출력\n",
    "첫째 줄에 합이 최대가 되는 경로에 있는 수의 합을 출력한다.\n",
    "\n",
    "### 입출력 예\n",
    "![](https://velog.velcdn.com/images/inseok5053/post/c74537b8-941f-415f-a385-216f94ce6bca/image.png)\n"
   ]
  },
  {
   "cell_type": "markdown",
   "id": "fa82584b",
   "metadata": {},
   "source": [
    "### 내 풀이"
   ]
  },
  {
   "cell_type": "code",
   "execution_count": null,
   "id": "7726a9bd",
   "metadata": {},
   "outputs": [],
   "source": [
    "N = int(input()) # 몇층인지\n",
    "dp = [[0] * N for _ in range(N)] # 각 층별로 최대값을 저장할 dp N층 선언\n",
    "\n",
    "for i in range(N):\n",
    "    row = list(map(int, input().split())) # 각 층마다 있는 숫자 list \n",
    "    for j in range(i + 1):\n",
    "        if j == 0: # 해당 층에서 j가 제일 왼쪽에 있는 수 일때\n",
    "            dp[i][j] = dp[i - 1][j] + row[j]\n",
    "        elif j == i: # 해당 층에서 j가 제일 오른쪽에 있는 수 일때\n",
    "            dp[i][j] = dp[i - 1][j - 1] + row[j]\n",
    "        else:\n",
    "            dp[i][j] = max(dp[i - 1][j - 1], dp[i - 1][j]) + row[j]\n",
    "            \n",
    "print(max(dp[N - 1]))"
   ]
  }
 ],
 "metadata": {
  "kernelspec": {
   "display_name": "Python 3 (ipykernel)",
   "language": "python",
   "name": "python3"
  },
  "language_info": {
   "codemirror_mode": {
    "name": "ipython",
    "version": 3
   },
   "file_extension": ".py",
   "mimetype": "text/x-python",
   "name": "python",
   "nbconvert_exporter": "python",
   "pygments_lexer": "ipython3",
   "version": "3.11.3"
  }
 },
 "nbformat": 4,
 "nbformat_minor": 5
}
