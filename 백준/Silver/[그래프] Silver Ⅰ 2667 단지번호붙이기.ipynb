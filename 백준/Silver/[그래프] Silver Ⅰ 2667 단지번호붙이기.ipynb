{
 "cells": [
  {
   "cell_type": "markdown",
   "id": "62cb6348",
   "metadata": {},
   "source": [
    "### [그래프] Silver Ⅰ 2667 단지번호붙이기\n",
    "\n",
    "### 문제\n",
    "<그림 1>과 같이 정사각형 모양의 지도가 있다. 1은 집이 있는 곳을, 0은 집이 없는 곳을 나타낸다. 철수는 이 지도를 가지고 연결된 집의 모임인 단지를 정의하고, 단지에 번호를 붙이려 한다. 여기서 연결되었다는 것은 어떤 집이 좌우, 혹은 아래위로 다른 집이 있는 경우를 말한다. 대각선상에 집이 있는 경우는 연결된 것이 아니다. <그림 2>는 <그림 1>을 단지별로 번호를 붙인 것이다. 지도를 입력하여 단지수를 출력하고, 각 단지에 속하는 집의 수를 오름차순으로 정렬하여 출력하는 프로그램을 작성하시오.\n",
    "\n",
    "![](https://velog.velcdn.com/images/inseok5053/post/d71b3f82-24fc-4cbc-a5be-dd215c0cb7a5/image.png)\n",
    "\n",
    "### 입력\n",
    "첫 번째 줄에는 지도의 크기 N(정사각형이므로 가로와 세로의 크기는 같으며 5≤N≤25)이 입력되고, 그 다음 N줄에는 각각 N개의 자료(0혹은 1)가 입력된다.\n",
    "\n",
    "### 출력\n",
    "첫 번째 줄에는 총 단지수를 출력하시오. 그리고 각 단지내 집의 수를 오름차순으로 정렬하여 한 줄에 하나씩 출력하시오.\n",
    "\n",
    "### 입출력 예\n",
    "![](https://velog.velcdn.com/images/inseok5053/post/aee7bcb1-8a6a-415e-92e4-5bad133fb03f/image.png)\n"
   ]
  },
  {
   "cell_type": "markdown",
   "id": "fa82584b",
   "metadata": {},
   "source": [
    "### 내 풀이"
   ]
  },
  {
   "cell_type": "code",
   "execution_count": null,
   "id": "70795676",
   "metadata": {},
   "outputs": [],
   "source": [
    "def dfs(x, y):\n",
    "    global apt_num\n",
    "    # 범위를 벗어나면 종료\n",
    "    if x < 0 or y < 0 or x >= N or y >= N:\n",
    "        return False\n",
    "    \n",
    "    if rows[x][y] == 1:\n",
    "        rows[x][y] = 0\n",
    "        apt_num += 1\n",
    "        dfs(x-1, y)  # 상\n",
    "        dfs(x+1, y)  # 하\n",
    "        dfs(x, y+1)  # 우\n",
    "        dfs(x, y-1)  # 좌\n",
    "        return True\n",
    "    return False\n",
    "\n",
    "N = int(input())  # 아파트 정사각형 크기\n",
    "\n",
    "rows = []\n",
    "for _ in range(N):\n",
    "    row = list(map(int, input().strip()))\n",
    "    rows.append(row)\n",
    "\n",
    "단지수 = 0\n",
    "몇갠데 = []\n",
    "apt_num = 0\n",
    "\n",
    "for i in range(N):\n",
    "    for j in range(N):\n",
    "        if dfs(i, j) == True:\n",
    "            단지수 += 1 # 단지 갯수 세기\n",
    "            몇갠데.append(apt_num) # 단지당 아파드 갯수 추가\n",
    "            apt_num = 0 # 다시 함수 돌려야하니 초기화\n",
    "\n",
    "print(단지수)\n",
    "for i in sorted(몇갠데):\n",
    "    print(i)"
   ]
  }
 ],
 "metadata": {
  "kernelspec": {
   "display_name": "Python 3 (ipykernel)",
   "language": "python",
   "name": "python3"
  },
  "language_info": {
   "codemirror_mode": {
    "name": "ipython",
    "version": 3
   },
   "file_extension": ".py",
   "mimetype": "text/x-python",
   "name": "python",
   "nbconvert_exporter": "python",
   "pygments_lexer": "ipython3",
   "version": "3.11.3"
  }
 },
 "nbformat": 4,
 "nbformat_minor": 5
}
