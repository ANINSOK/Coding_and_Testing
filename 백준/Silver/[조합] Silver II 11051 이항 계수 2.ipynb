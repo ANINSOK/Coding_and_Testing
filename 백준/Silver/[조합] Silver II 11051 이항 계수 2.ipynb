{
 "cells": [
  {
   "cell_type": "markdown",
   "id": "6e133826",
   "metadata": {},
   "source": [
    "### [조합] Silver II 11051 이항 계수 2\n",
    "\n",
    "### 문제\n",
    "자연수 $N$과 정수 $K$가 주어졌을 때 이항 계수 $\\binom{N}{K}$를 10,007로 나눈 나머지를 구하는 프로그램을 작성하시오.\n",
    "\n",
    "### 입력\n",
    "첫째 줄에 $N$과 $K$가 주어진다. (1 ≤ $N$ ≤ 1,000, 0 ≤ $K$ ≤ $N$)\n",
    "\n",
    "### 출력\n",
    " \n",
    "$\\binom{N}{K}$를 10,007로 나눈 나머지를 출력한다."
   ]
  },
  {
   "attachments": {
    "image.png": {
     "image/png": "[encoded data removed]"
    }
   },
   "cell_type": "markdown",
   "id": "7db1ab26",
   "metadata": {},
   "source": [
    "### 입출력 예\n",
    "![image.png](attachment:image.png)"
   ]
  },
  {
   "cell_type": "markdown",
   "id": "fa82584b",
   "metadata": {},
   "source": [
    "### 내 풀이"
   ]
  },
  {
   "cell_type": "code",
   "execution_count": 10,
   "id": "01270bff",
   "metadata": {},
   "outputs": [
    {
     "name": "stdout",
     "output_type": "stream",
     "text": [
      "10\n"
     ]
    }
   ],
   "source": [
    "# 시간초과~\n",
    "from itertools import combinations as cb\n",
    "\n",
    "a, b = map(int, input().split())\n",
    "\n",
    "ls = list(range(a))\n",
    "\n",
    "tmp = cb(ls, b)\n",
    "cnt = 0\n",
    "for _ in tmp:\n",
    "    cnt += 1\n",
    "\n",
    "print(cnt % 10007)"
   ]
  },
  {
   "cell_type": "markdown",
   "id": "5ed00921",
   "metadata": {},
   "source": [
    "### 강의 내 풀이"
   ]
  },
  {
   "cell_type": "code",
   "execution_count": null,
   "id": "aa35037b",
   "metadata": {},
   "outputs": [],
   "source": [
    "N, K = map(int, input().split())\n",
    "D = [[0 for j in range(N+1)] for i in range(N+1)]\n",
    "\n",
    "for i in range(0, N+1):\n",
    "    D[i][0] = 1\n",
    "    D[i][i] = 1\n",
    "\n",
    "for i in range(2, N+1):\n",
    "    for j in range(1, i):\n",
    "        D[i][j] = (D[i-1][j-1] + D[i-1][j]) % 10007\n",
    "print(D)\n",
    "print(D[N][K])"
   ]
  },
  {
   "cell_type": "code",
   "execution_count": null,
   "id": "ac49bf93",
   "metadata": {},
   "outputs": [],
   "source": []
  }
 ],
 "metadata": {
  "kernelspec": {
   "display_name": "Python 3 (ipykernel)",
   "language": "python",
   "name": "python3"
  },
  "language_info": {
   "codemirror_mode": {
    "name": "ipython",
    "version": 3
   },
   "file_extension": ".py",
   "mimetype": "text/x-python",
   "name": "python",
   "nbconvert_exporter": "python",
   "pygments_lexer": "ipython3",
   "version": "3.11.3"
  }
 },
 "nbformat": 4,
 "nbformat_minor": 5
}
