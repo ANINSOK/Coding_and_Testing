{
 "cells": [
  {
   "cell_type": "markdown",
   "id": "62cb6348",
   "metadata": {},
   "source": [
    "### [그래프] Silver Ⅰ 2178 미로 탐색\n",
    "\n",
    "### 문제\n",
    "N×M크기의 배열로 표현되는 미로가 있다.\n",
    "\n",
    "![](https://velog.velcdn.com/images/inseok5053/post/9237ad61-f546-472b-84be-c98010fa36e2/image.png)\n",
    "\n",
    "미로에서 1은 이동할 수 있는 칸을 나타내고, 0은 이동할 수 없는 칸을 나타낸다. 이러한 미로가 주어졌을 때, (1, 1)에서 출발하여 (N, M)의 위치로 이동할 때 지나야 하는 최소의 칸 수를 구하는 프로그램을 작성하시오. 한 칸에서 다른 칸으로 이동할 때, 서로 인접한 칸으로만 이동할 수 있다.\n",
    "\n",
    "위의 예에서는 15칸을 지나야 (N, M)의 위치로 이동할 수 있다. 칸을 셀 때에는 시작 위치와 도착 위치도 포함한다.\n",
    "\n",
    "### 입력\n",
    "첫째 줄에 두 정수 N, M(2 ≤ N, M ≤ 100)이 주어진다. 다음 N개의 줄에는 M개의 정수로 미로가 주어진다. 각각의 수들은 붙어서 입력으로 주어진다.\n",
    "\n",
    "### 출력\n",
    "첫째 줄에 지나야 하는 최소의 칸 수를 출력한다. 항상 도착위치로 이동할 수 있는 경우만 입력으로 주어진다.\n",
    "\n",
    "### 입출력 예\n",
    "![](https://velog.velcdn.com/images/inseok5053/post/db69af28-c4b4-4db3-b60b-2b476c85d970/image.png)"
   ]
  },
  {
   "cell_type": "markdown",
   "id": "fa82584b",
   "metadata": {},
   "source": [
    "### 내 풀이"
   ]
  },
  {
   "cell_type": "code",
   "execution_count": 42,
   "id": "65562e34",
   "metadata": {},
   "outputs": [
    {
     "name": "stdout",
     "output_type": "stream",
     "text": [
      "3\n"
     ]
    }
   ],
   "source": [
    "from collections import deque\n",
    "\n",
    "def find_route(N, M):\n",
    "    maze = []\n",
    "    visited = [[False] * M for _ in range(N)]\n",
    "    visited[0][0] = True\n",
    "    \n",
    "    for _ in range(N):\n",
    "        row = list(map(int, input().strip()))\n",
    "        maze.append(row)\n",
    "        \n",
    "    queue = deque([(0, 0, 1)])  # 가로위치, 세로위치, 횟수 저장\n",
    "\n",
    "\n",
    "    while queue:\n",
    "        H, W, cnt = queue.popleft()\n",
    "        if (H, W) == (N-1, M-1):  # 끝에 도달한 경우\n",
    "            return cnt\n",
    "        \n",
    "        # 이동 가능한 방법\n",
    "        moves = [(1, 0), (-1, 0), (0, 1), (0, -1)]\n",
    "        \n",
    "        for dh, dw in moves:\n",
    "            new_h, new_w = H + dh, W + dw\n",
    "            if 0 <= new_h < N and 0 <= new_w < M and maze[new_h][new_w] == 1 and not visited[new_h][new_w]:\n",
    "                visited[new_h][new_w] = True\n",
    "                queue.append((new_h, new_w, cnt + 1))\n",
    "\n",
    "N, M = map(int, input().split())\n",
    "result = find_route(N, M)\n",
    "\n",
    "print(result)"
   ]
  }
 ],
 "metadata": {
  "kernelspec": {
   "display_name": "Python 3 (ipykernel)",
   "language": "python",
   "name": "python3"
  },
  "language_info": {
   "codemirror_mode": {
    "name": "ipython",
    "version": 3
   },
   "file_extension": ".py",
   "mimetype": "text/x-python",
   "name": "python",
   "nbconvert_exporter": "python",
   "pygments_lexer": "ipython3",
   "version": "3.11.3"
  }
 },
 "nbformat": 4,
 "nbformat_minor": 5
}
