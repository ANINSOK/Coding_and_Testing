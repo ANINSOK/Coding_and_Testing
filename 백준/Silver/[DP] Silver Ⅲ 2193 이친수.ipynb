{
 "cells": [
  {
   "cell_type": "markdown",
   "id": "6e133826",
   "metadata": {},
   "source": [
    "### [DP] Silver Ⅲ 2193 이친수\n",
    "\n",
    "### 문제\n",
    "0과 1로만 이루어진 수를 이진수라 한다. 이러한 이진수 중 특별한 성질을 갖는 것들이 있는데, 이들을 이친수(pinary number)라 한다. 이친수는 다음의 성질을 만족한다.\n",
    "\n",
    "이친수는 0으로 시작하지 않는다.\n",
    "이친수에서는 1이 두 번 연속으로 나타나지 않는다. 즉, 11을 부분 문자열로 갖지 않는다.\n",
    "예를 들면 1, 10, 100, 101, 1000, 1001 등이 이친수가 된다. 하지만 0010101이나 101101은 각각 1, 2번 규칙에 위배되므로 이친수가 아니다.\n",
    "\n",
    "N(1 ≤ N ≤ 90)이 주어졌을 때, N자리 이친수의 개수를 구하는 프로그램을 작성하시오.\n",
    "\n",
    "### 입력\n",
    "첫째 줄에 N이 주어진다.\n",
    "\n",
    "### 출력\n",
    "첫째 줄에 N자리 이친수의 개수를 출력한다."
   ]
  },
  {
   "attachments": {
    "image.png": {
     "image/png": "[encoded data removed]"
    }
   },
   "cell_type": "markdown",
   "id": "7db1ab26",
   "metadata": {},
   "source": [
    "### 입출력 예\n",
    "![image.png](attachment:image.png)"
   ]
  },
  {
   "cell_type": "markdown",
   "id": "fa82584b",
   "metadata": {},
   "source": [
    "### 내 풀이"
   ]
  },
  {
   "cell_type": "code",
   "execution_count": 1,
   "id": "65562e34",
   "metadata": {},
   "outputs": [
    {
     "name": "stdout",
     "output_type": "stream",
     "text": [
      "5\n"
     ]
    }
   ],
   "source": [
    "# N을 입력 받습니다.\n",
    "N = int(input())\n",
    "\n",
    "# dp 배열을 초기화합니다.\n",
    "dp = [0] * (N + 1)\n",
    "\n",
    "# 초기 조건을 설정합니다.\n",
    "dp[1] = 1\n",
    "if N > 1:\n",
    "    dp[2] = 1\n",
    "\n",
    "# 동적 프로그래밍을 통해 dp 배열을 채웁니다.\n",
    "for i in range(3, N + 1):\n",
    "    dp[i] = dp[i - 1] + dp[i - 2]\n",
    "\n",
    "# 결과를 출력합니다.\n",
    "print(dp[N])\n"
   ]
  },
  {
   "cell_type": "code",
   "execution_count": null,
   "id": "28090483",
   "metadata": {},
   "outputs": [],
   "source": []
  }
 ],
 "metadata": {
  "kernelspec": {
   "display_name": "Python 3 (ipykernel)",
   "language": "python",
   "name": "python3"
  },
  "language_info": {
   "codemirror_mode": {
    "name": "ipython",
    "version": 3
   },
   "file_extension": ".py",
   "mimetype": "text/x-python",
   "name": "python",
   "nbconvert_exporter": "python",
   "pygments_lexer": "ipython3",
   "version": "3.11.3"
  }
 },
 "nbformat": 4,
 "nbformat_minor": 5
}
