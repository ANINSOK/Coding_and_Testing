{
 "cells": [
  {
   "cell_type": "markdown",
   "id": "62cb6348",
   "metadata": {},
   "source": [
    "### [그래프] Silver Ⅱ 1012 유기농 배추\n",
    "\n",
    "### 문제\n",
    "차세대 영농인 한나는 강원도 고랭지에서 유기농 배추를 재배하기로 하였다. 농약을 쓰지 않고 배추를 재배하려면 배추를 해충으로부터 보호하는 것이 중요하기 때문에, 한나는 해충 방지에 효과적인 배추흰지렁이를 구입하기로 결심한다. 이 지렁이는 배추근처에 서식하며 해충을 잡아 먹음으로써 배추를 보호한다. 특히, 어떤 배추에 배추흰지렁이가 한 마리라도 살고 있으면 이 지렁이는 인접한 다른 배추로 이동할 수 있어, 그 배추들 역시 해충으로부터 보호받을 수 있다. 한 배추의 상하좌우 네 방향에 다른 배추가 위치한 경우에 서로 인접해있는 것이다.\n",
    "\n",
    "한나가 배추를 재배하는 땅은 고르지 못해서 배추를 군데군데 심어 놓았다. 배추들이 모여있는 곳에는 배추흰지렁이가 한 마리만 있으면 되므로 서로 인접해있는 배추들이 몇 군데에 퍼져있는지 조사하면 총 몇 마리의 지렁이가 필요한지 알 수 있다. 예를 들어 배추밭이 아래와 같이 구성되어 있으면 최소 5마리의 배추흰지렁이가 필요하다. 0은 배추가 심어져 있지 않은 땅이고, 1은 배추가 심어져 있는 땅을 나타낸다.\n",
    "\n",
    "![](https://velog.velcdn.com/images/inseok5053/post/06770cb6-5e50-4a0b-8173-73c220c39515/image.png)\n",
    "\n",
    "### 입력\n",
    "입력의 첫 줄에는 테스트 케이스의 개수 T가 주어진다. 그 다음 줄부터 각각의 테스트 케이스에 대해 첫째 줄에는 배추를 심은 배추밭의 가로길이 M(1 ≤ M ≤ 50)과 세로길이 N(1 ≤ N ≤ 50), 그리고 배추가 심어져 있는 위치의 개수 K(1 ≤ K ≤ 2500)이 주어진다. 그 다음 K줄에는 배추의 위치 X(0 ≤ X ≤ M-1), Y(0 ≤ Y ≤ N-1)가 주어진다. 두 배추의 위치가 같은 경우는 없다.\n",
    "\n",
    "### 출력\n",
    "각 테스트 케이스에 대해 필요한 최소의 배추흰지렁이 마리 수를 출력한다.\n",
    "\n",
    "### 입출력 예\n",
    "![](https://velog.velcdn.com/images/inseok5053/post/84743349-3ffd-46df-9015-d6d0f73bb2b8/image.png)\n"
   ]
  },
  {
   "cell_type": "markdown",
   "id": "fa82584b",
   "metadata": {},
   "source": [
    "### 내 풀이"
   ]
  },
  {
   "cell_type": "code",
   "execution_count": null,
   "id": "65562e34",
   "metadata": {},
   "outputs": [],
   "source": [
    "# T는 테스트 케이스의 개수를 입력 받습니다.\n",
    "T = int(input())\n",
    "\n",
    "# DFS 함수 정의\n",
    "def dfs(x, y):\n",
    "    # 범위를 벗어나면 False를 반환하여 종료합니다.\n",
    "    if x < 0 or y < 0 or x >= M or y >= N:\n",
    "        return False\n",
    "    # 현재 위치가 1인 경우, 0으로 변경하고 인접한 위치를 탐색합니다.\n",
    "    if qkx[x][y] == 1:\n",
    "        qkx[x][y] = 0\n",
    "        dfs(x-1, y)  # 상\n",
    "        dfs(x+1, y)  # 하\n",
    "        dfs(x, y+1)  # 우\n",
    "        dfs(x, y-1)  # 좌\n",
    "        return True\n",
    "    return False\n",
    "\n",
    "# 각 테스트 케이스를 처리합니다.\n",
    "for i in range(T):\n",
    "    # M: 격자판의 세로 크기, N: 격자판의 가로 크기, K: 1의 개수\n",
    "    M, N, K = map(int, input().split())\n",
    "    \n",
    "    # 격자판 초기화\n",
    "    qkx = [[0] * N for i in range(M)]\n",
    "\n",
    "    # 1의 위치를 입력받아 격자판에 표시합니다.\n",
    "    for i in range(K):\n",
    "        x, y = map(int, input().split())\n",
    "        qkx[x][y] = 1\n",
    "    \n",
    "    warm = 0  # 지렁이(영역)의 개수를 초기화합니다.\n",
    "    \n",
    "    # 모든 격자를 순회하면서 DFS를 수행하여 지렁이 개수를 세봅니다.\n",
    "    for i in range(M):\n",
    "        for j in range(N):\n",
    "            if dfs(i, j) == True:\n",
    "                warm += 1\n",
    "    \n",
    "    # 지렁이 개수 출력\n",
    "    print(warm)\n"
   ]
  }
 ],
 "metadata": {
  "kernelspec": {
   "display_name": "Python 3 (ipykernel)",
   "language": "python",
   "name": "python3"
  },
  "language_info": {
   "codemirror_mode": {
    "name": "ipython",
    "version": 3
   },
   "file_extension": ".py",
   "mimetype": "text/x-python",
   "name": "python",
   "nbconvert_exporter": "python",
   "pygments_lexer": "ipython3",
   "version": "3.11.3"
  }
 },
 "nbformat": 4,
 "nbformat_minor": 5
}
