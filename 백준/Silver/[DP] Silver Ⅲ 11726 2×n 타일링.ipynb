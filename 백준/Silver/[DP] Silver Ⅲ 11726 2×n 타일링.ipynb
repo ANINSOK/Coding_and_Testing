{
 "cells": [
  {
   "cell_type": "markdown",
   "id": "6e133826",
   "metadata": {},
   "source": [
    "### [DP] Silver Ⅲ 11726 2×n 타일링\n",
    "\n",
    "### 문제\n",
    "2×n 크기의 직사각형을 1×2, 2×1 타일로 채우는 방법의 수를 구하는 프로그램을 작성하시오.\n",
    "\n",
    "아래 그림은 2×5 크기의 직사각형을 채운 한 가지 방법의 예이다.\n",
    "\n",
    "\n",
    "\n",
    "### 입력\n",
    "첫째 줄에 n이 주어진다. (1 ≤ n ≤ 1,000)\n",
    "\n",
    "### 출력\n",
    "첫째 줄에 2×n 크기의 직사각형을 채우는 방법의 수를 10,007로 나눈 나머지를 출력한다."
   ]
  },
  {
   "cell_type": "markdown",
   "id": "7db1ab26",
   "metadata": {},
   "source": [
    "### 입출력 예\n",
    "![Alt text](image-1.png)"
   ]
  },
  {
   "cell_type": "markdown",
   "id": "fa82584b",
   "metadata": {},
   "source": [
    "### 내 풀이"
   ]
  },
  {
   "cell_type": "code",
   "execution_count": null,
   "id": "994015ad",
   "metadata": {},
   "outputs": [],
   "source": [
    "n = int(input())\n",
    "\n",
    "# 메모이제이션을 위한 배열 초기화\n",
    "dp = [0] * (n + 1)\n",
    "\n",
    "def fill_rectangle(n):\n",
    "    if n == 1:\n",
    "        return 1\n",
    "    elif n == 2:\n",
    "        return 2\n",
    "    \n",
    "    if dp[n] != 0:  # 이미 계산한 값이 있다면 바로 반환\n",
    "        return dp[n]\n",
    "    \n",
    "    # 계산하지 않은 경우, 메모이제이션을 활용하여 계산\n",
    "    dp[n] = (fill_rectangle(n-1) + fill_rectangle(n-2)) % 10007\n",
    "    return dp[n]\n",
    "\n",
    "# 2×n 크기의 직사각형을 채우는 방법의 수를 출력\n",
    "print(fill_rectangle(n))\n"
   ]
  },
  {
   "cell_type": "code",
   "execution_count": null,
   "id": "2aff5b9d",
   "metadata": {},
   "outputs": [],
   "source": [
    "n = int(input())\n",
    "# memoization을 위함\n",
    "cache = [0]*1001\n",
    "# n이 1,2인 경우는 명확하니까 미리 선언해둔다.\n",
    "cache[1]=1\n",
    "cache[2]=2\n",
    "# dynamic programming\n",
    "for i in range(3,1001):\n",
    "  cache[i] = (cache[i-1]+cache[i-2])%10007\n",
    "\n",
    "print(cache[n])"
   ]
  }
 ],
 "metadata": {
  "kernelspec": {
   "display_name": "Python 3 (ipykernel)",
   "language": "python",
   "name": "python3"
  },
  "language_info": {
   "codemirror_mode": {
    "name": "ipython",
    "version": 3
   },
   "file_extension": ".py",
   "mimetype": "text/x-python",
   "name": "python",
   "nbconvert_exporter": "python",
   "pygments_lexer": "ipython3",
   "version": "3.11.3"
  }
 },
 "nbformat": 4,
 "nbformat_minor": 5
}
