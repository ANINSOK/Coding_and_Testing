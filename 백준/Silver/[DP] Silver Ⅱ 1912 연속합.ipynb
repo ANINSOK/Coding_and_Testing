{
 "cells": [
  {
   "cell_type": "markdown",
   "id": "6e133826",
   "metadata": {},
   "source": [
    "### [DP] Silver Ⅱ 1912 연속합\n",
    "\n",
    "### 문제\n",
    "n개의 정수로 이루어진 임의의 수열이 주어진다. 우리는 이 중 연속된 몇 개의 수를 선택해서 구할 수 있는 합 중 가장 큰 합을 구하려고 한다. 단, 수는 한 개 이상 선택해야 한다.\n",
    "\n",
    "예를 들어서 10, -4, 3, 1, 5, 6, -35, 12, 21, -1 이라는 수열이 주어졌다고 하자. 여기서 정답은 12+21인 33이 정답이 된다.\n",
    "\n",
    "### 입력\n",
    "첫째 줄에 정수 n(1 ≤ n ≤ 100,000)이 주어지고 둘째 줄에는 n개의 정수로 이루어진 수열이 주어진다. 수는 -1,000보다 크거나 같고, 1,000보다 작거나 같은 정수이다.\n",
    "\n",
    "### 출력\n",
    "첫째 줄에 답을 출력한다.\n",
    "\n",
    "### 입출력 예\n",
    "![](https://velog.velcdn.com/images/inseok5053/post/e0de3bd6-3311-49b1-964f-4bf7b928435a/image.png)"
   ]
  },
  {
   "cell_type": "markdown",
   "id": "fa82584b",
   "metadata": {},
   "source": [
    "### 내 풀이"
   ]
  },
  {
   "cell_type": "code",
   "execution_count": 16,
   "id": "7726a9bd",
   "metadata": {},
   "outputs": [
    {
     "name": "stdout",
     "output_type": "stream",
     "text": [
      "14\n"
     ]
    }
   ],
   "source": [
    "n = int(input())\n",
    "arr = list(map(int, input().split()))\n",
    "dp = [0] * n\n",
    "dp[0] = arr[0]\n",
    "max_sum = arr[0]\n",
    "\n",
    "for i in range(1, n):\n",
    "    dp[i] = max(arr[i], dp[i - 1] + arr[i])\n",
    "    \n",
    "    max_sum = max(max_sum, dp[i])\n",
    "\n",
    "print(max_sum)"
   ]
  }
 ],
 "metadata": {
  "kernelspec": {
   "display_name": "Python 3 (ipykernel)",
   "language": "python",
   "name": "python3"
  },
  "language_info": {
   "codemirror_mode": {
    "name": "ipython",
    "version": 3
   },
   "file_extension": ".py",
   "mimetype": "text/x-python",
   "name": "python",
   "nbconvert_exporter": "python",
   "pygments_lexer": "ipython3",
   "version": "3.11.3"
  }
 },
 "nbformat": 4,
 "nbformat_minor": 5
}
