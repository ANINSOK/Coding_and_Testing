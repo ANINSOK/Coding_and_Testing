{
 "cells": [
  {
   "cell_type": "markdown",
   "id": "6e133826",
   "metadata": {},
   "source": [
    "### [DP] Silver Ⅲ 9095 1, 2, 3 더하기\n",
    "\n",
    "### 문제\n",
    "정수 4를 1, 2, 3의 합으로 나타내는 방법은 총 7가지가 있다. 합을 나타낼 때는 수를 1개 이상 사용해야 한다.\n",
    "\n",
    "- 1+1+1+1\n",
    "- 1+1+2\n",
    "- 1+2+1\n",
    "- 2+1+1\n",
    "- 2+2\n",
    "- 1+3\n",
    "- 3+1\n",
    "\n",
    "정수 n이 주어졌을 때, n을 1, 2, 3의 합으로 나타내는 방법의 수를 구하는 프로그램을 작성하시오.\n",
    "\n",
    "### 입력\n",
    "첫째 줄에 테스트 케이스의 개수 T가 주어진다. 각 테스트 케이스는 한 줄로 이루어져 있고, 정수 n이 주어진다. n은 양수이며 11보다 작다.\n",
    "\n",
    "### 출력\n",
    "각 테스트 케이스마다, n을 1, 2, 3의 합으로 나타내는 방법의 수를 출력한다."
   ]
  },
  {
   "cell_type": "markdown",
   "id": "7db1ab26",
   "metadata": {},
   "source": [
    "### 입출력 예\n",
    "![](https://velog.velcdn.com/images/inseok5053/post/d3c215a0-ac81-4166-935c-769988c8ae28/image.png)\n"
   ]
  },
  {
   "cell_type": "markdown",
   "id": "fa82584b",
   "metadata": {},
   "source": [
    "### 내 풀이"
   ]
  },
  {
   "cell_type": "code",
   "execution_count": null,
   "id": "65562e34",
   "metadata": {},
   "outputs": [],
   "source": [
    "# 테스트 케이스의 개수 입력\n",
    "T = int(input())\n",
    "\n",
    "# 각 테스트 케이스 처리\n",
    "for _ in range(T):\n",
    "    n = int(input())\n",
    "    \n",
    "    # dp 배열 초기화\n",
    "    dp = [0] * (n + 1)\n",
    "    \n",
    "    # 초기값 설정\n",
    "    dp[0] = 1  # 0을 만드는 방법은 아무것도 선택하지 않는 것 1가지 방법\n",
    "    \n",
    "    # dp 배열 채우기\n",
    "    for i in range(1, n + 1):\n",
    "        if i >= 1:\n",
    "            dp[i] += dp[i-1]\n",
    "        if i >= 2:\n",
    "            dp[i] += dp[i-2]\n",
    "        if i >= 3:\n",
    "            dp[i] += dp[i-3]\n",
    "    \n",
    "    # 정수 n을 1, 2, 3의 합으로 나타내는 방법의 수 출력\n",
    "    print(dp[n])\n"
   ]
  }
 ],
 "metadata": {
  "kernelspec": {
   "display_name": "Python 3 (ipykernel)",
   "language": "python",
   "name": "python3"
  },
  "language_info": {
   "codemirror_mode": {
    "name": "ipython",
    "version": 3
   },
   "file_extension": ".py",
   "mimetype": "text/x-python",
   "name": "python",
   "nbconvert_exporter": "python",
   "pygments_lexer": "ipython3",
   "version": "3.11.3"
  }
 },
 "nbformat": 4,
 "nbformat_minor": 5
}
