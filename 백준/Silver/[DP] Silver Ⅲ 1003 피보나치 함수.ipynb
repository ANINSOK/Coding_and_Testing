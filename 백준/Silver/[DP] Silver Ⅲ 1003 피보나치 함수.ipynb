{
 "cells": [
  {
   "cell_type": "markdown",
   "id": "6e133826",
   "metadata": {},
   "source": [
    "### [DP] Silver Ⅲ 1003 피보나치 함수\n",
    "\n",
    "\n",
    "### 문제\n",
    "다음 소스는 N번째 피보나치 수를 구하는 C++ 함수이다.\n",
    "\n",
    "![](https://velog.velcdn.com/images/inseok5053/post/5ce6d312-4ff2-40ff-86f7-3e6b9f55c5a0/image.png)\n",
    "\n",
    "\n",
    "fibonacci(3)을 호출하면 다음과 같은 일이 일어난다.\n",
    "\n",
    "- fibonacci(3)은 fibonacci(2)와 fibonacci(1) (첫 번째 호출)을 호출한다.\n",
    "- fibonacci(2)는 fibonacci(1) (두 번째 호출)과 fibonacci(0)을 호출한다.\n",
    "- 두 번째 호출한 fibonacci(1)은 1을 출력하고 1을 리턴한다.\n",
    "- fibonacci(0)은 0을 출력하고, 0을 리턴한다.\n",
    "- fibonacci(2)는 fibonacci(1)과 fibonacci(0)의 결과를 얻고, 1을 리턴한다.\n",
    "- 첫 번째 호출한 fibonacci(1)은 1을 출력하고, 1을 리턴한다.\n",
    "- fibonacci(3)은 fibonacci(2)와 fibonacci(1)의 결과를 얻고, 2를 리턴한다.\n",
    "\n",
    "1은 2번 출력되고, 0은 1번 출력된다. N이 주어졌을 때, fibonacci(N)을 호출했을 때, 0과 1이 각각 몇 번 출력되는지 구하는 프로그램을 작성하시오.\n",
    "\n",
    "### 입력\n",
    "첫째 줄에 테스트 케이스의 개수 T가 주어진다.\n",
    "\n",
    "각 테스트 케이스는 한 줄로 이루어져 있고, N이 주어진다. N은 40보다 작거나 같은 자연수 또는 0이다.\n",
    "\n",
    "### 출력\n",
    "각 테스트 케이스마다 0이 출력되는 횟수와 1이 출력되는 횟수를 공백으로 구분해서 출력한다.\n"
   ]
  },
  {
   "cell_type": "markdown",
   "id": "7db1ab26",
   "metadata": {},
   "source": [
    "### 입출력 예\n",
    "![](https://velog.velcdn.com/images/inseok5053/post/6e9e8bed-85a2-40a5-a251-4bd5facb20a3/image.png)\n",
    "\n"
   ]
  },
  {
   "cell_type": "markdown",
   "id": "fa82584b",
   "metadata": {},
   "source": [
    "### 내 풀이"
   ]
  },
  {
   "cell_type": "code",
   "execution_count": 8,
   "id": "b01ca0a4",
   "metadata": {},
   "outputs": [
    {
     "name": "stdout",
     "output_type": "stream",
     "text": [
      "1 0\n",
      "0 1\n",
      "1 2\n"
     ]
    }
   ],
   "source": [
    "# 피보나치 함수를 호출하고 0과 1의 출력 횟수를 반환하는 함수\n",
    "def fibonacci_with_count(n):\n",
    "    if n == 0:\n",
    "        return [1, 0]\n",
    "    elif n == 1:\n",
    "        return [0, 1]\n",
    "    else:\n",
    "        prev = [1, 0]\n",
    "        current = [0, 1]\n",
    "        for _ in range(2, n + 1):\n",
    "            next_fib = [prev[0] + current[0], prev[1] + current[1]]\n",
    "            prev = current\n",
    "            current = next_fib\n",
    "        return current\n",
    "\n",
    "# 테스트 케이스 수 입력\n",
    "T = int(input())\n",
    "\n",
    "# 각 테스트 케이스에 대한 결과 출력\n",
    "for _ in range(T):\n",
    "    N = int(input())\n",
    "    result = fibonacci_with_count(N)\n",
    "    print(f\"{result[0]} {result[1]}\")\n"
   ]
  },
  {
   "cell_type": "code",
   "execution_count": null,
   "id": "c68a90fa",
   "metadata": {},
   "outputs": [],
   "source": []
  }
 ],
 "metadata": {
  "kernelspec": {
   "display_name": "Python 3 (ipykernel)",
   "language": "python",
   "name": "python3"
  },
  "language_info": {
   "codemirror_mode": {
    "name": "ipython",
    "version": 3
   },
   "file_extension": ".py",
   "mimetype": "text/x-python",
   "name": "python",
   "nbconvert_exporter": "python",
   "pygments_lexer": "ipython3",
   "version": "3.11.3"
  }
 },
 "nbformat": 4,
 "nbformat_minor": 5
}
