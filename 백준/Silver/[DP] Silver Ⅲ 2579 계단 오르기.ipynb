{
 "cells": [
  {
   "cell_type": "markdown",
   "id": "6e133826",
   "metadata": {},
   "source": [
    "### [DP] Silver Ⅲ 2579 계단 오르기\n",
    "\n",
    "### 문제\n",
    "\n",
    "계단 오르기 게임은 계단 아래 시작점부터 계단 꼭대기에 위치한 도착점까지 가는 게임이다.\n",
    "\n",
    "예를 들어 <그림>와 같이 시작점에서부터 첫 번째, 두 번째, 네 번째, 여섯 번째 계단을 밟아 도착점에 도달하면 총 점수는 10 + 20 + 25 + 20 = 75점이 된다.\n",
    "\n",
    "\n",
    "![](https://upload.acmicpc.net/f00b6121-1c25-492e-9bc0-d96377c586b0/-/preview/)\n",
    "\n",
    "계단 오르는 데는 다음과 같은 규칙이 있다.\n",
    "\n",
    "계단은 한 번에 한 계단씩 또는 두 계단씩 오를 수 있다. 즉, 한 계단을 밟으면서 이어서 다음 계단이나, 다음 다음 계단으로 오를 수 있다.\n",
    "연속된 세 개의 계단을 모두 밟아서는 안 된다. 단, 시작점은 계단에 포함되지 않는다.\n",
    "마지막 도착 계단은 반드시 밟아야 한다.\n",
    "따라서 첫 번째 계단을 밟고 이어 두 번째 계단이나, 세 번째 계단으로 오를 수 있다. 하지만, 첫 번째 계단을 밟고 이어 네 번째 계단으로 올라가거나, 첫 번째, 두 번째, 세 번째 계단을 연속해서 모두 밟을 수는 없다.\n",
    "\n",
    "각 계단에 쓰여 있는 점수가 주어질 때 이 게임에서 얻을 수 있는 총 점수의 최댓값을 구하는 프로그램을 작성하시오.\n",
    "\n",
    "### 입력\n",
    "\n",
    "입력의 첫째 줄에 계단의 개수가 주어진다.\n",
    "\n",
    "둘째 줄부터 한 줄에 하나씩 제일 아래에 놓인 계단부터 순서대로 각 계단에 쓰여 있는 점수가 주어진다. 계단의 개수는 300이하의 자연수이고, 계단에 쓰여 있는 점수는 10,000이하의 자연수이다.\n",
    "\n",
    "### 출력\n",
    "\n",
    "첫째 줄에 계단 오르기 게임에서 얻을 수 있는 총 점수의 최댓값을 출력한다.\n"
   ]
  },
  {
   "cell_type": "markdown",
   "id": "8a16ad5b",
   "metadata": {},
   "source": [
    "### 입출력 예\n",
    "![](https://velog.velcdn.com/images/inseok5053/post/c15f7ac4-8458-4a63-a973-49dbf00ebe2a/image.png)\n"
   ]
  },
  {
   "cell_type": "markdown",
   "id": "fa82584b",
   "metadata": {},
   "source": [
    "### 내 풀이\n"
   ]
  },
  {
   "cell_type": "code",
   "execution_count": null,
   "id": "65562e34",
   "metadata": {},
   "outputs": [],
   "source": [
    "n = int(input())  # 계단의 개수\n",
    "stairs = [0]  # 계단 점수를 저장할 리스트 (인덱스를 계단 번호와 맞추기 위해 0을 추가)\n",
    "for _ in range(n):\n",
    "    stairs.append(int(input()))\n",
    "\n",
    "dp = [0] * (n + 1)  # 최대 점수를 저장할 배열 초기화\n",
    "\n",
    "# 첫 번째 계단과 두 번째 계단 초기값 설정\n",
    "dp[1] = stairs[1]\n",
    "if n > 1:\n",
    "    dp[2] = stairs[1] + stairs[2]\n",
    "\n",
    "# 다이나믹 프로그래밍 진행\n",
    "for i in range(3, n + 1):\n",
    "    dp[i] = max(dp[i - 2], dp[i - 3] + stairs[i - 1]) + stairs[i]\n",
    "# 마지막 계단까지 도착했을 때의 최대 점수 출력\n",
    "print(dp[n])"
   ]
  }
 ],
 "metadata": {
  "kernelspec": {
   "display_name": "Python 3 (ipykernel)",
   "language": "python",
   "name": "python3"
  },
  "language_info": {
   "codemirror_mode": {
    "name": "ipython",
    "version": 3
   },
   "file_extension": ".py",
   "mimetype": "text/x-python",
   "name": "python",
   "nbconvert_exporter": "python",
   "pygments_lexer": "ipython3",
   "version": "3.11.3"
  }
 },
 "nbformat": 4,
 "nbformat_minor": 5
}
