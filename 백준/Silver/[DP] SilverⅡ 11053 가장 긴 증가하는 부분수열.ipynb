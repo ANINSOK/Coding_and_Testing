{
 "cells": [
  {
   "cell_type": "markdown",
   "id": "6e133826",
   "metadata": {},
   "source": [
    "### [DP] SilverⅡ 11053 가장 긴 증가하는 부분수열\n",
    "\n",
    "### 문제\n",
    "수열 A가 주어졌을 때, 가장 긴 증가하는 부분 수열을 구하는 프로그램을 작성하시오.\n",
    "\n",
    "예를 들어, 수열 A = {10, 20, 10, 30, 20, 50} 인 경우에 가장 긴 증가하는 부분 수열은 A = {10, 20, 30, 50} 이고, 길이는 4이다.\n",
    "\n",
    "### 입력\n",
    "첫째 줄에 수열 A의 크기 N (1 ≤ N ≤ 1,000)이 주어진다.\n",
    "\n",
    "둘째 줄에는 수열 A를 이루고 있는 Ai가 주어진다. (1 ≤ Ai ≤ 1,000)\n",
    "\n",
    "### 출력\n",
    "첫째 줄에 수열 A의 가장 긴 증가하는 부분 수열의 길이를 출력한다.\n"
   ]
  },
  {
   "cell_type": "markdown",
   "id": "8a16ad5b",
   "metadata": {},
   "source": [
    "### 입출력 예\n",
    "![](https://velog.velcdn.com/images/inseok5053/post/ed635628-d77d-49b5-a9fd-f1a2f3ceb50d/image.png)"
   ]
  },
  {
   "cell_type": "markdown",
   "id": "fa82584b",
   "metadata": {},
   "source": [
    "### 내 풀이\n"
   ]
  },
  {
   "cell_type": "code",
   "execution_count": null,
   "id": "abe1aca4",
   "metadata": {},
   "outputs": [],
   "source": [
    "N = int(input())  # 원소의 개수 N 입력\n",
    "ls = list(map(int, input().split()))  # N개의 원소 입력\n",
    "\n",
    "dp = [1] * N\n",
    "cnt = 1\n",
    "\n",
    "for i in range(N):\n",
    "    for j in range(i):\n",
    "        if ls[i] > ls[j]:\n",
    "            dp[i] = max(dp[i], dp[j] + 1) \n",
    "            \n",
    "print(max(dp))"
   ]
  }
 ],
 "metadata": {
  "kernelspec": {
   "display_name": "Python 3 (ipykernel)",
   "language": "python",
   "name": "python3"
  },
  "language_info": {
   "codemirror_mode": {
    "name": "ipython",
    "version": 3
   },
   "file_extension": ".py",
   "mimetype": "text/x-python",
   "name": "python",
   "nbconvert_exporter": "python",
   "pygments_lexer": "ipython3",
   "version": "3.11.3"
  }
 },
 "nbformat": 4,
 "nbformat_minor": 5
}
