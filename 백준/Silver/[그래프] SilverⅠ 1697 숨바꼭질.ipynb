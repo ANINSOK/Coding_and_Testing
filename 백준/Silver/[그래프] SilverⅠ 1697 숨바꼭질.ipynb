{
 "cells": [
  {
   "attachments": {
    "image.png": {
     "image/png": "[encoded data removed]"
    }
   },
   "cell_type": "markdown",
   "id": "62cb6348",
   "metadata": {},
   "source": [
    "### [그래프] SilverⅠ 1697 숨바꼭질\n",
    "\n",
    "### 문제\n",
    "수빈이는 동생과 숨바꼭질을 하고 있다. 수빈이는 현재 점 N(0 ≤ N ≤ 100,000)에 있고, 동생은 점 K(0 ≤ K ≤ 100,000)에 있다. 수빈이는 걷거나 순간이동을 할 수 있다. 만약, 수빈이의 위치가 X일 때 걷는다면 1초 후에 X-1 또는 X+1로 이동하게 된다. 순간이동을 하는 경우에는 1초 후에 2*X의 위치로 이동하게 된다.\n",
    "\n",
    "수빈이와 동생의 위치가 주어졌을 때, 수빈이가 동생을 찾을 수 있는 가장 빠른 시간이 몇 초 후인지 구하는 프로그램을 작성하시오.\n",
    "\n",
    "### 입력\n",
    "첫 번째 줄에 수빈이가 있는 위치 N과 동생이 있는 위치 K가 주어진다. N과 K는 정수이다.\n",
    "\n",
    "### 출력\n",
    "수빈이가 동생을 찾는 가장 빠른 시간을 출력한다.\n",
    "\n",
    "### 입출력 예\n",
    "![image.png](attachment:image.png)\n"
   ]
  },
  {
   "cell_type": "markdown",
   "id": "fa82584b",
   "metadata": {},
   "source": [
    "### 내 풀이"
   ]
  },
  {
   "cell_type": "code",
   "execution_count": 6,
   "id": "9698a65c",
   "metadata": {},
   "outputs": [
    {
     "name": "stdout",
     "output_type": "stream",
     "text": [
      "4\n"
     ]
    }
   ],
   "source": [
    "from collections import deque\n",
    "\n",
    "def find_fastest_time(N, K):\n",
    "    visited = [False] * 100001 \n",
    "    queue = deque([(N, 0)])  # (현재 위치, 시간)을 저장\n",
    "\n",
    "    while queue:\n",
    "        current, time = queue.popleft()\n",
    "\n",
    "        if current == K:  # 동생을 찾았을 때\n",
    "            return time\n",
    "\n",
    "        # 순간이동 가능한 경우\n",
    "        if current * 2 <= 100000 and not visited[current * 2]:\n",
    "            visited[current * 2] = True\n",
    "            queue.append((current * 2, time + 1))\n",
    "\n",
    "        # 걷는 경우\n",
    "        for next_position in (current - 1, current + 1):\n",
    "            if 0 <= next_position <= 100000 and not visited[next_position]:\n",
    "                visited[next_position] = True\n",
    "                queue.append((next_position, time + 1))\n",
    "\n",
    "# 입력 받기\n",
    "N, K = map(int, input().split())\n",
    "\n",
    "result = find_fastest_time(N, K)\n",
    "print(result)"
   ]
  },
  {
   "cell_type": "code",
   "execution_count": null,
   "id": "d6197940",
   "metadata": {},
   "outputs": [],
   "source": [
    "from collections import deque\n",
    "\n",
    "def min_operations(N, K):\n",
    "    visited = set()  # 이미 방문한 숫자를 저장하는 집합\n",
    "    queue = deque([(N, 0)])  # (현재 숫자, 횟수)를 저장하는 큐\n",
    "\n",
    "    while queue:\n",
    "        current, count = queue.popleft()\n",
    "\n",
    "        if current == K:\n",
    "            return count\n",
    "\n",
    "        # 1을 더한 숫자를 큐에 추가\n",
    "        if current + 1 not in visited:\n",
    "            visited.add(current + 1)\n",
    "            queue.append((current + 1, count + 1))\n",
    "            \n",
    "        # 순간이동 가능한 경우\n",
    "        if current * 2 <= 100000 and not visited[current * 2]:\n",
    "            visited[current * 2] = True\n",
    "            queue.append((current * 2, time + 1))\n",
    "\n",
    "        # 1을 뺀 숫자를 큐에 추가\n",
    "        if current - 1 >= 0 and current - 1 not in visited:\n",
    "            visited.add(current - 1)\n",
    "            queue.append((current - 1, count + 1))\n",
    "\n",
    "        # 2를 곱한 숫자를 큐에 추가 (짝수일 때만 가능)\n",
    "        if current % 2 == 0 and current // 2 not in visited:\n",
    "            visited.add(current // 2)\n",
    "            queue.append((current // 2, count + 1))\n",
    "\n",
    "# 입력 받기\n",
    "N, K = map(int, input().split())\n",
    "\n",
    "# 최소 횟수 출력\n",
    "print(min_operations(N, K))\n"
   ]
  }
 ],
 "metadata": {
  "kernelspec": {
   "display_name": "Python 3 (ipykernel)",
   "language": "python",
   "name": "python3"
  },
  "language_info": {
   "codemirror_mode": {
    "name": "ipython",
    "version": 3
   },
   "file_extension": ".py",
   "mimetype": "text/x-python",
   "name": "python",
   "nbconvert_exporter": "python",
   "pygments_lexer": "ipython3",
   "version": "3.11.3"
  }
 },
 "nbformat": 4,
 "nbformat_minor": 5
}
