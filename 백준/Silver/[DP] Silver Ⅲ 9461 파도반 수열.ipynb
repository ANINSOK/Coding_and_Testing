{
 "cells": [
  {
   "cell_type": "markdown",
   "id": "6e133826",
   "metadata": {},
   "source": [
    "### [DP] Silver Ⅲ 9461 파도반 수열\n",
    "\n",
    "### 문제\n",
    "아 그림과 같이 삼각형이 나선 모양으로 놓여져 있다. 첫 삼각형은 정삼각형으로 변의 길이는 1이다. 그 다음에는 다음과 같은 과정으로 정삼각형을 계속 추가한다. 나선에서 가장 긴 변의 길이를 k라 했을 때, 그 변에 길이가 k인 정삼각형을 추가한다.\n",
    "\n",
    "![](https://velog.velcdn.com/images/inseok5053/post/b564cea1-9032-448a-a634-412582d11f44/image.png)\n",
    "\n",
    "파도반 수열 P(N)은 나선에 있는 정삼각형의 변의 길이이다. P(1)부터 P(10)까지 첫 10개 숫자는 1, 1, 1, 2, 2, 3, 4, 5, 7, 9이다.\n",
    "\n",
    "N이 주어졌을 때, P(N)을 구하는 프로그램을 작성하시오.\n",
    "\n",
    "\n",
    "### 입력\n",
    "첫째 줄에 테스트 케이스의 개수 T가 주어진다. 각 테스트 케이스는 한 줄로 이루어져 있고, N이 주어진다. (1 ≤ N ≤ 100)\n",
    "\n",
    "\n",
    "### 출력\n",
    "각 테스트 케이스마다 P(N)을 출력한다.\n",
    "\n",
    "### 입출력 예\n",
    "![](https://velog.velcdn.com/images/inseok5053/post/b0e13612-d857-4c1b-8a31-240e2f5ea81f/image.png)"
   ]
  },
  {
   "cell_type": "markdown",
   "id": "fa82584b",
   "metadata": {},
   "source": [
    "### 내 풀이"
   ]
  },
  {
   "cell_type": "code",
   "execution_count": 41,
   "id": "6afa04c2",
   "metadata": {},
   "outputs": [
    {
     "name": "stdout",
     "output_type": "stream",
     "text": [
      "2\n",
      "21\n",
      "37\n"
     ]
    }
   ],
   "source": [
    "# 파도반 수열을 저장하는 리스트 P를 초기화합니다.\n",
    "P = [1, 1, 1, 2, 2, 3, 4, 5, 7, 9]\n",
    "\n",
    "# P(N)을 계산하는 함수를 정의합니다.\n",
    "def find_p(N):\n",
    "    # 만약 P(N)을 이미 계산한 경우, 해당 값을 반환합니다.\n",
    "    if N < len(P):\n",
    "        return P[N]\n",
    "\n",
    "    # P(N)을 계산하기 위해 이전 값들을 활용합니다.\n",
    "    for i in range(len(P), N + 1):\n",
    "        P.append(P[i - 5] + P[i - 1])\n",
    "\n",
    "    return P[N]\n",
    "\n",
    "# 테스트 케이스의 개수 T를 입력 받습니다.\n",
    "T = int(input())\n",
    "\n",
    "# 각 테스트 케이스에 대해 P(N)을 출력합니다.\n",
    "for _ in range(T):\n",
    "    N = int(input())\n",
    "    result = find_p(N)\n",
    "    print(result)\n"
   ]
  }
 ],
 "metadata": {
  "kernelspec": {
   "display_name": "Python 3 (ipykernel)",
   "language": "python",
   "name": "python3"
  },
  "language_info": {
   "codemirror_mode": {
    "name": "ipython",
    "version": 3
   },
   "file_extension": ".py",
   "mimetype": "text/x-python",
   "name": "python",
   "nbconvert_exporter": "python",
   "pygments_lexer": "ipython3",
   "version": "3.11.3"
  }
 },
 "nbformat": 4,
 "nbformat_minor": 5
}
