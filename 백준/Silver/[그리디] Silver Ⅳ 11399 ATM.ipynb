{
 "cells": [
  {
   "cell_type": "markdown",
   "id": "6e133826",
   "metadata": {},
   "source": [
    "### [그리디] Silver Ⅳ 11399 ATM"
   ]
  },
  {
   "cell_type": "markdown",
   "id": "686132de",
   "metadata": {},
   "source": [
    "### 문제\n",
    "인하은행에는 ATM이 1대밖에 없다. 지금 이 ATM앞에 N명의 사람들이 줄을 서있다. 사람은 1번부터 N번까지 번호가 매겨져 있으며, i번 사람이 돈을 인출하는데 걸리는 시간은 Pi분이다.\n",
    "\n",
    "사람들이 줄을 서는 순서에 따라서, 돈을 인출하는데 필요한 시간의 합이 달라지게 된다. 예를 들어, 총 5명이 있고, P1 = 3, P2 = 1, P3 = 4, P4 = 3, P5 = 2 인 경우를 생각해보자. [1, 2, 3, 4, 5] 순서로 줄을 선다면, 1번 사람은 3분만에 돈을 뽑을 수 있다. 2번 사람은 1번 사람이 돈을 뽑을 때 까지 기다려야 하기 때문에, 3+1 = 4분이 걸리게 된다. 3번 사람은 1번, 2번 사람이 돈을 뽑을 때까지 기다려야 하기 때문에, 총 3+1+4 = 8분이 필요하게 된다. 4번 사람은 3+1+4+3 = 11분, 5번 사람은 3+1+4+3+2 = 13분이 걸리게 된다. 이 경우에 각 사람이 돈을 인출하는데 필요한 시간의 합은 3+4+8+11+13 = 39분이 된다.\n",
    "\n",
    "줄을 [2, 5, 1, 4, 3] 순서로 줄을 서면, 2번 사람은 1분만에, 5번 사람은 1+2 = 3분, 1번 사람은 1+2+3 = 6분, 4번 사람은 1+2+3+3 = 9분, 3번 사람은 1+2+3+3+4 = 13분이 걸리게 된다. 각 사람이 돈을 인출하는데 필요한 시간의 합은 1+3+6+9+13 = 32분이다. 이 방법보다 더 필요한 시간의 합을 최소로 만들 수는 없다.\n",
    "\n",
    "줄을 서 있는 사람의 수 N과 각 사람이 돈을 인출하는데 걸리는 시간 Pi가 주어졌을 때, 각 사람이 돈을 인출하는데 필요한 시간의 합의 최솟값을 구하는 프로그램을 작성하시오.\n",
    "\n",
    "### 입력\n",
    "\n",
    "첫째 줄에 사람의 수 N(1 ≤ N ≤ 1,000)이 주어진다. 둘째 줄에는 각 사람이 돈을 인출하는데 걸리는 시간 Pi가 주어진다. (1 ≤ Pi ≤ 1,000)\n",
    "\n",
    "### 출력\n",
    "\n",
    "첫째 줄에 각 사람이 돈을 인출하는데 필요한 시간의 합의 최솟값을 출력한다."
   ]
  },
  {
   "attachments": {
    "image.png": {
     "image/png": "[encoded data removed]"
    }
   },
   "cell_type": "markdown",
   "id": "7db1ab26",
   "metadata": {},
   "source": [
    "### 입출력 예\n",
    "\n",
    "![image.png](attachment:image.png)"
   ]
  },
  {
   "cell_type": "markdown",
   "id": "fa82584b",
   "metadata": {},
   "source": [
    "### 내 풀이"
   ]
  },
  {
   "cell_type": "code",
   "execution_count": 1,
   "id": "45d395d7",
   "metadata": {},
   "outputs": [],
   "source": [
    "import sys\n",
    "\n",
    "N = int(sys.stdin.readline())  # 사람 수 N명\n",
    "P = list(map(int, sys.stdin.readline().split()))  # 각 사람이 걸리는 시간(분)\n",
    "\n",
    "cnt = len(P)  # 각 분 마다 계산할 횟수\n",
    "total = 0     # 총 걸리는 시간\n",
    "\n",
    "# 시간이 적게 걸리는 사람부터 시작하여 처리하는 방식\n",
    "for i in sorted(P):  # 시간이 작은 순서대로 P 리스트를 정렬 후 반복문 시작\n",
    "    total += i * cnt  # 현재 시간 i에 대해 cnt만큼 곱한 값을 총 시간에 더함\n",
    "    cnt -= 1  # 계산할 횟수를 1 감소시킴 (시간이 적게 걸리는 사람부터 처리하므로)\n",
    "\n",
    "print(total)  # 최종 총 시간을 출력\n"
   ]
  },
  {
   "cell_type": "markdown",
   "id": "afbb605d",
   "metadata": {},
   "source": [
    "### 강의 내 풀이"
   ]
  },
  {
   "cell_type": "code",
   "execution_count": null,
   "id": "358e7b48",
   "metadata": {},
   "outputs": [],
   "source": [
    "import sys\n",
    "\n",
    "N = int(sys.stdin.readline())  # 사람 수 N명\n",
    "A = list(map(int, sys.stdin.readline().split()))  # 각 사람이 걸리는 시간(분)\n",
    "S = [0]*N\n",
    "\n",
    "for i in range(1, N):\n",
    "    insert_point = i\n",
    "    insert_value = A[i]\n",
    "    for j in range(i-1, -1, -1):\n",
    "        if A[j] < A[i]:\n",
    "            insert_point = j+1\n",
    "            break\n",
    "        if j == 0:\n",
    "            insert_point = 0\n",
    "    \n",
    "    for j in range(i, insert_point, -1):\n",
    "        A[j] = A[j-1]\n",
    "    A[insert_point] = insert_value\n",
    "    \n",
    "\n",
    "S[0] = A[0]\n",
    "\n",
    "for i in range(1, N):\n",
    "    S[i] = S[i-1] + A[i]\n",
    "    \n",
    "total = 0\n",
    "for i in range(0, N):\n",
    "    total += S[i]\n",
    "    \n",
    "print(total)"
   ]
  }
 ],
 "metadata": {
  "kernelspec": {
   "display_name": "Python 3 (ipykernel)",
   "language": "python",
   "name": "python3"
  },
  "language_info": {
   "codemirror_mode": {
    "name": "ipython",
    "version": 3
   },
   "file_extension": ".py",
   "mimetype": "text/x-python",
   "name": "python",
   "nbconvert_exporter": "python",
   "pygments_lexer": "ipython3",
   "version": "3.11.3"
  }
 },
 "nbformat": 4,
 "nbformat_minor": 5
}
