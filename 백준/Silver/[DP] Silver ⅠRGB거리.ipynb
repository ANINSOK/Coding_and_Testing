{
 "cells": [
  {
   "cell_type": "markdown",
   "id": "6e133826",
   "metadata": {},
   "source": [
    "### [DP] SilverⅠRGB거리\n",
    "\n",
    "### 문제\n",
    "RGB거리에는 집이 N개 있다. 거리는 선분으로 나타낼 수 있고, 1번 집부터 N번 집이 순서대로 있다.\n",
    "\n",
    "집은 빨강, 초록, 파랑 중 하나의 색으로 칠해야 한다. 각각의 집을 빨강, 초록, 파랑으로 칠하는 비용이 주어졌을 때, 아래 규칙을 만족하면서 모든 집을 칠하는 비용의 최솟값을 구해보자.\n",
    "\n",
    "1번 집의 색은 2번 집의 색과 같지 않아야 한다.\n",
    "N번 집의 색은 N-1번 집의 색과 같지 않아야 한다.\n",
    "i(2 ≤ i ≤ N-1)번 집의 색은 i-1번, i+1번 집의 색과 같지 않아야 한다.\n",
    "\n",
    "### 입력\n",
    "첫째 줄에 집의 수 N(2 ≤ N ≤ 1,000)이 주어진다. 둘째 줄부터 N개의 줄에는 각 집을 빨강, 초록, 파랑으로 칠하는 비용이 1번 집부터 한 줄에 하나씩 주어진다. 집을 칠하는 비용은 1,000보다 작거나 같은 자연수이다.\n",
    "\n",
    "### 출력\n",
    "첫째 줄에 모든 집을 칠하는 비용의 최솟값을 출력한다."
   ]
  },
  {
   "cell_type": "markdown",
   "id": "7db1ab26",
   "metadata": {},
   "source": [
    "### 입출력 예\n",
    "![Alt text](image.png)"
   ]
  },
  {
   "cell_type": "markdown",
   "id": "fa82584b",
   "metadata": {},
   "source": [
    "### 내 풀이"
   ]
  },
  {
   "cell_type": "code",
   "execution_count": null,
   "id": "65562e34",
   "metadata": {},
   "outputs": [],
   "source": [
    "n = int(input())\n",
    "cost = []\n",
    "\n",
    "for _ in range(n):\n",
    "    cost.append(list(map(int, input().split())))\n",
    "\n",
    "dp = [[0] * 3 for _ in range(n)]\n",
    "\n",
    "dp[0][0], dp[0][1], dp[0][2] = cost[0][0], cost[0][1], cost[0][2]\n",
    "\n",
    "for i in range(1, n):\n",
    "    dp[i][0] = cost[i][0] + min(dp[i-1][1], dp[i-1][2])\n",
    "    dp[i][1] = cost[i][1] + min(dp[i-1][0], dp[i-1][2])\n",
    "    dp[i][2] = cost[i][2] + min(dp[i-1][0], dp[i-1][1])\n",
    "    print(dp)\n",
    "\n",
    "print(min(dp[n-1]))\n"
   ]
  },
  {
   "cell_type": "code",
   "execution_count": 15,
   "id": "8fd63e8c",
   "metadata": {},
   "outputs": [
    {
     "name": "stdout",
     "output_type": "stream",
     "text": [
      "[[26, 40, 83], [0, 0, 0], [0, 0, 0]]\n",
      "[[26, 40, 83], [89, 86, 83], [0, 0, 0]]\n",
      "[[26, 40, 83], [89, 86, 83], [96, 172, 185]]\n",
      "96\n"
     ]
    }
   ],
   "source": [
    "n = int(input())    # 집 개수\n",
    "cost = [\n",
    "    [26, 40, 83],\n",
    "    [49, 60, 57],\n",
    "    [13, 89, 99]\n",
    "]\n",
    "    \n",
    "# D 배열을 초기화합니다. \n",
    "dp = [[0] * 3 for _ in range(n)]\n",
    "\n",
    "\n",
    "dp[0][0], dp[0][1], dp[0][2] = cost[0][0], cost[0][1], cost[0][2]\n",
    "\n",
    "for i in range(1, n):\n",
    "    dp[i][0] = cost[i][0] + min(dp[i-1][1], dp[i-1][2])\n",
    "    dp[i][1] = cost[i][1] + min(dp[i-1][0], dp[i-1][2])\n",
    "    dp[i][2] = cost[i][2] + min(dp[i-1][0], dp[i-1][1])\n",
    "    print(dp)\n",
    "print(min(dp[n-1]))"
   ]
  },
  {
   "cell_type": "code",
   "execution_count": null,
   "id": "c9d3618f",
   "metadata": {},
   "outputs": [],
   "source": []
  }
 ],
 "metadata": {
  "kernelspec": {
   "display_name": "Python 3 (ipykernel)",
   "language": "python",
   "name": "python3"
  },
  "language_info": {
   "codemirror_mode": {
    "name": "ipython",
    "version": 3
   },
   "file_extension": ".py",
   "mimetype": "text/x-python",
   "name": "python",
   "nbconvert_exporter": "python",
   "pygments_lexer": "ipython3",
   "version": "3.11.3"
  }
 },
 "nbformat": 4,
 "nbformat_minor": 5
}
