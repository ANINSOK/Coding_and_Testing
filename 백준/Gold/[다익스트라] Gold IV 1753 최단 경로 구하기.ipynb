{
 "cells": [
  {
   "cell_type": "markdown",
   "id": "6e133826",
   "metadata": {},
   "source": [
    "# [다익스트라] Gold IV 1753 최단 경로 구하기"
   ]
  },
  {
   "cell_type": "markdown",
   "id": "686132de",
   "metadata": {},
   "source": [
    "### 문제\n",
    "방향그래프가 주어지면 주어진 시작점에서 다른 모든 정점으로의 최단 경로를 구하는 프로그램을 작성하시오. 단, 모든 간선의 가중치는 10 이하의 자연수이다.\n",
    "\n",
    "### 입력\n",
    "첫째 줄에 정점의 개수 V와 간선의 개수 E가 주어진다. (1 ≤ V ≤ 20,000, 1 ≤ E ≤ 300,000) 모든 정점에는 1부터 V까지 번호가 매겨져 있다고 가정한다. 둘째 줄에는 시작 정점의 번호 K(1 ≤ K ≤ V)가 주어진다. 셋째 줄부터 E개의 줄에 걸쳐 각 간선을 나타내는 세 개의 정수 (u, v, w)가 순서대로 주어진다. 이는 u에서 v로 가는 가중치 w인 간선이 존재한다는 뜻이다. u와 v는 서로 다르며 w는 10 이하의 자연수이다. 서로 다른 두 정점 사이에 여러 개의 간선이 존재할 수도 있음에 유의한다.\n",
    "\n",
    "### 출력\n",
    "첫째 줄부터 V개의 줄에 걸쳐, i번째 줄에 i번 정점으로의 최단 경로의 경로값을 출력한다. 시작점 자신은 0으로 출력하고, 경로가 존재하지 않는 경우에는 INF를 출력하면 된다."
   ]
  },
  {
   "attachments": {
    "image.png": {
     "image/png": "[encoded data removed]"
    }
   },
   "cell_type": "markdown",
   "id": "7db1ab26",
   "metadata": {},
   "source": [
    "### 입출력 예\n",
    "\n",
    "![image.png](attachment:image.png)"
   ]
  },
  {
   "cell_type": "markdown",
   "id": "fa82584b",
   "metadata": {},
   "source": [
    "### 내 풀이"
   ]
  },
  {
   "cell_type": "code",
   "execution_count": 9,
   "id": "af5f4ae2",
   "metadata": {},
   "outputs": [],
   "source": [
    "import sys\n",
    "from queue import PriorityQueue\n",
    "\n",
    "V, E = map(int, sys.stdin.readline().split()) # 노드개수, 에지개\n",
    "K = int(input())      # 시작 노드\n",
    "distance = [sys.maxsize]*(V+1)\n",
    "visited = [False] * (V+1)\n",
    "myList = [[] for _ in range(V+1)]\n",
    "q = PriorityQueue()\n",
    "\n",
    "for _ in range(E):\n",
    "    u, v, w = map(int, sys.stdin.readline().split())\n",
    "    myList[u].append((v, w))\n",
    "    \n",
    "q.put((0,K))\n",
    "distance[K] = 0\n",
    "\n",
    "while q.qsize() > 0:\n",
    "    current = q.get()\n",
    "    c_v = current[1]\n",
    "    if visited[c_v]:\n",
    "        continue\n",
    "    visited[c_v] = True\n",
    "    for tmp in myList[c_v]:\n",
    "        next = tmp[0]\n",
    "        value = tmp[1]\n",
    "        if distance[next] > distance[c_v] + value:\n",
    "            distance[next] = distance[c_v] + value\n",
    "            q.put((distance[next], next))\n",
    "            \n",
    "for i in range(1, V+1):\n",
    "    if distance[i] != sys.maxsize:\n",
    "        print(distance[i])\n",
    "    else:\n",
    "        print('INF')"
   ]
  },
  {
   "cell_type": "code",
   "execution_count": null,
   "id": "25f6ee74",
   "metadata": {},
   "outputs": [],
   "source": []
  },
  {
   "cell_type": "markdown",
   "id": "600dc030",
   "metadata": {},
   "source": [
    "### 지피티는 이렇게 풀더라"
   ]
  },
  {
   "cell_type": "code",
   "execution_count": null,
   "id": "45a11345",
   "metadata": {},
   "outputs": [],
   "source": [
    "import heapq\n",
    "import sys\n",
    "\n",
    "# 다익스트라 알고리즘을 사용하여 최단 경로를 찾는 함수\n",
    "def dijkstra(graph, start):\n",
    "    distances = {node: float('inf') for node in graph}  # 시작 정점으로부터의 거리를 저장하는 딕셔너리\n",
    "    distances[start] = 0  # 시작 정점의 거리는 0\n",
    "    queue = [(0, start)]  # 우선순위 큐를 사용하여 방문할 정점과 거리를 저장하는 리스트\n",
    "\n",
    "    while queue:\n",
    "        current_distance, current_node = heapq.heappop(queue)  # 가장 가까운 정점과 그 거리를 가져옴\n",
    "\n",
    "        if current_distance > distances[current_node]:\n",
    "            continue  # 이미 처리된 정점이라면 스킵\n",
    "\n",
    "        for neighbor, weight in graph[current_node].items():\n",
    "            distance = current_distance + weight\n",
    "            if distance < distances[neighbor]:  # 현재 경로가 더 짧다면 갱신\n",
    "                distances[neighbor] = distance\n",
    "                heapq.heappush(queue, (distance, neighbor))  # 다음 정점을 위해 큐에 추가\n",
    "\n",
    "    return distances\n",
    "\n",
    "# 정점 개수(V), 간선 개수(E) 입력\n",
    "V, E = map(int, input().split())\n",
    "start = int(input())  # 시작 정점 번호 입력\n",
    "graph = {i: {} for i in range(1, V + 1)}  # 각 정점마다 인접한 정점과 가중치를 저장하는 그래프\n",
    "\n",
    "# 간선 정보 입력 및 그래프 구성\n",
    "for _ in range(E):\n",
    "    u, v, w = map(int, input().split())  # u에서 v로 가는 가중치 w의 간선\n",
    "    if v in graph[u]:\n",
    "        graph[u][v] = min(graph[u][v], w)  # 이미 저장된 간선이 있다면 더 작은 가중치로 업데이트\n",
    "    else:\n",
    "        graph[u][v] = w  # 처음 보는 간선이라면 가중치 저장\n",
    "\n",
    "# 다익스트라 알고리즘을 통해 최단 경로 계산\n",
    "distances = dijkstra(graph, start)\n",
    "\n",
    "# 결과 출력\n",
    "for i in range(1, V + 1):\n",
    "    if distances[i] == float('inf'):\n",
    "        print(\"INF\")  # 시작 정점으로부터 도달할 수 없는 경우\n",
    "    else:\n",
    "        print(distances[i])  # 최단 거리 출력\n"
   ]
  }
 ],
 "metadata": {
  "kernelspec": {
   "display_name": "Python 3 (ipykernel)",
   "language": "python",
   "name": "python3"
  },
  "language_info": {
   "codemirror_mode": {
    "name": "ipython",
    "version": 3
   },
   "file_extension": ".py",
   "mimetype": "text/x-python",
   "name": "python",
   "nbconvert_exporter": "python",
   "pygments_lexer": "ipython3",
   "version": "3.11.3"
  }
 },
 "nbformat": 4,
 "nbformat_minor": 5
}
