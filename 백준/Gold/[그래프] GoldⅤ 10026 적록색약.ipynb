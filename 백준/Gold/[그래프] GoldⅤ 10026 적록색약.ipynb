{
 "cells": [
  {
   "cell_type": "markdown",
   "id": "686132de",
   "metadata": {},
   "source": [
    "### [그래프] GoldⅤ 10026 적록색약\n",
    "\n",
    "### 문제\n",
    "적록색약은 빨간색과 초록색의 차이를 거의 느끼지 못한다. 따라서, 적록색약인 사람이 보는 그림은 아닌 사람이 보는 그림과는 좀 다를 수 있다.\n",
    "\n",
    "크기가 N×N인 그리드의 각 칸에 R(빨강), G(초록), B(파랑) 중 하나를 색칠한 그림이 있다. 그림은 몇 개의 구역으로 나뉘어져 있는데, 구역은 같은 색으로 이루어져 있다. 또, 같은 색상이 상하좌우로 인접해 있는 경우에 두 글자는 같은 구역에 속한다. (색상의 차이를 거의 느끼지 못하는 경우도 같은 색상이라 한다)\n",
    "\n",
    "예를 들어, 그림이 아래와 같은 경우에\n",
    "```\n",
    "RRRBB\n",
    "GGBBB\n",
    "BBBRR\n",
    "BBRRR\n",
    "RRRRR\n",
    "```\n",
    "\n",
    "적록색약이 아닌 사람이 봤을 때 구역의 수는 총 4개이다. (빨강 2, 파랑 1, 초록 1) 하지만, 적록색약인 사람은 구역을 3개 볼 수 있다. (빨강-초록 2, 파랑 1)\n",
    "\n",
    "그림이 입력으로 주어졌을 때, 적록색약인 사람이 봤을 때와 아닌 사람이 봤을 때 구역의 수를 구하는 프로그램을 작성하시오.\n",
    "\n",
    "### 입력\n",
    "첫째 줄에 N이 주어진다. (1 ≤ N ≤ 100)\n",
    "\n",
    "둘째 줄부터 N개 줄에는 그림이 주어진다.\n",
    "\n",
    "### 출력\n",
    "적록색약이 아닌 사람이 봤을 때의 구역의 개수와 적록색약인 사람이 봤을 때의 구역의 수를 공백으로 구분해 출력한다."
   ]
  },
  {
   "attachments": {
    "image.png": {
     "image/png": "[encoded data removed]"
    }
   },
   "cell_type": "markdown",
   "id": "7db1ab26",
   "metadata": {},
   "source": [
    "### 입출력 예\n",
    "\n",
    "![image.png](attachment:image.png)"
   ]
  },
  {
   "cell_type": "markdown",
   "id": "fa82584b",
   "metadata": {},
   "source": [
    "### 내 풀이"
   ]
  },
  {
   "cell_type": "code",
   "execution_count": 1,
   "id": "af5f4ae2",
   "metadata": {},
   "outputs": [],
   "source": [
    "import sys\n",
    "sys.setrecursionlimit(1000000)\n",
    "input = sys.stdin.readline\n",
    "\n",
    "def dfs(x, y):\n",
    "    dx = [-1,1,0,0]\n",
    "    dy = [0,0,-1,1]\n",
    "    visited[x][y] = True\n",
    "    current_color = picture[x][y]\n",
    "    \n",
    "    for k in range(4):\n",
    "        nx = x + dx[k]\n",
    "        ny = y + dy[k]\n",
    "        if (0 <= nx < N) and (0 <= ny < N):\n",
    "            #현재 좌표의 색상과 상하좌우 좌표에 있는 색상이 같으면 dfs로 넣어준다.\n",
    "            if visited[nx][ny]==False:\n",
    "                if picture[nx][ny] == current_color:\n",
    "                    dfs(nx,ny)\n",
    "\n",
    "N = int(input())\n",
    "\n",
    "# 일반인이 보는 그림\n",
    "cnt1 = 0\n",
    "picture = [] \n",
    "visited = [[False]*N for _ in range(N)]\n",
    "for _ in range(N):\n",
    "    picture.append(list(map(str, input().strip())))\n",
    "\n",
    "for i in range(N):\n",
    "    for j in range(N):\n",
    "        if visited[i][j] == False:\n",
    "            dfs(i, j)\n",
    "            cnt1 += 1\n",
    "\n",
    "# 적녹색약이 보는 그림\n",
    "cnt2 = 0\n",
    "visited = [[False]*N for _ in range(N)]\n",
    "\n",
    "for i in range(N):\n",
    "    for j in range(N):\n",
    "        if picture[i][j]=='R':\n",
    "            picture[i][j]='G'\n",
    "            \n",
    "for i in range(N):\n",
    "    for j in range(N):\n",
    "        if visited[i][j] == False:\n",
    "            dfs(i, j)\n",
    "            cnt2 += 1\n",
    "            \n",
    "print(cnt1, cnt2)"
   ]
  }
 ],
 "metadata": {
  "kernelspec": {
   "display_name": "Python 3 (ipykernel)",
   "language": "python",
   "name": "python3"
  },
  "language_info": {
   "codemirror_mode": {
    "name": "ipython",
    "version": 3
   },
   "file_extension": ".py",
   "mimetype": "text/x-python",
   "name": "python",
   "nbconvert_exporter": "python",
   "pygments_lexer": "ipython3",
   "version": "3.11.3"
  }
 },
 "nbformat": 4,
 "nbformat_minor": 5
}
