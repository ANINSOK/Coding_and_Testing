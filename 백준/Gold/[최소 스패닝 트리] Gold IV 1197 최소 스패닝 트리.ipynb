{
 "cells": [
  {
   "cell_type": "markdown",
   "id": "686132de",
   "metadata": {},
   "source": [
    "### [최소 스패닝 트리] Gold IV 1197 최소 스패닝 트리\n",
    "\n",
    "### 문제\n",
    "그래프가 주어졌을 때, 그 그래프의 최소 스패닝 트리를 구하는 프로그램을 작성하시오.\n",
    "\n",
    "최소 스패닝 트리는, 주어진 그래프의 모든 정점들을 연결하는 부분 그래프 중에서 그 가중치의 합이 최소인 트리를 말한다.\n",
    "\n",
    "### 입력\n",
    "첫째 줄에 정점의 개수 V(1 ≤ V ≤ 10,000)와 간선의 개수 E(1 ≤ E ≤ 100,000)가 주어진다. 다음 E개의 줄에는 각 간선에 대한 정보를 나타내는 세 정수 A, B, C가 주어진다. 이는 A번 정점과 B번 정점이 가중치 C인 간선으로 연결되어 있다는 의미이다. C는 음수일 수도 있으며, 절댓값이 1,000,000을 넘지 않는다.\n",
    "\n",
    "그래프의 정점은 1번부터 V번까지 번호가 매겨져 있고, 임의의 두 정점 사이에 경로가 있다. 최소 스패닝 트리의 가중치가 -2,147,483,648보다 크거나 같고, 2,147,483,647보다 작거나 같은 데이터만 입력으로 주어진다.\n",
    "\n",
    "### 출력\n",
    "첫째 줄에 최소 스패닝 트리의 가중치를 출력한다."
   ]
  },
  {
   "attachments": {
    "image-2.png": {
     "image/png": "[encoded data removed]"
    }
   },
   "cell_type": "markdown",
   "id": "7db1ab26",
   "metadata": {},
   "source": [
    "### 입출력 예\n",
    "\n",
    "![image-2.png](attachment:image-2.png)"
   ]
  },
  {
   "cell_type": "markdown",
   "id": "fa82584b",
   "metadata": {},
   "source": [
    "### 내 풀이"
   ]
  },
  {
   "cell_type": "code",
   "execution_count": 1,
   "id": "af5f4ae2",
   "metadata": {},
   "outputs": [],
   "source": [
    "import sys\n",
    "from queue import PriorityQueue\n",
    "\n",
    "input = sys.stdin.readline\n",
    "N, M = map(int, input().split())\n",
    "\n",
    "# 우선순위 큐를 사용하여 간선 정보를 저장\n",
    "pq = PriorityQueue()\n",
    "\n",
    "# 각 노드의 부모 노드 초기화\n",
    "parent = [0] * (N + 1)\n",
    "for i in range(N + 1):\n",
    "    parent[i] = i\n",
    "\n",
    "# 간선 정보 입력 및 우선순위 큐에 삽입\n",
    "for i in range(M):\n",
    "    s, e, w = map(int, input().split())\n",
    "    pq.put((w, s, e))  # 가중치를 기준으로 정렬하기 위해 가중치를 맨 앞에 놓음\n",
    "\n",
    "# 특정 노드의 부모 노드 찾기 함수\n",
    "def find(a):\n",
    "    if a == parent[a]:\n",
    "        return a\n",
    "    else:\n",
    "        parent[a] = find(parent[a])  # 경로 압축을 위해 부모 노드를 찾으면서 갱신\n",
    "        return parent[a]\n",
    "\n",
    "# 두 노드를 연결하는 함수\n",
    "def union(a, b):\n",
    "    a = find(a)\n",
    "    b = find(b)\n",
    "    if a != b:  # 사이클이 생성되지 않으면 두 노드 연결\n",
    "        parent[b] = a\n",
    "\n",
    "useEdge = 0  # 사용한 간선 수 초기화\n",
    "result = 0   # 결과값 초기화\n",
    "\n",
    "# 크루스칼 알고리즘 수행\n",
    "while useEdge < N - 1:  # 사용한 간선이 N-1개가 될 때까지 반복\n",
    "    w, s, e = pq.get()  # 가중치가 가장 작은 간선 정보 추출\n",
    "    if find(s) != find(e):  # 두 노드의 부모가 다르다면 사이클 생성하지 않는다는 의미\n",
    "        union(s, e)  # 두 노드 연결\n",
    "        result += w  # 결과값에 가중치 추가\n",
    "        useEdge += 1  # 사용한 간선 수 증가\n",
    "\n",
    "print(result)  # 최소 스패닝 트리의 가중치 합 출력\n"
   ]
  },
  {
   "cell_type": "markdown",
   "id": "600dc030",
   "metadata": {},
   "source": [
    "### 지피티는 이렇게 풀더라"
   ]
  },
  {
   "cell_type": "code",
   "execution_count": null,
   "id": "45a11345",
   "metadata": {},
   "outputs": [],
   "source": [
    "import sys\n",
    "from queue import PriorityQueue\n",
    "\n",
    "input = sys.stdin.readline\n",
    "\n",
    "V, E = map(int, input().split())\n",
    "\n",
    "# 우선순위 큐를 사용하여 간선 정보 저장\n",
    "pq = PriorityQueue()\n",
    "\n",
    "# 간선 정보 입력 및 우선순위 큐에 삽입\n",
    "for _ in range(E):\n",
    "    a, b, c = map(int, input().split())\n",
    "    pq.put((c, a, b))  # 가중치를 기준으로 정렬하기 위해 가중치를 맨 앞에 놓음\n",
    "\n",
    "parent = [i for i in range(V + 1)]  # 각 노드의 부모 노드 초기화\n",
    "\n",
    "# 특정 노드의 부모 노드 찾기 함수\n",
    "def find(a):\n",
    "    if a == parent[a]:\n",
    "        return a\n",
    "    else:\n",
    "        parent[a] = find(parent[a])  # 경로 압축을 위해 부모 노드를 찾으면서 갱신\n",
    "        return parent[a]\n",
    "\n",
    "# 두 노드를 연결하는 함수\n",
    "def union(a, b):\n",
    "    a = find(a)\n",
    "    b = find(b)\n",
    "    if a != b:  # 사이클이 생성되지 않으면 두 노드 연결\n",
    "        parent[b] = a\n",
    "\n",
    "mst_weight = 0  # MST의 가중치 합 초기화\n",
    "\n",
    "# 크루스칼 알고리즘 수행\n",
    "while not pq.empty():\n",
    "    w, a, b = pq.get()  # 가중치가 가장 작은 간선 정보 추출\n",
    "    if find(a) != find(b):  # 두 노드의 부모가 다르다면 사이클 생성하지 않는다는 의미\n",
    "        union(a, b)  # 두 노드 연결\n",
    "        mst_weight += w  # MST의 가중치에 더함\n",
    "\n",
    "print(mst_weight)  # 최소 스패닝 트리의 가중치 합 출력\n"
   ]
  }
 ],
 "metadata": {
  "kernelspec": {
   "display_name": "Python 3 (ipykernel)",
   "language": "python",
   "name": "python3"
  },
  "language_info": {
   "codemirror_mode": {
    "name": "ipython",
    "version": 3
   },
   "file_extension": ".py",
   "mimetype": "text/x-python",
   "name": "python",
   "nbconvert_exporter": "python",
   "pygments_lexer": "ipython3",
   "version": "3.11.3"
  }
 },
 "nbformat": 4,
 "nbformat_minor": 5
}
