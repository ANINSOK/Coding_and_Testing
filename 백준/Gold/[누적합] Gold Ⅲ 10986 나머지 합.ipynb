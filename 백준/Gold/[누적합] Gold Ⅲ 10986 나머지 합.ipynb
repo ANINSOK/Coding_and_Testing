{
 "cells": [
  {
   "cell_type": "markdown",
   "id": "6e133826",
   "metadata": {},
   "source": [
    "### [누적합] Gold Ⅲ 10986 나머지 합"
   ]
  },
  {
   "cell_type": "markdown",
   "id": "686132de",
   "metadata": {},
   "source": [
    "### 문제 설명\n",
    "수 N개 A1, A2, ..., AN이 주어진다. 이때, 연속된 부분 구간의 합이 M으로 나누어 떨어지는 구간의 개수를 구하는 프로그램을 작성하시오.\n",
    "\n",
    "즉, Ai + ... + Aj (i ≤ j) 의 합이 M으로 나누어 떨어지는 (i, j) 쌍의 개수를 구해야 한다.\n",
    "\n",
    "### 입력\n",
    "\n",
    "첫째 줄에 N과 M이 주어진다. (1 ≤ N ≤ 106, 2 ≤ M ≤ 103)\n",
    "\n",
    "둘째 줄에 N개의 수 A1, A2, ..., AN이 주어진다. (0 ≤ Ai ≤ 109)\n",
    "\n",
    "### 출력\n",
    "\n",
    "첫째 줄에 연속된 부분 구간의 합이 M으로 나누어 떨어지는 구간의 개수를 출력한다."
   ]
  },
  {
   "attachments": {
    "image.png": {
     "image/png": "[encoded data removed]"
    }
   },
   "cell_type": "markdown",
   "id": "7db1ab26",
   "metadata": {},
   "source": [
    "### 입출력 예\n",
    "\n",
    "![image.png](attachment:image.png)"
   ]
  },
  {
   "cell_type": "markdown",
   "id": "fa82584b",
   "metadata": {},
   "source": [
    "### 내 풀이"
   ]
  },
  {
   "cell_type": "code",
   "execution_count": 1,
   "id": "5d10cd07",
   "metadata": {},
   "outputs": [],
   "source": [
    "# 백준 제출 코드\n",
    "# (a+b)/c는 ((a/c) + (b/c))/c 와 같다. <--- 이걸 어떻게 생각하냐고요~~~\n",
    "\n",
    "import sys\n",
    "\n",
    "N, M = map(int, sys.stdin.readline().split())  # N: N개의 수, M: 어떤 구간이 M으로 나누어떨어지는가?\n",
    "arr = list(map(int, sys.stdin.readline().split()))\n",
    "prefix_sum = [0]*N      # 누적합\n",
    "cnt = [0]*M             # M으로 나눈 나머지의 갯수를 세는 수\n",
    "ans = 0                 # 최종 결과\n",
    "\n",
    "prefix_sum[0] = arr[0]\n",
    "\n",
    "for i in range(1, N):\n",
    "    prefix_sum[i] = prefix_sum[i-1] + arr[i]  \n",
    "\n",
    "for i in range(N): \n",
    "    remainder = prefix_sum[i] % M\n",
    "    cnt[remainder] += 1\n",
    "\n",
    "for i in range(M):\n",
    "    ans += (cnt[i] * (cnt[i] - 1) // 2)\n",
    "    \n",
    "ans += cnt[0]\n",
    "\n",
    "print(ans)"
   ]
  },
  {
   "cell_type": "code",
   "execution_count": null,
   "id": "8ee1802d",
   "metadata": {},
   "outputs": [],
   "source": [
    "# combinations써보고 싶어서... 작성해봤지만...\n",
    "# 역시나 시간초과다\n",
    "import sys\n",
    "from itertools import combinations\n",
    "\n",
    "N, M = map(int, sys.stdin.readline().split())  # N: N개의 수, M: 어떤 구간이 M으로 나누어떨어지는가?\n",
    "arr = list(map(int, sys.stdin.readline().split()))\n",
    "prefix_sum = [0]*N      # 누적합\n",
    "cnt = [0]*M             # M으로 나눈 나머지의 갯수를 세는 수\n",
    "ans = 0                 # 최종 결과\n",
    "\n",
    "prefix_sum[0] = arr[0]\n",
    "\n",
    "for i in range(1, N):\n",
    "    prefix_sum[i] = prefix_sum[i-1] + arr[i]  \n",
    "\n",
    "for i in range(N): \n",
    "    remainder = prefix_sum[i] % M\n",
    "    # if reminder == 0:\n",
    "        # ans += 1\n",
    "    cnt[remainder] += 1\n",
    "    \n",
    "for i in cnt:\n",
    "    ls = list(range(i))\n",
    "    combs = combinations(ls, 2)\n",
    "\n",
    "    for i in combs:\n",
    "        ans += len(i)\n",
    "\n",
    "print(ans)"
   ]
  },
  {
   "cell_type": "markdown",
   "id": "efe2a874",
   "metadata": {},
   "source": [
    "### 슈도코드\n",
    "- N: 입력받기(수열의 개수)\n",
    "\n",
    "- M: 입력받기(나누어 떨어져야 하는 수)\n",
    "\n",
    "- arr: 입력받기(원본 수열 저장 리스트)\n",
    "\n",
    "- prefix_sum: 선언하기(누적합)\n",
    "\n",
    "- prefix_sum_mod: 선언하기(같은 나머지의 인덱스를 카운트하는 리스트)\n",
    "\n",
    "- ans: 선언하기(정답 변수)"
   ]
  },
  {
   "cell_type": "markdown",
   "id": "bb631cac",
   "metadata": {},
   "source": [
    "### 강의 내 풀이"
   ]
  },
  {
   "cell_type": "code",
   "execution_count": 37,
   "id": "3cab356c",
   "metadata": {},
   "outputs": [],
   "source": [
    "# (a+b)/c는 ((a/c) + (b/c))/c 와 같다.\n",
    "import sys\n",
    "\n",
    "N, M = map(int, sys.stdin.readline().split()) \n",
    "arr = list(map(int, sys.stdin.readline().split()))\n",
    "S = [0] * N\n",
    "C = [0] * M\n",
    "ans = 0\n",
    "\n",
    "S[0] = arr[0]\n",
    "\n",
    "for i in range(1, N):\n",
    "    S[i] = S[i-1] + arr[i]  # 수정된 부분\n",
    "\n",
    "for i in range(N):  # 수정된 부분\n",
    "    reminder = S[i] % M\n",
    "    if reminder == 0:\n",
    "        ans += 1\n",
    "    C[reminder] += 1\n",
    "\n",
    "for i in range(M):\n",
    "    if C[i] > 1:\n",
    "        ans += (C[i] * (C[i] - 1) // 2)  # 수정된 부분\n",
    "\n",
    "print(ans)\n"
   ]
  }
 ],
 "metadata": {
  "kernelspec": {
   "display_name": "Python 3 (ipykernel)",
   "language": "python",
   "name": "python3"
  },
  "language_info": {
   "codemirror_mode": {
    "name": "ipython",
    "version": 3
   },
   "file_extension": ".py",
   "mimetype": "text/x-python",
   "name": "python",
   "nbconvert_exporter": "python",
   "pygments_lexer": "ipython3",
   "version": "3.11.3"
  }
 },
 "nbformat": 4,
 "nbformat_minor": 5
}
