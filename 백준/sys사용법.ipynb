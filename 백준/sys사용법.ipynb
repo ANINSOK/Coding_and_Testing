{
 "cells": [
  {
   "cell_type": "code",
   "execution_count": null,
   "id": "939ef90b",
   "metadata": {},
   "outputs": [],
   "source": [
    "3-1.한 개의 정수를 입력받을 때\n",
    "import sys\n",
    "a= map(int, sys.stdin.readline())"
   ]
  },
  {
   "cell_type": "code",
   "execution_count": null,
   "id": "611c6537",
   "metadata": {},
   "outputs": [],
   "source": [
    "3-2.정해진 개수의 정수를 한줄에 입력받을 때\n",
    "import sys\n",
    "a,b,c = map(int, sys.stdin.readline().split())"
   ]
  },
  {
   "cell_type": "code",
   "execution_count": null,
   "id": "0d59317e",
   "metadata": {},
   "outputs": [],
   "source": [
    "3-3.임의의 개수의 정수를 한줄에 입력받아 리스트에 저장할 때\n",
    "import sys\n",
    "ls = map(list(sys.stdin.readline().split()))"
   ]
  },
  {
   "cell_type": "code",
   "execution_count": null,
   "id": "f1478e80",
   "metadata": {},
   "outputs": [],
   "source": [
    "3-4.임의의 개수의 정수를 n줄 입력받아 2차원 리스트에 저장할 때\n",
    "import sys\n",
    "ls = [ ]\n",
    "n = int(sys.stdin.readline())\n",
    "for i in range(n):\n",
    "ls.append(list(map(int,sys.stdin.readline().split())))"
   ]
  },
  {
   "cell_type": "code",
   "execution_count": null,
   "id": "c7e48af6",
   "metadata": {},
   "outputs": [],
   "source": [
    "3-5. 문자열 n줄을 입력받아 리스트에 저장할 때\n",
    "import sys\n",
    "n = list(sys.stdin.readline())\n",
    "data = [sys.stdin.readline().strip() for i in range (n)]"
   ]
  }
 ],
 "metadata": {
  "kernelspec": {
   "display_name": "Python 3 (ipykernel)",
   "language": "python",
   "name": "python3"
  },
  "language_info": {
   "codemirror_mode": {
    "name": "ipython",
    "version": 3
   },
   "file_extension": ".py",
   "mimetype": "text/x-python",
   "name": "python",
   "nbconvert_exporter": "python",
   "pygments_lexer": "ipython3",
   "version": "3.11.3"
  }
 },
 "nbformat": 4,
 "nbformat_minor": 5
}
